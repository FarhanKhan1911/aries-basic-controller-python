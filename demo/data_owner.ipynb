{
 "cells": [
  {
   "cell_type": "code",
   "execution_count": 1,
   "metadata": {},
   "outputs": [
    {
     "name": "stdout",
     "output_type": "stream",
     "text": [
      "Requirement already satisfied: aiohttp~=3.6.2 in /opt/conda/lib/python3.7/site-packages (3.6.2)\n",
      "Requirement already satisfied: multidict<5.0,>=4.5 in /opt/conda/lib/python3.7/site-packages (from aiohttp~=3.6.2) (4.7.6)\n",
      "Requirement already satisfied: attrs>=17.3.0 in /opt/conda/lib/python3.7/site-packages (from aiohttp~=3.6.2) (19.3.0)\n",
      "Requirement already satisfied: yarl<2.0,>=1.0 in /opt/conda/lib/python3.7/site-packages (from aiohttp~=3.6.2) (1.4.2)\n",
      "Requirement already satisfied: async-timeout<4.0,>=3.0 in /opt/conda/lib/python3.7/site-packages (from aiohttp~=3.6.2) (3.0.1)\n",
      "Requirement already satisfied: chardet<4.0,>=2.0 in /opt/conda/lib/python3.7/site-packages (from aiohttp~=3.6.2) (3.0.4)\n",
      "Requirement already satisfied: idna>=2.0 in /opt/conda/lib/python3.7/site-packages (from yarl<2.0,>=1.0->aiohttp~=3.6.2) (2.8)\n"
     ]
    }
   ],
   "source": [
    "!pip install aiohttp~=3.6.2"
   ]
  },
  {
   "cell_type": "code",
   "execution_count": 2,
   "metadata": {},
   "outputs": [
    {
     "name": "stdout",
     "output_type": "stream",
     "text": [
      "Requirement already satisfied: PyPubSub in /opt/conda/lib/python3.7/site-packages (4.0.3)\r\n"
     ]
    }
   ],
   "source": [
    "!pip install PyPubSub"
   ]
  },
  {
   "cell_type": "code",
   "execution_count": 3,
   "metadata": {},
   "outputs": [
    {
     "name": "stdout",
     "output_type": "stream",
     "text": [
      "Requirement already satisfied: asyncio in /opt/conda/lib/python3.7/site-packages (3.4.3)\r\n"
     ]
    }
   ],
   "source": [
    "!pip install asyncio"
   ]
  },
  {
   "cell_type": "code",
   "execution_count": 4,
   "metadata": {},
   "outputs": [
    {
     "name": "stdout",
     "output_type": "stream",
     "text": [
      "Looking in indexes: https://test.pypi.org/simple/\n",
      "Requirement already satisfied: aries_basic_controller in /opt/conda/lib/python3.7/site-packages (0.0.1)\n",
      "Requirement already satisfied: aiohttp~=3.6.2 in /opt/conda/lib/python3.7/site-packages (from aries_basic_controller) (3.6.2)\n",
      "Requirement already satisfied: pygments in /opt/conda/lib/python3.7/site-packages (from aries_basic_controller) (2.6.1)\n",
      "Requirement already satisfied: PyPubSub in /opt/conda/lib/python3.7/site-packages (from aries_basic_controller) (4.0.3)\n",
      "Requirement already satisfied: prompt-toolkit in /opt/conda/lib/python3.7/site-packages (from aries_basic_controller) (3.0.5)\n",
      "Requirement already satisfied: asyncio in /opt/conda/lib/python3.7/site-packages (from aries_basic_controller) (3.4.3)\n",
      "Requirement already satisfied: python-dotenv in /opt/conda/lib/python3.7/site-packages (from aries_basic_controller) (0.10.2.post2)\n",
      "Requirement already satisfied: chardet<4.0,>=2.0 in /opt/conda/lib/python3.7/site-packages (from aiohttp~=3.6.2->aries_basic_controller) (3.0.4)\n",
      "Requirement already satisfied: yarl<2.0,>=1.0 in /opt/conda/lib/python3.7/site-packages (from aiohttp~=3.6.2->aries_basic_controller) (1.4.2)\n",
      "Requirement already satisfied: attrs>=17.3.0 in /opt/conda/lib/python3.7/site-packages (from aiohttp~=3.6.2->aries_basic_controller) (19.3.0)\n",
      "Requirement already satisfied: async-timeout<4.0,>=3.0 in /opt/conda/lib/python3.7/site-packages (from aiohttp~=3.6.2->aries_basic_controller) (3.0.1)\n",
      "Requirement already satisfied: multidict<5.0,>=4.5 in /opt/conda/lib/python3.7/site-packages (from aiohttp~=3.6.2->aries_basic_controller) (4.7.6)\n",
      "Requirement already satisfied: wcwidth in /opt/conda/lib/python3.7/site-packages (from prompt-toolkit->aries_basic_controller) (0.2.4)\n",
      "Requirement already satisfied: idna>=2.0 in /opt/conda/lib/python3.7/site-packages (from yarl<2.0,>=1.0->aiohttp~=3.6.2->aries_basic_controller) (2.8)\n"
     ]
    }
   ],
   "source": [
    "!python3 -m pip install --index-url https://test.pypi.org/simple/ aries_basic_controller"
   ]
  },
  {
   "cell_type": "code",
   "execution_count": 5,
   "metadata": {},
   "outputs": [],
   "source": [
    "from aries_basic_controller.aries_controller import AriesAgentController\n",
    "    \n",
    "WEBHOOK_HOST = \"0.0.0.0\"\n",
    "WEBHOOK_PORT = 8022\n",
    "WEBHOOK_BASE = \"/\"\n",
    "ADMIN_URL = \"http://data-agent:8021\""
   ]
  },
  {
   "cell_type": "code",
   "execution_count": 6,
   "metadata": {},
   "outputs": [],
   "source": [
    "# Based on the aca-py agent you wish to control\n",
    "agent_controller = AriesAgentController(webhook_host=WEBHOOK_HOST, webhook_port=WEBHOOK_PORT,\n",
    "                                           webhook_base=WEBHOOK_BASE, admin_url=ADMIN_URL, connections=True)"
   ]
  },
  {
   "cell_type": "code",
   "execution_count": 7,
   "metadata": {},
   "outputs": [],
   "source": [
    "# Spins up server to respond to any webhook events from the agent\n",
    "\n",
    "def messages_hook(payload):\n",
    "    connection_id = payload[\"connection_id\"]\n",
    "    print(\"Handle research messages \", payload, connection_id)\n",
    "\n",
    "message_listener = {\n",
    "    \"handler\": messages_hook,\n",
    "    \"topic\": \"basicmessages\"\n",
    "}\n",
    "\n",
    "await agent_controller.listen_webhooks()"
   ]
  },
  {
   "cell_type": "code",
   "execution_count": 8,
   "metadata": {},
   "outputs": [],
   "source": [
    "# Controllers re-emit webhooks as events through PyPubSub\n",
    "# Basic state management is handled through defaults but you can choose to pass in custom handlers\n",
    "custom_handler = [message_listener]\n",
    "agent_controller.register_listeners(custom_handler, defaults=True)"
   ]
  },
  {
   "cell_type": "code",
   "execution_count": 9,
   "metadata": {},
   "outputs": [],
   "source": [
    "# Create Invitation\n",
    "invite = await agent_controller.connections.create_invitation(alias=\"Will\")"
   ]
  },
  {
   "cell_type": "code",
   "execution_count": 10,
   "metadata": {},
   "outputs": [
    {
     "name": "stdout",
     "output_type": "stream",
     "text": [
      "{'connection_id': 'a497801f-837b-43e0-a677-2a4bff05c678', 'invitation': {'@type': 'did:sov:BzCbsNYhMrjHiqZDTUASHg;spec/connections/1.0/invitation', '@id': '689376a9-53c1-4c07-ab9b-6a1569d29a6f', 'label': 'Bob', 'serviceEndpoint': 'http://192.168.65.3:8020', 'recipientKeys': ['27DjjAvy4v447rUJYMZzVB1sr3XN1MkU82wYkC1c4ByG']}, 'invitation_url': 'http://192.168.65.3:8020?c_i=eyJAdHlwZSI6ICJkaWQ6c292OkJ6Q2JzTlloTXJqSGlxWkRUVUFTSGc7c3BlYy9jb25uZWN0aW9ucy8xLjAvaW52aXRhdGlvbiIsICJAaWQiOiAiNjg5Mzc2YTktNTNjMS00YzA3LWFiOWItNmExNTY5ZDI5YTZmIiwgImxhYmVsIjogIkJvYiIsICJzZXJ2aWNlRW5kcG9pbnQiOiAiaHR0cDovLzE5Mi4xNjguNjUuMzo4MDIwIiwgInJlY2lwaWVudEtleXMiOiBbIjI3RGpqQXZ5NHY0NDdyVUpZTVp6VkIxc3IzWE4xTWtVODJ3WWtDMWM0QnlHIl19'}\n"
     ]
    }
   ],
   "source": [
    "print(invite)"
   ]
  },
  {
   "cell_type": "code",
   "execution_count": 11,
   "metadata": {},
   "outputs": [],
   "source": [
    "connection_id = invite[\"connection_id\"]"
   ]
  },
  {
   "cell_type": "code",
   "execution_count": 13,
   "metadata": {},
   "outputs": [
    {
     "ename": "NameError",
     "evalue": "name 'data_agent_controller' is not defined",
     "output_type": "error",
     "traceback": [
      "\u001b[0;31m---------------------------------------------------------------------------\u001b[0m",
      "\u001b[0;31mNameError\u001b[0m                                 Traceback (most recent call last)",
      "\u001b[0;32m<ipython-input-13-8087411c3a67>\u001b[0m in \u001b[0;36masync-def-wrapper\u001b[0;34m()\u001b[0m\n\u001b[1;32m      3\u001b[0m \u001b[0mprint\u001b[0m\u001b[0;34m(\u001b[0m\u001b[0;34m\"BASIC MESSAGE - DATA -> RESEARCH\"\u001b[0m\u001b[0;34m)\u001b[0m\u001b[0;34m\u001b[0m\u001b[0;34m\u001b[0m\u001b[0m\n\u001b[1;32m      4\u001b[0m \u001b[0mprint\u001b[0m\u001b[0;34m(\u001b[0m\u001b[0mmessage\u001b[0m\u001b[0;34m)\u001b[0m\u001b[0;34m\u001b[0m\u001b[0;34m\u001b[0m\u001b[0m\n",
      "\u001b[0;31mNameError\u001b[0m: name 'data_agent_controller' is not defined"
     ]
    },
    {
     "name": "stdout",
     "output_type": "stream",
     "text": [
      "ERROR! Session/line number was not unique in database. History logging moved to new session 4\n"
     ]
    }
   ],
   "source": [
    "    #send some basic messages\n",
    "    message = await data_agent_controller.connections.send_message(data_connection_id,\"hello from data world!\")\n",
    "    print(\"BASIC MESSAGE - DATA -> RESEARCH\")\n",
    "    print(message)"
   ]
  },
  {
   "cell_type": "code",
   "execution_count": null,
   "metadata": {},
   "outputs": [],
   "source": []
  }
 ],
 "metadata": {
  "kernelspec": {
   "display_name": "Python 3",
   "language": "python",
   "name": "python3"
  },
  "language_info": {
   "codemirror_mode": {
    "name": "ipython",
    "version": 3
   },
   "file_extension": ".py",
   "mimetype": "text/x-python",
   "name": "python",
   "nbconvert_exporter": "python",
   "pygments_lexer": "ipython3",
   "version": "3.7.6"
  }
 },
 "nbformat": 4,
 "nbformat_minor": 4
}
