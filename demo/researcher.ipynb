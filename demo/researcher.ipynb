{
 "cells": [
  {
   "cell_type": "code",
   "execution_count": 1,
   "metadata": {},
   "outputs": [
    {
     "name": "stdout",
     "output_type": "stream",
     "text": [
      "Collecting aiohttp~=3.6.2\n",
      "  Downloading aiohttp-3.6.2-cp37-cp37m-manylinux1_x86_64.whl (1.2 MB)\n",
      "\u001b[K     |████████████████████████████████| 1.2 MB 1.0 MB/s eta 0:00:01\n",
      "\u001b[?25hCollecting multidict<5.0,>=4.5\n",
      "  Downloading multidict-4.7.6-cp37-cp37m-manylinux1_x86_64.whl (149 kB)\n",
      "\u001b[K     |████████████████████████████████| 149 kB 2.1 MB/s eta 0:00:01\n",
      "\u001b[?25hCollecting async-timeout<4.0,>=3.0\n",
      "  Downloading async_timeout-3.0.1-py3-none-any.whl (8.2 kB)\n",
      "Collecting yarl<2.0,>=1.0\n",
      "  Downloading yarl-1.4.2-cp37-cp37m-manylinux1_x86_64.whl (256 kB)\n",
      "\u001b[K     |████████████████████████████████| 256 kB 1.2 MB/s eta 0:00:01\n",
      "\u001b[?25hRequirement already satisfied: attrs>=17.3.0 in /opt/conda/lib/python3.7/site-packages (from aiohttp~=3.6.2) (19.3.0)\n",
      "Requirement already satisfied: chardet<4.0,>=2.0 in /opt/conda/lib/python3.7/site-packages (from aiohttp~=3.6.2) (3.0.4)\n",
      "Requirement already satisfied: idna>=2.0 in /opt/conda/lib/python3.7/site-packages (from yarl<2.0,>=1.0->aiohttp~=3.6.2) (2.8)\n",
      "Installing collected packages: multidict, async-timeout, yarl, aiohttp\n",
      "Successfully installed aiohttp-3.6.2 async-timeout-3.0.1 multidict-4.7.6 yarl-1.4.2\n"
     ]
    }
   ],
   "source": [
    "!pip install aiohttp~=3.6.2"
   ]
  },
  {
   "cell_type": "code",
   "execution_count": 2,
   "metadata": {},
   "outputs": [
    {
     "name": "stdout",
     "output_type": "stream",
     "text": [
      "Collecting PyPubSub\n",
      "  Downloading Pypubsub-4.0.3-py3-none-any.whl (61 kB)\n",
      "\u001b[K     |████████████████████████████████| 61 kB 596 kB/s eta 0:00:01\n",
      "\u001b[?25hInstalling collected packages: PyPubSub\n",
      "Successfully installed PyPubSub-4.0.3\n"
     ]
    }
   ],
   "source": [
    "!pip install PyPubSub"
   ]
  },
  {
   "cell_type": "code",
   "execution_count": 3,
   "metadata": {},
   "outputs": [
    {
     "name": "stdout",
     "output_type": "stream",
     "text": [
      "Collecting asyncio\n",
      "  Downloading asyncio-3.4.3-py3-none-any.whl (101 kB)\n",
      "\u001b[K     |████████████████████████████████| 101 kB 92 kB/s eta 0:00:01\n",
      "\u001b[?25hInstalling collected packages: asyncio\n",
      "Successfully installed asyncio-3.4.3\n"
     ]
    }
   ],
   "source": [
    "!pip install asyncio"
   ]
  },
  {
   "cell_type": "code",
   "execution_count": 4,
   "metadata": {},
   "outputs": [
    {
     "name": "stdout",
     "output_type": "stream",
     "text": [
      "Looking in indexes: https://test.pypi.org/simple/\n",
      "Collecting aries_basic_controller\n",
      "  Downloading https://test-files.pythonhosted.org/packages/93/b8/1ac50e577bf2f0b9044985b387e45a8b654834221ea19e035a01dfdf11b8/aries_basic_controller-0.0.1-py3-none-any.whl (11 kB)\n",
      "Requirement already satisfied: asyncio in /opt/conda/lib/python3.7/site-packages (from aries_basic_controller) (3.4.3)\n",
      "Requirement already satisfied: PyPubSub in /opt/conda/lib/python3.7/site-packages (from aries_basic_controller) (4.0.3)\n",
      "Requirement already satisfied: pygments in /opt/conda/lib/python3.7/site-packages (from aries_basic_controller) (2.6.1)\n",
      "Requirement already satisfied: prompt-toolkit in /opt/conda/lib/python3.7/site-packages (from aries_basic_controller) (3.0.5)\n",
      "Requirement already satisfied: aiohttp~=3.6.2 in /opt/conda/lib/python3.7/site-packages (from aries_basic_controller) (3.6.2)\n",
      "Collecting python-dotenv\n",
      "  Downloading https://test-files.pythonhosted.org/packages/3e/18/e2e949e867b5c9bde3f4191dc5f6b75329049abcae0218d10dad74a7a123/python_dotenv-0.10.2.post2-py2.py3-none-any.whl (15 kB)\n",
      "Requirement already satisfied: wcwidth in /opt/conda/lib/python3.7/site-packages (from prompt-toolkit->aries_basic_controller) (0.2.4)\n",
      "Requirement already satisfied: async-timeout<4.0,>=3.0 in /opt/conda/lib/python3.7/site-packages (from aiohttp~=3.6.2->aries_basic_controller) (3.0.1)\n",
      "Requirement already satisfied: chardet<4.0,>=2.0 in /opt/conda/lib/python3.7/site-packages (from aiohttp~=3.6.2->aries_basic_controller) (3.0.4)\n",
      "Requirement already satisfied: attrs>=17.3.0 in /opt/conda/lib/python3.7/site-packages (from aiohttp~=3.6.2->aries_basic_controller) (19.3.0)\n",
      "Requirement already satisfied: multidict<5.0,>=4.5 in /opt/conda/lib/python3.7/site-packages (from aiohttp~=3.6.2->aries_basic_controller) (4.7.6)\n",
      "Requirement already satisfied: yarl<2.0,>=1.0 in /opt/conda/lib/python3.7/site-packages (from aiohttp~=3.6.2->aries_basic_controller) (1.4.2)\n",
      "Requirement already satisfied: idna>=2.0 in /opt/conda/lib/python3.7/site-packages (from yarl<2.0,>=1.0->aiohttp~=3.6.2->aries_basic_controller) (2.8)\n",
      "Installing collected packages: python-dotenv, aries-basic-controller\n",
      "Successfully installed aries-basic-controller-0.0.1 python-dotenv-0.10.2.post2\n"
     ]
    }
   ],
   "source": [
    "!python3 -m pip install --index-url https://test.pypi.org/simple/ aries_basic_controller"
   ]
  },
  {
   "cell_type": "code",
   "execution_count": 5,
   "metadata": {},
   "outputs": [],
   "source": [
    "from aries_basic_controller.aries_controller import AriesAgentController\n",
    "    \n",
    "WEBHOOK_HOST = \"0.0.0.0\"\n",
    "WEBHOOK_PORT = 8052\n",
    "WEBHOOK_BASE = \"/\"\n",
    "ADMIN_URL = \"http://researcher-agent:8051\""
   ]
  },
  {
   "cell_type": "code",
   "execution_count": 6,
   "metadata": {},
   "outputs": [],
   "source": [
    "# Based on the aca-py agent you wish to control\n",
    "agent_controller = AriesAgentController(webhook_host=WEBHOOK_HOST, webhook_port=WEBHOOK_PORT,\n",
    "                                           webhook_base=WEBHOOK_BASE, admin_url=ADMIN_URL, connections=True)"
   ]
  },
  {
   "cell_type": "code",
   "execution_count": 7,
   "metadata": {},
   "outputs": [],
   "source": [
    "# Spins up server to respond to any webhook events from the agent\n",
    "\n",
    "def messages_hook(payload):\n",
    "    connection_id = payload[\"connection_id\"]\n",
    "    print(\"Handle research messages \", payload, connection_id)\n",
    "\n",
    "message_listener = {\n",
    "    \"handler\": messages_hook,\n",
    "    \"topic\": \"basicmessages\"\n",
    "}\n",
    "\n",
    "await agent_controller.listen_webhooks()"
   ]
  },
  {
   "cell_type": "code",
   "execution_count": 8,
   "metadata": {},
   "outputs": [],
   "source": [
    "# Controllers re-emit webhooks as events through PyPubSub\n",
    "# Basic state management is handled through defaults but you can choose to pass in custom handlers\n",
    "custom_handler = [message_listener]\n",
    "agent_controller.register_listeners(custom_handler, defaults=True)"
   ]
  },
  {
   "cell_type": "code",
   "execution_count": 13,
   "metadata": {},
   "outputs": [
    {
     "name": "stdout",
     "output_type": "stream",
     "text": [
      "ACCEPTED CONNECTION -  {'their_label': 'Bob', 'initiator': 'external', 'accept': 'manual', 'my_did': 'Sckm7H5AVV7auoGGtWDAe9', 'invitation_mode': 'once', 'request_id': 'c691fa24-da80-4761-9466-6a5a5cca5df3', 'created_at': '2020-06-23 18:06:48.078332Z', 'updated_at': '2020-06-23 18:06:48.098717Z', 'connection_id': '0cafe1da-d192-4a9e-bbb7-8a616fdd3364', 'state': 'request', 'invitation_key': '27DjjAvy4v447rUJYMZzVB1sr3XN1MkU82wYkC1c4ByG', 'routing_state': 'none'}\n"
     ]
    }
   ],
   "source": [
    "# Create Invitation\n",
    "response = await agent_controller.connections.accept_connection({'@type': 'did:sov:BzCbsNYhMrjHiqZDTUASHg;spec/connections/1.0/invitation', '@id': '689376a9-53c1-4c07-ab9b-6a1569d29a6f', 'label': 'Bob', 'serviceEndpoint': 'http://192.168.65.3:8020', 'recipientKeys': ['27DjjAvy4v447rUJYMZzVB1sr3XN1MkU82wYkC1c4ByG']})"
   ]
  },
  {
   "cell_type": "code",
   "execution_count": 14,
   "metadata": {},
   "outputs": [
    {
     "name": "stdout",
     "output_type": "stream",
     "text": [
      "{'their_label': 'Bob', 'initiator': 'external', 'accept': 'manual', 'my_did': 'Sckm7H5AVV7auoGGtWDAe9', 'invitation_mode': 'once', 'request_id': 'c691fa24-da80-4761-9466-6a5a5cca5df3', 'created_at': '2020-06-23 18:06:48.078332Z', 'updated_at': '2020-06-23 18:06:48.098717Z', 'connection_id': '0cafe1da-d192-4a9e-bbb7-8a616fdd3364', 'state': 'request', 'invitation_key': '27DjjAvy4v447rUJYMZzVB1sr3XN1MkU82wYkC1c4ByG', 'routing_state': 'none'}\n"
     ]
    }
   ],
   "source": [
    "print(response)"
   ]
  },
  {
   "cell_type": "code",
   "execution_count": 15,
   "metadata": {},
   "outputs": [
    {
     "name": "stdout",
     "output_type": "stream",
     "text": [
      "Researcher ID 0cafe1da-d192-4a9e-bbb7-8a616fdd3364\n"
     ]
    }
   ],
   "source": [
    "print(\"Researcher ID\", response[\"connection_id\"])"
   ]
  },
  {
   "cell_type": "code",
   "execution_count": 16,
   "metadata": {},
   "outputs": [],
   "source": [
    "researcher_id = response[\"connection_id\"]"
   ]
  },
  {
   "cell_type": "code",
   "execution_count": null,
   "metadata": {},
   "outputs": [],
   "source": []
  }
 ],
 "metadata": {
  "kernelspec": {
   "display_name": "Python 3",
   "language": "python",
   "name": "python3"
  },
  "language_info": {
   "codemirror_mode": {
    "name": "ipython",
    "version": 3
   },
   "file_extension": ".py",
   "mimetype": "text/x-python",
   "name": "python",
   "nbconvert_exporter": "python",
   "pygments_lexer": "ipython3",
   "version": "3.7.6"
  }
 },
 "nbformat": 4,
 "nbformat_minor": 4
}
