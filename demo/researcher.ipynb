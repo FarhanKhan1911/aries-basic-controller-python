{
 "cells": [
  {
   "cell_type": "code",
   "execution_count": 1,
   "metadata": {},
   "outputs": [
    {
     "name": "stdout",
     "output_type": "stream",
     "text": [
      "Collecting aiohttp~=3.6.2\n",
      "  Downloading aiohttp-3.6.2-cp37-cp37m-manylinux1_x86_64.whl (1.2 MB)\n",
      "\u001b[K     |████████████████████████████████| 1.2 MB 946 kB/s eta 0:00:01\n",
      "\u001b[?25hCollecting multidict<5.0,>=4.5\n",
      "  Downloading multidict-4.7.6-cp37-cp37m-manylinux1_x86_64.whl (149 kB)\n",
      "\u001b[K     |████████████████████████████████| 149 kB 1.0 MB/s eta 0:00:01\n",
      "\u001b[?25hRequirement already satisfied: chardet<4.0,>=2.0 in /opt/conda/lib/python3.7/site-packages (from aiohttp~=3.6.2) (3.0.4)\n",
      "Requirement already satisfied: attrs>=17.3.0 in /opt/conda/lib/python3.7/site-packages (from aiohttp~=3.6.2) (19.3.0)\n",
      "Collecting async-timeout<4.0,>=3.0\n",
      "  Downloading async_timeout-3.0.1-py3-none-any.whl (8.2 kB)\n",
      "Collecting yarl<2.0,>=1.0\n",
      "  Downloading yarl-1.4.2-cp37-cp37m-manylinux1_x86_64.whl (256 kB)\n",
      "\u001b[K     |████████████████████████████████| 256 kB 1.6 MB/s eta 0:00:01\n",
      "\u001b[?25hRequirement already satisfied: idna>=2.0 in /opt/conda/lib/python3.7/site-packages (from yarl<2.0,>=1.0->aiohttp~=3.6.2) (2.8)\n",
      "Installing collected packages: multidict, async-timeout, yarl, aiohttp\n",
      "Successfully installed aiohttp-3.6.2 async-timeout-3.0.1 multidict-4.7.6 yarl-1.4.2\n"
     ]
    }
   ],
   "source": [
    "!pip install aiohttp~=3.6.2"
   ]
  },
  {
   "cell_type": "code",
   "execution_count": 2,
   "metadata": {},
   "outputs": [
    {
     "name": "stdout",
     "output_type": "stream",
     "text": [
      "Collecting PyPubSub\n",
      "  Downloading Pypubsub-4.0.3-py3-none-any.whl (61 kB)\n",
      "\u001b[K     |████████████████████████████████| 61 kB 1.2 MB/s eta 0:00:01\n",
      "\u001b[?25hInstalling collected packages: PyPubSub\n",
      "Successfully installed PyPubSub-4.0.3\n"
     ]
    }
   ],
   "source": [
    "!pip install PyPubSub"
   ]
  },
  {
   "cell_type": "code",
   "execution_count": 3,
   "metadata": {},
   "outputs": [
    {
     "name": "stdout",
     "output_type": "stream",
     "text": [
      "Collecting asyncio\n",
      "  Downloading asyncio-3.4.3-py3-none-any.whl (101 kB)\n",
      "\u001b[K     |████████████████████████████████| 101 kB 1.3 MB/s ta 0:00:01\n",
      "\u001b[?25hInstalling collected packages: asyncio\n",
      "Successfully installed asyncio-3.4.3\n"
     ]
    }
   ],
   "source": [
    "!pip install asyncio"
   ]
  },
  {
   "cell_type": "code",
   "execution_count": 4,
   "metadata": {},
   "outputs": [
    {
     "name": "stdout",
     "output_type": "stream",
     "text": [
      "Looking in indexes: https://test.pypi.org/simple/\n",
      "Collecting aries_basic_controller\n",
      "  Downloading https://test-files.pythonhosted.org/packages/93/b8/1ac50e577bf2f0b9044985b387e45a8b654834221ea19e035a01dfdf11b8/aries_basic_controller-0.0.1-py3-none-any.whl (11 kB)\n",
      "Requirement already satisfied: asyncio in /opt/conda/lib/python3.7/site-packages (from aries_basic_controller) (3.4.3)\n",
      "Collecting python-dotenv\n",
      "  Downloading https://test-files.pythonhosted.org/packages/3e/18/e2e949e867b5c9bde3f4191dc5f6b75329049abcae0218d10dad74a7a123/python_dotenv-0.10.2.post2-py2.py3-none-any.whl (15 kB)\n",
      "Requirement already satisfied: PyPubSub in /opt/conda/lib/python3.7/site-packages (from aries_basic_controller) (4.0.3)\n",
      "Requirement already satisfied: pygments in /opt/conda/lib/python3.7/site-packages (from aries_basic_controller) (2.6.1)\n",
      "Requirement already satisfied: aiohttp~=3.6.2 in /opt/conda/lib/python3.7/site-packages (from aries_basic_controller) (3.6.2)\n",
      "Requirement already satisfied: prompt-toolkit in /opt/conda/lib/python3.7/site-packages (from aries_basic_controller) (3.0.4)\n",
      "Requirement already satisfied: chardet<4.0,>=2.0 in /opt/conda/lib/python3.7/site-packages (from aiohttp~=3.6.2->aries_basic_controller) (3.0.4)\n",
      "Requirement already satisfied: attrs>=17.3.0 in /opt/conda/lib/python3.7/site-packages (from aiohttp~=3.6.2->aries_basic_controller) (19.3.0)\n",
      "Requirement already satisfied: multidict<5.0,>=4.5 in /opt/conda/lib/python3.7/site-packages (from aiohttp~=3.6.2->aries_basic_controller) (4.7.6)\n",
      "Requirement already satisfied: yarl<2.0,>=1.0 in /opt/conda/lib/python3.7/site-packages (from aiohttp~=3.6.2->aries_basic_controller) (1.4.2)\n",
      "Requirement already satisfied: async-timeout<4.0,>=3.0 in /opt/conda/lib/python3.7/site-packages (from aiohttp~=3.6.2->aries_basic_controller) (3.0.1)\n",
      "Requirement already satisfied: wcwidth in /opt/conda/lib/python3.7/site-packages (from prompt-toolkit->aries_basic_controller) (0.1.9)\n",
      "Requirement already satisfied: idna>=2.0 in /opt/conda/lib/python3.7/site-packages (from yarl<2.0,>=1.0->aiohttp~=3.6.2->aries_basic_controller) (2.8)\n",
      "Installing collected packages: python-dotenv, aries-basic-controller\n",
      "Successfully installed aries-basic-controller-0.0.1 python-dotenv-0.10.2.post2\n"
     ]
    }
   ],
   "source": [
    "!python3 -m pip install --index-url https://test.pypi.org/simple/ aries_basic_controller"
   ]
  },
  {
   "cell_type": "code",
   "execution_count": 5,
   "metadata": {},
   "outputs": [],
   "source": [
    "from aries_basic_controller.aries_controller import AriesAgentController\n",
    "    \n",
    "WEBHOOK_HOST = \"0.0.0.0\"\n",
    "WEBHOOK_PORT = 8052\n",
    "WEBHOOK_BASE = \"/\"\n",
    "ADMIN_URL = \"http://researcher-agent:8051\""
   ]
  },
  {
   "cell_type": "code",
   "execution_count": 6,
   "metadata": {},
   "outputs": [],
   "source": [
    "# Based on the aca-py agent you wish to control\n",
    "agent_controller = AriesAgentController(webhook_host=WEBHOOK_HOST, webhook_port=WEBHOOK_PORT,\n",
    "                                           webhook_base=WEBHOOK_BASE, admin_url=ADMIN_URL, connections=True)"
   ]
  },
  {
   "cell_type": "code",
   "execution_count": 7,
   "metadata": {},
   "outputs": [],
   "source": [
    "# Spins up server to respond to any webhook events from the agent\n",
    "import asyncio\n",
    "asyncio.get_event_loop().run_until_complete(agent_controller.listen_webhooks())\n",
    "# await agent_controller.listen_webhooks()"
   ]
  },
  {
   "cell_type": "code",
   "execution_count": 8,
   "metadata": {},
   "outputs": [],
   "source": [
    "# Controllers re-emit webhooks as events through PyPubSub\n",
    "# Basic state management is handled through defaults but you can choose to pass in custom handlers\n",
    "custom_handler = []\n",
    "agent_controller.register_listeners(custom_handler, defaults=True)"
   ]
  },
  {
   "cell_type": "code",
   "execution_count": 9,
   "metadata": {},
   "outputs": [],
   "source": [
    "#Paste in invitation from data_owner agent\n",
    "invite = {'connection_id': 'ca5f3332-e5d9-42c4-bad0-db8edc637fb4', 'invitation': {'@type': 'did:sov:BzCbsNYhMrjHiqZDTUASHg;spec/connections/1.0/invitation', '@id': '7b485f18-2d8c-4d54-943a-016b623c33c0', 'recipientKeys': ['8b8rvN2SaxaSiCsgTh7qeU5c14y5QwEkDBCUtNDstStH'], 'label': 'Bob', 'serviceEndpoint': 'http://192.168.65.3:8020'}, 'invitation_url': 'http://192.168.65.3:8020?c_i=eyJAdHlwZSI6ICJkaWQ6c292OkJ6Q2JzTlloTXJqSGlxWkRUVUFTSGc7c3BlYy9jb25uZWN0aW9ucy8xLjAvaW52aXRhdGlvbiIsICJAaWQiOiAiN2I0ODVmMTgtMmQ4Yy00ZDU0LTk0M2EtMDE2YjYyM2MzM2MwIiwgInJlY2lwaWVudEtleXMiOiBbIjhiOHJ2TjJTYXhhU2lDc2dUaDdxZVU1YzE0eTVRd0VrREJDVXRORHN0U3RIIl0sICJsYWJlbCI6ICJCb2IiLCAic2VydmljZUVuZHBvaW50IjogImh0dHA6Ly8xOTIuMTY4LjY1LjM6ODAyMCJ9'}"
   ]
  },
  {
   "cell_type": "code",
   "execution_count": 10,
   "metadata": {},
   "outputs": [
    {
     "name": "stdout",
     "output_type": "stream",
     "text": [
      "ACCEPTED CONNECTION -  {'invitation_key': '8b8rvN2SaxaSiCsgTh7qeU5c14y5QwEkDBCUtNDstStH', 'their_label': 'Bob', 'state': 'request', 'initiator': 'external', 'request_id': '9eb467bb-dd71-467a-8e21-fffea970172a', 'routing_state': 'none', 'accept': 'manual', 'my_did': 'YLmMyavYq9rrZ9P6x6zDpF', 'invitation_mode': 'once', 'updated_at': '2020-06-24 13:28:47.682962Z', 'created_at': '2020-06-24 13:28:47.654059Z', 'connection_id': 'f51d599f-0d0f-4e48-83a4-7eed86a2ed37'}\n",
      "{'invitation_key': '8b8rvN2SaxaSiCsgTh7qeU5c14y5QwEkDBCUtNDstStH', 'their_label': 'Bob', 'state': 'request', 'initiator': 'external', 'request_id': '9eb467bb-dd71-467a-8e21-fffea970172a', 'routing_state': 'none', 'accept': 'manual', 'my_did': 'YLmMyavYq9rrZ9P6x6zDpF', 'invitation_mode': 'once', 'updated_at': '2020-06-24 13:28:47.682962Z', 'created_at': '2020-06-24 13:28:47.654059Z', 'connection_id': 'f51d599f-0d0f-4e48-83a4-7eed86a2ed37'}\n"
     ]
    }
   ],
   "source": [
    "# Receive Invitation\n",
    "response = await agent_controller.connections.accept_connection(invite[\"invitation\"])\n",
    "print(response)"
   ]
  },
  {
   "cell_type": "code",
   "execution_count": 16,
   "metadata": {},
   "outputs": [
    {
     "name": "stdout",
     "output_type": "stream",
     "text": [
      "Researcher ID 97838a70-6c54-4d50-a968-baf0f36de4cd\n",
      "Invite Accepted\n",
      "{'request_id': 'fb8ead9c-da32-4328-9a0e-541295078190', 'my_did': 'JmVHZsdrvdtMJjHE7WCi4q', 'routing_state': 'none', 'state': 'request', 'initiator': 'external', 'invitation_mode': 'once', 'accept': 'manual', 'connection_id': '97838a70-6c54-4d50-a968-baf0f36de4cd', 'created_at': '2020-06-23 14:13:43.720229Z', 'updated_at': '2020-06-23 14:13:43.877959Z', 'invitation_key': 'A74iU3TDpJc1P6f88osUnEFi8FzCMzbW9hvgYT6hDijs', 'their_label': 'Bob'}\n"
     ]
    }
   ],
   "source": [
    "# Print out accepted Invite and Researcher ID\n",
    "print(\"Researcher ID\", response[\"connection_id\"])\n",
    "researcher_id = response[\"connection_id\"]\n",
    "print(\"Invite Accepted\")\n",
    "print(response)"
   ]
  },
  {
   "cell_type": "code",
   "execution_count": null,
   "metadata": {},
   "outputs": [],
   "source": [
    "# Do a trust ping to ensure connection is accepted by data_owner\n",
    "trust_ping = await agent_controller.connections.trust_ping(researcher_id,\"hello\")\n",
    "print(\"TUST PING TO ACTIVATE CONNECTION - RESEARCH -> DATA\")\n",
    "print(trust_ping)\n",
    "\n",
    "print(\"RESEARCHER ID {} DATA ID {}\".format(researcher_id,data_connection_id))"
   ]
  },
  {
   "cell_type": "code",
   "execution_count": null,
   "metadata": {},
   "outputs": [],
   "source": [
    "# Print connection list\n",
    "connection = await agent_controller.connections.get_connection(researcher_id)\n",
    "print(\"RESEARCH AGENT CONNECTION\")\n",
    "print(connection)"
   ]
  },
  {
   "cell_type": "code",
   "execution_count": null,
   "metadata": {},
   "outputs": [],
   "source": [
    "#send some basic messages\n",
    "message = await agent_controller.connections.send_message(researcher_id,\"hello from researcher world!\")\n",
    "print(\"BASIC MESSAGE - RESEARCH -> DATA\")\n",
    "print(message)"
   ]
  }
 ],
 "metadata": {
  "kernelspec": {
   "display_name": "Python 3",
   "language": "python",
   "name": "python3"
  },
  "language_info": {
   "codemirror_mode": {
    "name": "ipython",
    "version": 3
   },
   "file_extension": ".py",
   "mimetype": "text/x-python",
   "name": "python",
   "nbconvert_exporter": "python",
   "pygments_lexer": "ipython3",
   "version": "3.7.6"
  }
 },
 "nbformat": 4,
 "nbformat_minor": 4
}
