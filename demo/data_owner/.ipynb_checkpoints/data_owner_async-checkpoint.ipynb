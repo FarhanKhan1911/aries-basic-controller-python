{
 "cells": [
  {
   "cell_type": "code",
   "execution_count": 1,
   "metadata": {},
   "outputs": [
    {
     "name": "stdout",
     "output_type": "stream",
     "text": [
      "IPython autoawait is `on`, and set to use `asyncio`\n"
     ]
    }
   ],
   "source": [
    "%autoawait"
   ]
  },
  {
   "cell_type": "code",
   "execution_count": 1,
   "metadata": {},
   "outputs": [],
   "source": [
    "import time\n",
    "import asyncio"
   ]
  },
  {
   "cell_type": "code",
   "execution_count": 2,
   "metadata": {},
   "outputs": [],
   "source": [
    "from aries_basic_controller.aries_controller import AriesAgentController\n",
    "    \n",
    "WEBHOOK_HOST = \"0.0.0.0\"\n",
    "WEBHOOK_PORT = 8022\n",
    "WEBHOOK_BASE = \"/\"\n",
    "ADMIN_URL = \"http://data-agent:8021\""
   ]
  },
  {
   "cell_type": "code",
   "execution_count": 3,
   "metadata": {},
   "outputs": [],
   "source": [
    "async def start_agent():\n",
    "    # Based on the aca-py agent you wish to control\n",
    "    agent_controller = AriesAgentController(webhook_host=WEBHOOK_HOST, webhook_port=WEBHOOK_PORT,\n",
    "                                           webhook_base=WEBHOOK_BASE, admin_url=ADMIN_URL, connections=True)\n",
    "    \n",
    "    def data_messages_hook(payload):\n",
    "        connection_id = payload[\"connection_id\"]\n",
    "        print(\"Handle data messages \", payload, connection_id)\n",
    "\n",
    "\n",
    "    data_message_listener = {\n",
    "        \"handler\": data_messages_hook,\n",
    "        \"topic\": \"basicmessages\"\n",
    "    }\n",
    "    \n",
    "    \n",
    "    await agent_controller.listen_webhooks()\n",
    "    \n",
    "    # Controllers re-emit webhooks as events through PyPubSub\n",
    "    # Basic state management is handled through defaults but you can choose to pass in custom handlers\n",
    "    agent_controller.register_listeners([data_message_listener], defaults=True)\n",
    "    \n",
    "    # Create Invitation\n",
    "    invite = await agent_controller.connections.create_invitation(alias=\"Will\")\n",
    "    print(invite)\n",
    "    \n",
    "    await asyncio.sleep(30)\n",
    "    \n",
    "    # Print out accepted Invite and Researcher ID\n",
    "    print(\"Data Owner ID\", invite[\"connection_id\"])\n",
    "    data_connection_id = invite[\"connection_id\"]\n",
    "    \n",
    "    \n",
    "    # Accept Request for Invite created\n",
    "#     connection = await agent_controller.connections.accept_request(data_connection_id)\n",
    "    connection = await agent_controller.connections.admin_POST(f\"/connections/{data_connection_id}/accept-request\")\n",
    "    print(\"ACCEPT REQUEST\")\n",
    "    print(connection)\n",
    "    \n",
    "    \n",
    "    # Do a trust ping to bring accepted request into \"ACTIVE\" state\n",
    "    while connection[\"state\"] != \"active\":\n",
    "        trust_ping = await agent_controller.connections.trust_ping(data_connection_id, \"hello\")\n",
    "        print(\"TUST PING TO ACTIVATE CONNECTION - DATA -> RESEARCH\")\n",
    "        print(trust_ping)\n",
    "        time.sleep(5)\n",
    "        connection = await agent_controller.connections.get_connection(data_connection_id)\n",
    "    \n",
    "    \n",
    "    # Print connection list\n",
    "    connection = await agent_controller.connections.get_connection(data_connection_id)\n",
    "    print(\"RESEARCH AGENT CONNECTION\")\n",
    "    print(connection)\n",
    "\n",
    "    #send some basic messages\n",
    "    message = await agent_controller.connections.send_message(data_connection_id,\"hello from data owner world!\")\n",
    "    print(\"BASIC MESSAGE - DATA -> RESEARCH\")\n",
    "    print(message)"
   ]
  },
  {
   "cell_type": "code",
   "execution_count": 4,
   "metadata": {},
   "outputs": [
    {
     "name": "stdout",
     "output_type": "stream",
     "text": [
      "{'connection_id': 'eb1393e0-5dc9-4664-8aff-09dbf391c56a', 'invitation': {'@type': 'did:sov:BzCbsNYhMrjHiqZDTUASHg;spec/connections/1.0/invitation', '@id': 'b423d228-4a25-4737-8fd9-0a3d98db0de5', 'serviceEndpoint': 'http://172.17.0.1:8020', 'label': 'Bob', 'recipientKeys': ['9ESaimEAx2Z3HSvj3QjmfktCHNpbsVDFjv4CvLfFs44T']}, 'invitation_url': 'http://172.17.0.1:8020?c_i=eyJAdHlwZSI6ICJkaWQ6c292OkJ6Q2JzTlloTXJqSGlxWkRUVUFTSGc7c3BlYy9jb25uZWN0aW9ucy8xLjAvaW52aXRhdGlvbiIsICJAaWQiOiAiYjQyM2QyMjgtNGEyNS00NzM3LThmZDktMGEzZDk4ZGIwZGU1IiwgInNlcnZpY2VFbmRwb2ludCI6ICJodHRwOi8vMTcyLjE3LjAuMTo4MDIwIiwgImxhYmVsIjogIkJvYiIsICJyZWNpcGllbnRLZXlzIjogWyI5RVNhaW1FQXgyWjNIU3ZqM1FqbWZrdENITnBic1ZERmp2NEN2TGZGczQ0VCJdfQ=='}\n",
      "Data Owner ID eb1393e0-5dc9-4664-8aff-09dbf391c56a\n",
      "ACCEPT REQUEST\n",
      "{'created_at': '2020-06-25 12:16:25.684322Z', 'my_did': 'Cruo3McSwV2SxSkHemVp4', 'routing_state': 'none', 'invitation_key': '9ESaimEAx2Z3HSvj3QjmfktCHNpbsVDFjv4CvLfFs44T', 'their_did': 'VRyDcavRzEYjeZP1Lat7AF', 'state': 'response', 'initiator': 'self', 'their_label': 'Alice', 'invitation_mode': 'once', 'connection_id': 'eb1393e0-5dc9-4664-8aff-09dbf391c56a', 'accept': 'manual', 'updated_at': '2020-06-25 12:16:55.727448Z'}\n",
      "TUST PING TO ACTIVATE CONNECTION - DATA -> RESEARCH\n",
      "{'thread_id': '5a6ab03d-e632-4731-82be-8fc87a90119b'}\n",
      "TUST PING TO ACTIVATE CONNECTION - DATA -> RESEARCH\n",
      "{'thread_id': 'e32632c9-3c7c-46dd-94d3-7d726d89f083'}\n",
      "RESEARCH AGENT CONNECTION\n",
      "{'created_at': '2020-06-25 12:16:25.684322Z', 'my_did': 'Cruo3McSwV2SxSkHemVp4', 'routing_state': 'none', 'invitation_key': '9ESaimEAx2Z3HSvj3QjmfktCHNpbsVDFjv4CvLfFs44T', 'their_did': 'VRyDcavRzEYjeZP1Lat7AF', 'state': 'active', 'initiator': 'self', 'their_label': 'Alice', 'invitation_mode': 'once', 'connection_id': 'eb1393e0-5dc9-4664-8aff-09dbf391c56a', 'accept': 'manual', 'updated_at': '2020-06-25 12:17:00.810113Z'}\n",
      "BASIC MESSAGE - DATA -> RESEARCH\n",
      "{}\n",
      "Script executed in 40.12 seconds.\n"
     ]
    }
   ],
   "source": [
    "async def main():\n",
    "    await asyncio.gather(start_agent())\n",
    "\n",
    "s = time.perf_counter()\n",
    "await main()\n",
    "elapsed = time.perf_counter() - s\n",
    "print(f\"Script executed in {elapsed:0.2f} seconds.\")"
   ]
  },
  {
   "cell_type": "code",
   "execution_count": null,
   "metadata": {},
   "outputs": [],
   "source": [
    "# if __name__ == \"__main__\":\n",
    "\n",
    "#     try:\n",
    "#         asyncio.get_event_loop().run_until_complete(start_agent())\n",
    "#     except KeyboardInterrupt:\n",
    "#         os._exit(1)"
   ]
  }
 ],
 "metadata": {
  "kernelspec": {
   "display_name": "Python 3",
   "language": "python",
   "name": "python3"
  },
  "language_info": {
   "codemirror_mode": {
    "name": "ipython",
    "version": 3
   },
   "file_extension": ".py",
   "mimetype": "text/x-python",
   "name": "python",
   "nbconvert_exporter": "python",
   "pygments_lexer": "ipython3",
   "version": "3.7.6"
  }
 },
 "nbformat": 4,
 "nbformat_minor": 4
}
