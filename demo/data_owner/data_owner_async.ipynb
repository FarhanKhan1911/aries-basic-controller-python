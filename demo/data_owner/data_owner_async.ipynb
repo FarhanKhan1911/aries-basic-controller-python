{
 "cells": [
  {
   "cell_type": "code",
   "execution_count": 1,
   "metadata": {},
   "outputs": [
    {
     "name": "stdout",
     "output_type": "stream",
     "text": [
      "IPython autoawait is `on`, and set to use `asyncio`\n"
     ]
    }
   ],
   "source": [
    "%autoawait"
   ]
  },
  {
   "cell_type": "code",
   "execution_count": 2,
   "metadata": {},
   "outputs": [],
   "source": [
    "import time\n",
    "import asyncio"
   ]
  },
  {
   "cell_type": "code",
   "execution_count": 3,
   "metadata": {},
   "outputs": [],
   "source": [
    "from aries_basic_controller.aries_controller import AriesAgentController\n",
    "    \n",
    "WEBHOOK_HOST = \"0.0.0.0\"\n",
    "WEBHOOK_PORT = 8022\n",
    "WEBHOOK_BASE = \"/\"\n",
    "ADMIN_URL = \"http://data-agent:8021\""
   ]
  },
  {
   "cell_type": "code",
   "execution_count": 4,
   "metadata": {},
   "outputs": [],
   "source": [
    "async def start_agent():\n",
    "    # Based on the aca-py agent you wish to control\n",
    "    agent_controller = AriesAgentController(webhook_host=WEBHOOK_HOST, webhook_port=WEBHOOK_PORT,\n",
    "                                           webhook_base=WEBHOOK_BASE, admin_url=ADMIN_URL, connections=True)\n",
    "    \n",
    "    def data_messages_hook(payload):\n",
    "        connection_id = payload[\"connection_id\"]\n",
    "        print(\"Handle data messages \", payload, connection_id)\n",
    "\n",
    "\n",
    "    data_message_listener = {\n",
    "        \"handler\": data_messages_hook,\n",
    "        \"topic\": \"basicmessages\"\n",
    "    }\n",
    "    \n",
    "    \n",
    "    await agent_controller.listen_webhooks()\n",
    "    \n",
    "    # Controllers re-emit webhooks as events through PyPubSub\n",
    "    # Basic state management is handled through defaults but you can choose to pass in custom handlers\n",
    "    agent_controller.register_listeners([data_message_listener], defaults=True)\n",
    "    \n",
    "    # Create Invitation\n",
    "    invite = await agent_controller.connections.create_invitation(alias=\"Will\")\n",
    "    print(invite)\n",
    "    \n",
    "    await asyncio.sleep(30)\n",
    "    \n",
    "    # Print out accepted Invite and Researcher ID\n",
    "    print(\"Data Owner ID\", invite[\"connection_id\"])\n",
    "    data_connection_id = invite[\"connection_id\"]\n",
    "    \n",
    "    \n",
    "    # Accept Request for Invite created\n",
    "#     connection = await agent_controller.connections.accept_request(data_connection_id)\n",
    "    connection = await agent_controller.connections.admin_POST(f\"/connections/{data_connection_id}/accept-request\")\n",
    "    print(\"ACCEPT REQUEST\")\n",
    "    print(connection)\n",
    "    \n",
    "    \n",
    "    # Do a trust ping to bring accepted request into \"ACTIVE\" state\n",
    "    while connection[\"state\"] != \"active\":\n",
    "        trust_ping = await agent_controller.connections.trust_ping(data_connection_id, \"hello\")\n",
    "        print(\"TUST PING TO ACTIVATE CONNECTION - DATA -> RESEARCH\")\n",
    "        print(trust_ping)\n",
    "        time.sleep(5)\n",
    "        connection = await agent_controller.connections.get_connection(data_connection_id)\n",
    "    \n",
    "    \n",
    "    # Print connection list\n",
    "    connection = await agent_controller.connections.get_connection(data_connection_id)\n",
    "    print(\"RESEARCH AGENT CONNECTION\")\n",
    "    print(connection)\n",
    "\n",
    "    #send some basic messages\n",
    "    message = await agent_controller.connections.send_message(data_connection_id,\"hello from data owner world!\")\n",
    "    print(\"BASIC MESSAGE - DATA -> RESEARCH\")\n",
    "    print(message)"
   ]
  },
  {
   "cell_type": "code",
   "execution_count": 5,
   "metadata": {},
   "outputs": [
    {
     "name": "stdout",
     "output_type": "stream",
     "text": [
      "{'connection_id': '95e91f5d-3b56-4d36-9a74-ee17568d7b17', 'invitation': {'@type': 'did:sov:BzCbsNYhMrjHiqZDTUASHg;spec/connections/1.0/invitation', '@id': '5dde53f0-fd0e-4467-813f-a29da9e3994f', 'recipientKeys': ['8WaYDnM4YYP8ECakf5dTVNbZQuvHTNgVeuZRosHru8Uq'], 'serviceEndpoint': 'http://192.168.65.3:8020', 'label': 'Bob'}, 'invitation_url': 'http://192.168.65.3:8020?c_i=eyJAdHlwZSI6ICJkaWQ6c292OkJ6Q2JzTlloTXJqSGlxWkRUVUFTSGc7c3BlYy9jb25uZWN0aW9ucy8xLjAvaW52aXRhdGlvbiIsICJAaWQiOiAiNWRkZTUzZjAtZmQwZS00NDY3LTgxM2YtYTI5ZGE5ZTM5OTRmIiwgInJlY2lwaWVudEtleXMiOiBbIjhXYVlEbk00WVlQOEVDYWtmNWRUVk5iWlF1dkhUTmdWZXVaUm9zSHJ1OFVxIl0sICJzZXJ2aWNlRW5kcG9pbnQiOiAiaHR0cDovLzE5Mi4xNjguNjUuMzo4MDIwIiwgImxhYmVsIjogIkJvYiJ9'}\n",
      "Data Owner ID 95e91f5d-3b56-4d36-9a74-ee17568d7b17\n",
      "ACCEPT REQUEST\n",
      "{'their_did': 'UwKxBXxdvWG8pqBzqBDZTy', 'invitation_mode': 'once', 'updated_at': '2020-06-24 21:31:32.172738Z', 'connection_id': '95e91f5d-3b56-4d36-9a74-ee17568d7b17', 'their_label': 'Alice', 'initiator': 'self', 'routing_state': 'none', 'invitation_key': '8WaYDnM4YYP8ECakf5dTVNbZQuvHTNgVeuZRosHru8Uq', 'state': 'response', 'created_at': '2020-06-24 21:31:02.134349Z', 'accept': 'manual', 'my_did': 'VAX9Ui58cUVnSatZYq2XTe'}\n",
      "TUST PING TO ACTIVATE CONNECTION - DATA -> RESEARCH\n",
      "{'thread_id': '4f860fae-ac32-4035-ba16-722ba74557d5'}\n",
      "TUST PING TO ACTIVATE CONNECTION - DATA -> RESEARCH\n",
      "{'thread_id': '59f5de51-9ece-4c7c-94f2-cb6775358bca'}\n",
      "RESEARCH AGENT CONNECTION\n",
      "{'their_did': 'UwKxBXxdvWG8pqBzqBDZTy', 'invitation_mode': 'once', 'updated_at': '2020-06-24 21:31:37.280896Z', 'connection_id': '95e91f5d-3b56-4d36-9a74-ee17568d7b17', 'their_label': 'Alice', 'initiator': 'self', 'routing_state': 'none', 'invitation_key': '8WaYDnM4YYP8ECakf5dTVNbZQuvHTNgVeuZRosHru8Uq', 'state': 'active', 'created_at': '2020-06-24 21:31:02.134349Z', 'accept': 'manual', 'my_did': 'VAX9Ui58cUVnSatZYq2XTe'}\n",
      "BASIC MESSAGE - DATA -> RESEARCH\n",
      "{}\n",
      "Script executed in 40.14 seconds.\n"
     ]
    }
   ],
   "source": [
    "async def main():\n",
    "    await asyncio.gather(start_agent())\n",
    "\n",
    "s = time.perf_counter()\n",
    "await main()\n",
    "elapsed = time.perf_counter() - s\n",
    "print(f\"Script executed in {elapsed:0.2f} seconds.\")"
   ]
  },
  {
   "cell_type": "code",
   "execution_count": null,
   "metadata": {},
   "outputs": [],
   "source": [
    "# if __name__ == \"__main__\":\n",
    "\n",
    "#     try:\n",
    "#         asyncio.get_event_loop().run_until_complete(start_agent())\n",
    "#     except KeyboardInterrupt:\n",
    "#         os._exit(1)"
   ]
  }
 ],
 "metadata": {
  "kernelspec": {
   "display_name": "Python 3",
   "language": "python",
   "name": "python3"
  },
  "language_info": {
   "codemirror_mode": {
    "name": "ipython",
    "version": 3
   },
   "file_extension": ".py",
   "mimetype": "text/x-python",
   "name": "python",
   "nbconvert_exporter": "python",
   "pygments_lexer": "ipython3",
   "version": "3.7.6"
  }
 },
 "nbformat": 4,
 "nbformat_minor": 4
}
