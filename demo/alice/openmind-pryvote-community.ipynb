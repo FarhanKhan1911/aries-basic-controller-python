{
 "cells": [
  {
   "cell_type": "markdown",
   "metadata": {
    "collapsed": true
   },
   "source": [
    "# Aries Basic Controller - Openmined PryVote Community (Alice)\n",
    "\n",
    "This notebook walks through a MVP for PryVote assuming the Openminded community will be issued an Openmined commuity credential that will enable community members to vote on basic things. The credential will be issued across a previously established connection. \n",
    "\n",
    "It is best run in parallel with the [openmind-pryvote-voter notebook](http://127.0.0.1:8889/notebooks/openmind-pryvote-voter.ipynb) controlling the agent receiving the credential to enable voting.\n",
    "\n",
    "If unfamiliar with the protocol it is worth reading through the [aries-rfs](https://github.com/hyperledger/aries-rfcs/tree/master/features/0036-issue-credential)\n"
   ]
  },
  {
   "cell_type": "code",
   "execution_count": 1,
   "metadata": {},
   "outputs": [
    {
     "name": "stdout",
     "output_type": "stream",
     "text": [
      "IPython autoawait is `on`, and set to use `asyncio`\n"
     ]
    }
   ],
   "source": [
    "%autoawait\n",
    "import time\n",
    "import asyncio"
   ]
  },
  {
   "cell_type": "code",
   "execution_count": 2,
   "metadata": {},
   "outputs": [],
   "source": [
    "from aries_basic_controller.aries_controller import AriesAgentController\n",
    "    \n",
    "WEBHOOK_HOST = \"0.0.0.0\"\n",
    "WEBHOOK_PORT = 8022\n",
    "WEBHOOK_BASE = \"\"\n",
    "ADMIN_URL = \"http://alice-agent:8021\"\n",
    "\n",
    "# Based on the aca-py agent you wish to control\n",
    "agent_controller = AriesAgentController(webhook_host=WEBHOOK_HOST, webhook_port=WEBHOOK_PORT,\n",
    "                                       webhook_base=WEBHOOK_BASE, admin_url=ADMIN_URL)\n",
    "    "
   ]
  },
  {
   "cell_type": "markdown",
   "metadata": {},
   "source": [
    "## Register Listeners\n",
    "\n",
    "The handler should get called every time the controller receives a webhook with the topic issue_credential, printing out the payload. The agent calls to this webhook every time it receives an issue-credential protocol message from a credential."
   ]
  },
  {
   "cell_type": "code",
   "execution_count": 3,
   "metadata": {},
   "outputs": [],
   "source": [
    "loop = asyncio.get_event_loop()\n",
    "loop.create_task(agent_controller.listen_webhooks())\n",
    "\n",
    "def cred_handler(payload):\n",
    "    print(\"Handle Credentials\")\n",
    "    exchange_id = payload['credential_exchange_id']\n",
    "    state = payload['state']\n",
    "    role = payload['role']\n",
    "    attributes = payload['credential_proposal_dict']['credential_proposal']['attributes']\n",
    "    print(f\"Credential exchange {exchange_id}, role: {role}, state: {state}\")\n",
    "    print(f\"Being offered: {attributes}\")\n",
    "    \n",
    "cred_listener = {\n",
    "    \"topic\": \"issue_credential\",\n",
    "    \"handler\": cred_handler\n",
    "}\n",
    "agent_controller.register_listeners([cred_listener], defaults=True)\n"
   ]
  },
  {
   "cell_type": "markdown",
   "metadata": {},
   "source": [
    "## Check the agent has an active connection\n",
    "\n",
    "**Note: An active connection is required, this should have been established on start up through the python script create_connection.py in the setup folder. If not it is possible to run through the did-exchange tutorial to create one between Alice and Bob**\n",
    "\n",
    "* [Alice](http://localhost:8888/notebooks/did-exchange-inviter.ipynb)\n",
    "* [Bob](http://localhost:8889/notebooks/did-exchange-invitee.ipynb)"
   ]
  },
  {
   "cell_type": "code",
   "execution_count": 11,
   "metadata": {},
   "outputs": [
    {
     "name": "stdout",
     "output_type": "stream",
     "text": [
      "Results :  [{'state': 'active', 'updated_at': '2020-08-18 14:23:20.442354Z', 'invitation_mode': 'once', 'connection_id': 'd7b436ec-62e8-43e4-a25f-8336a61a845b', 'my_did': '8in2BBEsL38RFAWgWcVUfJ', 'invitation_key': 'LT3sNBxQtKqjt9d3G3qPuyBEQABkkesPXLam9MaTDT5', 'initiator': 'external', 'request_id': 'e4a5d891-b66a-4615-8b49-7c0d463fa258', 'accept': 'manual', 'their_label': 'Bob', 'created_at': '2020-08-18 14:23:10.304946Z', 'routing_state': 'none', 'their_did': 'Fm38uQRi7fekTgH9VuDpU3'}]\n",
      "Connection : {'state': 'active', 'updated_at': '2020-08-18 14:23:20.442354Z', 'invitation_mode': 'once', 'connection_id': 'd7b436ec-62e8-43e4-a25f-8336a61a845b', 'my_did': '8in2BBEsL38RFAWgWcVUfJ', 'invitation_key': 'LT3sNBxQtKqjt9d3G3qPuyBEQABkkesPXLam9MaTDT5', 'initiator': 'external', 'request_id': 'e4a5d891-b66a-4615-8b49-7c0d463fa258', 'accept': 'manual', 'their_label': 'Bob', 'created_at': '2020-08-18 14:23:10.304946Z', 'routing_state': 'none', 'their_did': 'Fm38uQRi7fekTgH9VuDpU3'}\n",
      "Active Connection ID :  d7b436ec-62e8-43e4-a25f-8336a61a845b\n"
     ]
    }
   ],
   "source": [
    "response = await agent_controller.connections.get_connections()\n",
    "results = response['results']\n",
    "print(\"Results : \", results)\n",
    "if len(results) > 0:\n",
    "    connection = response['results'][0]\n",
    "    print(\"Connection :\", connection)\n",
    "    if connection['state'] == 'active':       \n",
    "        connection_id = connection[\"connection_id\"]\n",
    "        print(\"Active Connection ID : \", connection_id)\n",
    "else:\n",
    "    print(\"You must create a connection\")\n",
    "    "
   ]
  },
  {
   "cell_type": "markdown",
   "metadata": {},
   "source": [
    "## Write a Schema to the Ledger\n",
    "\n",
    "For more details see the [schema-api notebook](http://localhost:8888/notebooks/schema_api.ipynb)"
   ]
  },
  {
   "cell_type": "code",
   "execution_count": 5,
   "metadata": {},
   "outputs": [
    {
     "name": "stdout",
     "output_type": "stream",
     "text": [
      "PQRXDxdGqQGSZ8z69p4xZP:2:open_mined_community-member1:0.0.1\n"
     ]
    }
   ],
   "source": [
    "# Define you schema name - must be unique on the ledger\n",
    "schema_name = \"open_mined_community-member1\"\n",
    "# Can version the schema if you wish to update it\n",
    "schema_version = \"0.0.1\"\n",
    "# Define any list of attributes you wish to include in your schema\n",
    "attributes = [\"name\", \"community_member\"]\n",
    "\n",
    "response = await agent_controller.schema.write_schema(schema_name, attributes, schema_version)\n",
    "schema_id = response[\"schema_id\"]\n",
    "print(schema_id)\n"
   ]
  },
  {
   "cell_type": "markdown",
   "metadata": {},
   "source": [
    "## Write a Credential Definition to the Ledger\n",
    "\n",
    "More details in the [definitions notebook](http://localhost:8888/notebooks/definitions_api.ipynb)"
   ]
  },
  {
   "cell_type": "code",
   "execution_count": 6,
   "metadata": {},
   "outputs": [
    {
     "name": "stdout",
     "output_type": "stream",
     "text": [
      "{'credential_definition_id': 'PQRXDxdGqQGSZ8z69p4xZP:3:CL:10:default'}\n",
      "PQRXDxdGqQGSZ8z69p4xZP:3:CL:10:default\n"
     ]
    }
   ],
   "source": [
    "response = await agent_controller.definitions.write_cred_def(schema_id)\n",
    "print(response)\n",
    "cred_def_id = response[\"credential_definition_id\"]\n",
    "print(cred_def_id)\n",
    "# cred_def_id = 'PQRXDxdGqQGSZ8z69p4xZP:3:CL:12:default'"
   ]
  },
  {
   "cell_type": "markdown",
   "metadata": {},
   "source": [
    "**Note: You should be able to see both schema and definition transactions on the local network [here](http://localhost:9000)**"
   ]
  },
  {
   "cell_type": "markdown",
   "metadata": {},
   "source": [
    "## Populate the Attribues to Issue to Openmind-pryvote-voter (Bob)\n",
    "\n",
    "The schema defines two attributes: name and community_member. Both must be populated with attribute values that Openmined Community (Alice) wishes to issue in a credential to Openmind-pryvote-voter (Bob). To do this a list of objects must be created, each object containing the name of the attribute and it's value at a minimum. You can set the values to anything you wish.\n",
    "\n",
    "TODO: Some additional fields such as mime-type can be defined."
   ]
  },
  {
   "cell_type": "code",
   "execution_count": 7,
   "metadata": {},
   "outputs": [
    {
     "name": "stdout",
     "output_type": "stream",
     "text": [
      "[{'name': 'name', 'value': 'Bob'}, {'name': 'community_member', 'value': '1'}]\n"
     ]
    }
   ],
   "source": [
    "credential_attributes = [\n",
    "    {\"name\": \"name\", \"value\": \"Bob\"},\n",
    "    {\"name\": \"community_member\", \"value\": \"1\"}\n",
    "]\n",
    "print(credential_attributes)"
   ]
  },
  {
   "cell_type": "markdown",
   "metadata": {},
   "source": [
    "## Send Credential\n",
    "\n",
    "This sends a credential to a holder Openmind-pryvote-voter (Bob), and automates the rest of the protocol. This tutorial works best if you have initialised the [openmind-pryvote-voter notebook](http://127.0.0.1:8889/notebooks/openmind-pryvote-voter.ipynb) and registered the listener for the issue_credential webhook.\n",
    "\n",
    "There are other ways to issue a credential that require multiple api calls.\n",
    "\n",
    "**Arguments**\n",
    "* connection_id: The connection_id of the holder you wish to issue to (MUST be in active state)\n",
    "* schema_id: The id of the schema you wish to issue\n",
    "* cred_def_id: The definition (public key) to sign the credential object. This must refer to the schema_id and be written to the ledger by the same public did that is currently being used by the agent.\n",
    "* attributes: A list of attribute objects as defined above. Must match the schema attributes.\n",
    "* comment (optional): Any string, defaults to \"\"\n",
    "* auto_remove (optional): Boolean, defaults to True. I believe this removes the record of this credential once it has been issued. (TODO: double check)\n",
    "* trace (optional): Boolean, defaults to False. **Not entirely sure about this one, believe its for logging. Also when set to True it throws an error**"
   ]
  },
  {
   "cell_type": "code",
   "execution_count": 12,
   "metadata": {},
   "outputs": [
    {
     "name": "stdout",
     "output_type": "stream",
     "text": [
      "{'issuer_did': 'PQRXDxdGqQGSZ8z69p4xZP', 'auto_remove': True, 'credential_proposal': {'@type': 'did:sov:BzCbsNYhMrjHiqZDTUASHg;spec/issue-credential/1.0/credential-preview', 'attributes': [{'name': 'name', 'value': 'Bob'}, {'name': 'community_member', 'value': '1'}]}, 'connection_id': 'd7b436ec-62e8-43e4-a25f-8336a61a845b', 'trace': False, 'comment': '', 'cred_def_id': 'PQRXDxdGqQGSZ8z69p4xZP:3:CL:10:default', 'schema_id': 'PQRXDxdGqQGSZ8z69p4xZP:2:open_mined_community-member1:0.0.1', 'schema_name': 'open_mined_community-member1', 'schema_version': '0.0.1', 'schema_issuer_did': 'PQRXDxdGqQGSZ8z69p4xZP'}\n",
      "Credential exchange e4205e64-af5f-4dc9-bdfe-996c9e519769, role: issuer, state: offer_sent\n",
      "Handle Credentials\n",
      "Credential exchange e4205e64-af5f-4dc9-bdfe-996c9e519769, role: issuer, state: offer_sent\n",
      "Being offered: [{'name': 'name', 'value': 'Bob'}, {'name': 'community_member', 'value': '1'}]\n"
     ]
    }
   ],
   "source": [
    "record = await agent_controller.issuer.send_credential(connection_id, schema_id, cred_def_id, credential_attributes, trace=False)\n",
    "record_id = record['credential_exchange_id']\n",
    "state = record['state']\n",
    "role = record['role']\n",
    "#extract issuer DID for proof request requirements\n",
    "issuer_did = record['credential_proposal_dict']['issuer_did']\n",
    "print(f\"Credential exchange {record_id}, role: {role}, state: {state}\")\n"
   ]
  },
  {
   "cell_type": "markdown",
   "metadata": {},
   "source": [
    "## Get Credential Exchange Records\n",
    "\n",
    "The state of the protocol is stored in an object called a Credential Exchange. These can be retrieved from the agent either individually by ID or the full list.\n",
    "\n",
    "Each record has a state, representing the stage of the protocol the record is at and a role. Either issuer or holder."
   ]
  },
  {
   "cell_type": "code",
   "execution_count": 13,
   "metadata": {},
   "outputs": [
    {
     "name": "stdout",
     "output_type": "stream",
     "text": [
      "[{'state': 'offer_sent', 'schema_id': 'PQRXDxdGqQGSZ8z69p4xZP:2:open_mined_community-member1:0.0.1', 'connection_id': 'd7b436ec-62e8-43e4-a25f-8336a61a845b', 'auto_issue': True, 'thread_id': '29bb00d4-d0ff-456d-ac05-872b486c15d9', 'auto_offer': False, 'role': 'issuer', 'credential_offer': {'schema_id': 'PQRXDxdGqQGSZ8z69p4xZP:2:open_mined_community-member1:0.0.1', 'cred_def_id': 'PQRXDxdGqQGSZ8z69p4xZP:3:CL:10:default', 'key_correctness_proof': {'c': '99133546511852264125069053146389797344738821522860595195262741593659359789448', 'xz_cap': '509702307889563686829995636834521986762207159714283186434525823851724089762468557227391492072905095069554853638302389911834297806659462618305715572617963000043531325521228580816028533745345840718438235339688377862597749347981287755948507900004647557848085131611489468283552823101621612608026310723175764733851523833418629580465255129474343140644559565210918168312376688202173156789123893605794245599595521457070939394429389409190212656136890969554017331666380768106390838888089073284736304001248346347659364167334890387595744539851285800799805577237933496169203202076021514721081083629269430375354956306536692166658714999682211368846234339538561569726200282169823492848002523268343577650912703', 'xr_cap': [['master_secret', '42037467873183098558548203268270700875137691798817805647979282648829878460894385245084259254731416189407600878254934837696620794942858164132288614824229012645641079939554763401537756315582173447864043641062445672232721331224049282327662388602661841738938577271528446882568534496550134309436376139882567347302192623807766199166332640123504471032822573702129125398760716525074444065722140883017448856091427356539086871594536939238560238543941945526965371740400008612152302814230621847275514741845552592576093170021301043705133211054783807885355229503354929453430540168683564254901355753821272420274384196083583300234335557373647203324365546726277180740698713013389909336439965475829918960596820'], ['community_member', '652692610119556766826213879334494837136041076643813775761101146228286770394184762656452370101193061445860221812415408177939376626916998736455304768114426202247292093369318836615867189934169551154432128613909644900788913326836622211716872798718129223034564533392129057316304121014200924200019041799117586272464546677925938571474568169868135881971418312628970598910253333829402550143966426025847249080674311917284433883802218311064178650422352396727012927382117408201907240017664429537900984337184608606350388836683332367918468064895074596208488436613994043625082517744320959305947849780186302211158632869770059229590587987397373368462734855838227840468197091877155484250118762597803669480556454'], ['name', '2090309847227531937302173044625592954513354056861686572030315775055797272700882105142916832953868273875305325068192470507521440373707927697253536785756875160435153942620125536860326891259155925648559740022296175195922499060460095330357435391070283645023132338420028722251332359808625400884161463439676075072175066359277252837072979912346717267673859456956315082189410501854316103156125988267897687491951549564122579579685956004926386744876065440408263878922665578714655431273967527482916119302681858549418930636486294706982000290423490336688424183279899636164866777745919736450473910956585559640903847845791771693249790858544850126243872209493861736195918396093784346938671296949172216461602477']]}, 'nonce': '412494079184145025163755'}, 'auto_remove': True, 'initiator': 'self', 'credential_exchange_id': 'e4205e64-af5f-4dc9-bdfe-996c9e519769', 'credential_proposal_dict': {'@type': 'did:sov:BzCbsNYhMrjHiqZDTUASHg;spec/issue-credential/1.0/propose-credential', '@id': '22ff385a-d4c6-4a4a-a45a-80af64bf7275', 'schema_id': 'PQRXDxdGqQGSZ8z69p4xZP:2:open_mined_community-member1:0.0.1', 'schema_issuer_did': 'PQRXDxdGqQGSZ8z69p4xZP', 'schema_name': 'open_mined_community-member1', 'comment': '', 'schema_version': '0.0.1', 'cred_def_id': 'PQRXDxdGqQGSZ8z69p4xZP:3:CL:10:default', 'credential_proposal': {'@type': 'did:sov:BzCbsNYhMrjHiqZDTUASHg;spec/issue-credential/1.0/credential-preview', 'attributes': [{'name': 'name', 'value': 'Bob'}, {'name': 'community_member', 'value': '1'}]}, 'issuer_did': 'PQRXDxdGqQGSZ8z69p4xZP'}, 'updated_at': '2020-08-18 14:24:05.193461Z', 'credential_definition_id': 'PQRXDxdGqQGSZ8z69p4xZP:3:CL:10:default', 'created_at': '2020-08-18 14:24:05.193461Z', 'trace': False}]\n"
     ]
    }
   ],
   "source": [
    "response = await agent_controller.issuer.get_records()\n",
    "print(response['results'])"
   ]
  },
  {
   "cell_type": "code",
   "execution_count": 14,
   "metadata": {},
   "outputs": [
    {
     "name": "stdout",
     "output_type": "stream",
     "text": [
      "Credential exchange e4205e64-af5f-4dc9-bdfe-996c9e519769, role: issuer, state: offer_sent\n",
      "Handle Credentials\n",
      "Credential exchange e4205e64-af5f-4dc9-bdfe-996c9e519769, role: issuer, state: request_received\n",
      "Being offered: [{'name': 'name', 'value': 'Bob'}, {'name': 'community_member', 'value': '1'}]\n",
      "Handle Credentials\n",
      "Credential exchange e4205e64-af5f-4dc9-bdfe-996c9e519769, role: issuer, state: credential_issued\n",
      "Being offered: [{'name': 'name', 'value': 'Bob'}, {'name': 'community_member', 'value': '1'}]\n",
      "Handle Credentials\n",
      "Credential exchange e4205e64-af5f-4dc9-bdfe-996c9e519769, role: issuer, state: credential_acked\n",
      "Being offered: [{'name': 'name', 'value': 'Bob'}, {'name': 'community_member', 'value': '1'}]\n"
     ]
    }
   ],
   "source": [
    "cred_record = await agent_controller.issuer.get_record_by_id(record_id)\n",
    "state = cred_record['state']\n",
    "role = cred_record['role']\n",
    "print(f\"Credential exchange {record_id}, role: {role}, state: {state}\")"
   ]
  },
  {
   "cell_type": "markdown",
   "metadata": {},
   "source": [
    "## Remove Credential Exchange\n",
    "\n",
    "It is possible to remove stored credential exchanges from an agent. Typically when you are not interested in the credential being offered, or the credential offer that you have sent has become stale (been ignored?)."
   ]
  },
  {
   "cell_type": "code",
   "execution_count": 13,
   "metadata": {},
   "outputs": [
    {
     "name": "stdout",
     "output_type": "stream",
     "text": [
      "{}\n"
     ]
    }
   ],
   "source": [
    "response = await agent_controller.issuer.remove_record(record_id)\n",
    "print(response)"
   ]
  },
  {
   "cell_type": "code",
   "execution_count": 29,
   "metadata": {},
   "outputs": [
    {
     "name": "stdout",
     "output_type": "stream",
     "text": [
      "{'results': []}\n"
     ]
    }
   ],
   "source": [
    "response = await agent_controller.issuer.get_records()\n",
    "print(response)"
   ]
  },
  {
   "cell_type": "markdown",
   "metadata": {},
   "source": [
    "# Send Proof Request"
   ]
  },
  {
   "cell_type": "markdown",
   "metadata": {},
   "source": [
    "Request a proof of Opemined community member to prove community membership"
   ]
  },
  {
   "cell_type": "code",
   "execution_count": 17,
   "metadata": {},
   "outputs": [
    {
     "name": "stdout",
     "output_type": "stream",
     "text": [
      "Request proof of Openmined Community from Openmined PryVote Voter (Bob)\n"
     ]
    }
   ],
   "source": [
    "print(\"Request proof of Openmined Community from Openmined PryVote Voter (Bob)\")\n",
    "#Set some variables\n",
    "\n",
    "revocation = False\n",
    "SELF_ATTESTED = True\n",
    "exchange_tracing = False\n",
    "\n",
    "req_attrs = [\n",
    "    {\"name\": \"name\", \"restrictions\": [{\"issuer_did\": issuer_did}]},\n",
    "#     {\"name\": \"community_member\", \"restrictions\": [{\"issuer_did\": issuer_did}]},\n",
    "]\n",
    "\n",
    "# if revocation:\n",
    "#     req_attrs.append(\n",
    "#         {\n",
    "#             \"name\": \"degree\",\n",
    "#             \"restrictions\": [{\"issuer_did\": agent.did}],\n",
    "#             \"non_revoked\": {\"to\": int(time.time() - 1)},\n",
    "#         },\n",
    "#     )\n",
    "# else:\n",
    "#     req_attrs.append(\n",
    "#         {\"name\": \"vote\", \"restrictions\": [{\"issuer_did\": issuer_did}]}\n",
    "#     )\n",
    "\n",
    "if SELF_ATTESTED:\n",
    "    # test self-attested claims\n",
    "    req_attrs.append({\"name\": \"community_vote\"},)\n",
    "    \n",
    "#Set predicates for Zero Knowledge Proofs\n",
    "req_preds = [\n",
    "    # test zero-knowledge proofs\n",
    "    {\n",
    "        \"name\": \"community_member\",\n",
    "        \"p_type\": \">=\",\n",
    "        \"p_value\": 1,\n",
    "        \"restrictions\": [{\"issuer_did\": issuer_did}],\n",
    "    }\n",
    "]\n",
    "\n",
    "indy_proof_request = {\n",
    "    \"name\": \"Proof of Openmined Community Member\",\n",
    "    \"version\": \"1.0\",\n",
    "    \"requested_attributes\": {\n",
    "        f\"0_{req_attr['name']}_uuid\": \n",
    "        req_attr for req_attr in req_attrs\n",
    "    },\n",
    "    \"requested_predicates\": {\n",
    "        f\"0_{req_pred['name']}_GE_uuid\": \n",
    "        req_pred for req_pred in req_preds\n",
    "    },\n",
    "}\n",
    "\n",
    "if revocation:\n",
    "    indy_proof_request[\"non_revoked\"] = {\"to\": int(time.time())}\n",
    "    \n",
    "proof_request = indy_proof_request\n",
    "# exchange_tracing_id = exchange_tracing\n",
    "# proof_request_web_request = {\n",
    "#     \"connection_id\": agent.connection_id,\n",
    "#     \"proof_request\": indy_proof_request,\n",
    "#     \"trace\": exchange_tracing,\n",
    "# }"
   ]
  },
  {
   "cell_type": "code",
   "execution_count": 18,
   "metadata": {},
   "outputs": [
    {
     "name": "stdout",
     "output_type": "stream",
     "text": [
      "{'state': 'request_sent', 'role': 'verifier', 'updated_at': '2020-08-18 14:32:18.394490Z', 'connection_id': 'd7b436ec-62e8-43e4-a25f-8336a61a845b', 'auto_present': False, 'presentation_request': {'name': 'Proof of Openmined Community Member', 'version': '1.0', 'requested_attributes': {'0_name_uuid': {'name': 'name', 'restrictions': [{'issuer_did': 'PQRXDxdGqQGSZ8z69p4xZP'}]}, '0_community_vote_uuid': {'name': 'community_vote'}}, 'requested_predicates': {'0_community_member_GE_uuid': {'name': 'community_member', 'p_type': '>=', 'p_value': 1, 'restrictions': [{'issuer_did': 'PQRXDxdGqQGSZ8z69p4xZP'}]}}, 'nonce': '336136574308128896552538'}, 'initiator': 'self', 'created_at': '2020-08-18 14:32:18.394490Z', 'thread_id': '6d7b81a3-58c6-48ed-af3e-aa8900c2197c', 'trace': False, 'presentation_exchange_id': '1db7aff8-3f05-4088-a1b8-4aa26ee90cbc'}\n"
     ]
    }
   ],
   "source": [
    "response = await agent_controller.proofs.send_request(connection_id, proof_request, \"\", exchange_tracing)\n",
    "print(response)"
   ]
  },
  {
   "cell_type": "markdown",
   "metadata": {},
   "source": [
    "# Verify Proof Presentation"
   ]
  },
  {
   "cell_type": "code",
   "execution_count": 19,
   "metadata": {},
   "outputs": [
    {
     "name": "stdout",
     "output_type": "stream",
     "text": [
      "{'state': 'verified', 'role': 'verifier', 'updated_at': '2020-08-18 14:36:16.014690Z', 'connection_id': 'd7b436ec-62e8-43e4-a25f-8336a61a845b', 'auto_present': False, 'presentation_request': {'name': 'Proof of Openmined Community Member', 'version': '1.0', 'requested_attributes': {'0_name_uuid': {'name': 'name', 'restrictions': [{'issuer_did': 'PQRXDxdGqQGSZ8z69p4xZP'}]}, '0_community_vote_uuid': {'name': 'community_vote'}}, 'requested_predicates': {'0_community_member_GE_uuid': {'name': 'community_member', 'p_type': '>=', 'p_value': 1, 'restrictions': [{'issuer_did': 'PQRXDxdGqQGSZ8z69p4xZP'}]}}, 'nonce': '336136574308128896552538'}, 'initiator': 'self', 'verified': 'false', 'presentation': {'proof': {'proofs': [{'primary_proof': {'eq_proof': {'revealed_attrs': {'name': '93006290325627508022776103386395994712401809437930957652111221015872244345185'}, 'a_prime': '44657287690119584027072857224824217188830387909166642926958308992106279793124374910053616992415176589862961519096544186644207439372866817719963456220556103655129387553466890384859993584300169014493951057655932728612609528869480337913657484401019048215222394460446030111869143885884153418039249241622215745029592051841838432993081070799108395861350641043647999536456987855703204998068820754686548866980663079937659415221840288206276461744488334237426389022621898350713683173554920964662239941181746669048292882638856377574634776452281873270565557245683452624588812987030838737270724320532257524715980596250047519092373', 'e': '138461079049131095807639092180272476225642739483223274343432077170346957652591419062405896521694427623977410090802632856058705238927759446', 'v': '1187575287467125565118006598012960174803557215178707194453131882372544798537217596737329968875819487563822738059528513661959603892920291703500350741305819514460765322920005290148458567694487373855529834328849140800791792457431805385951894964841225958624307129375865052629576193319956835476948862517458125701583410616363258557050604816880530431174574257763260613951376507513195111089197087844451016329545202024644651456045281648174827047944432620956488123588119066320394086447843993088420690900275960168148293061115672699946432336035252280802622728381495858247936106727731070718827530838226114492392169432843969219398480476780252338673818562086111856137938552413188276699393148610736870666794569679475321670293878074230272516164934205863912015608216787632221280587945370369409672325753478224470463146274439476822939665916626385555630047293282708827024702290891961881652997731970583017201873395897949758150796706647613221538', 'm': {'community_member': '4580190173477481944550776712033675473813186758823551308083155910225236101596766752872566329279899701184950228010397478762773389301478117788965618261263664285068199771509573000505', 'master_secret': '2492367610160585799934268708987316353152980483640231267538213375021158372276340302223783978549126195761640769882511749219504072929604927706926273486523904963813018450338956146565'}, 'm2': '5224276222464139819133462024722664412919171003487024620029519698462685005078559263409586876133867259770502027124646511934090809705248602303365254993282608092134140639341161096394'}, 'ge_proofs': [{'u': {'3': '7647971356869607037312984852114116390618719683559301307911599230029009469600958215931300637892805479493855167527291269645605286164857036270481976308152692790631924306203029434103', '0': '5487516625440412444774057821304653199710782298067361868453308629161986805601167600619588815466401638670315936233144746212080588215024323359688043292171279235105480850082993746871', '1': '2676102547861323744056493580498338215639973707885690863550180580592300992838358760638419733485028485662380514965910736652373389921837900058148075825212573392351898705235531290816', '2': '12420054003621381489438137213384751096574349845380576438648456273038871028776474168550020816352503729888279011525652674518240643370112177401315940580657682274102450363135659482744'}, 'r': {'3': '2590093810301940000942772711930794101053216344226746131111580900006982165403452870109846560471651898970281153210710843949596167343335284773428368027942196786289974747022953067870743002913199057715079759351058663753988669130324851284284760806189029650121571182362947972258700061418823334197051924165883889276605136880985706232685598283439942350532522001649308140372837193476751821464256310583838808670388331267596133801221995084379356539251630896577278030246909409464134123314542447827735538980545714779911635538312636951097514243651013114424134580197530172753199445646185487101563227696244478915042236996428610155325211953966334831101673937322726082670011741827996393996493042980883025221819008288802232624888672901027', 'DELTA': '3371800329467376299319455866191696763708373032130239800707625862394365073245377582223249446584026839134933015320242685094567502178560068376653508244212833894099631868303241364439055411523044865429396039786328106280464259189255543642412502223990242331328231857074614386082444924313915636263188107346763071976973124432744786729349366401703973405042218576858811022896164394292007505252667469567343216204768450458930137889020201688280076884038636196675252192697997137306310520797334840068312684888782625551387445235664374903502188140686447127244439500305151360803178389478368287872177633850517980815182175686828861151203870259847585072530461394580992516796467170411471095474099961686611057069683926798344277982078401726227', '1': '2787083300197003506307338643669122197803396246566906428034695032465261423128064899221882060242488914739228408453231306681215549031274776147085917375327224809640986972311671129909820606772016091020048226521663540098443203793108766595086089453472147848960776831049358915655747985745732072596077173479823560883472068874122571312649385064754391948334564122614246795763189796638613375315031655107975501993093245998937721441697703266449929387316566690730991989653611413619305721608018290012529780183662058129011406320005000801430128610465837054257491972098971828840737687729464708246432682274995557367858784667750350031656171486569181495115141574129065930400737500696015468745611081467799369470211487775488648097647877362947', '0': '954156276601006669120081701572312401244951032200049068445958185708954537822000564049311009470392510083477858871206159008653725752533228667056252271980681984854809716887910873562591418536714820237737557351217196563051756295797318645237899819855090897682748785147988094280470698996196773970418689960338637113667091147425950067508211864846482600286112851878556339557612764533616025358743017294706324401367766848753097027985631428173424390014974890941807095576988919318924203257043441660616292552434309087298259382597400107055043251591842086402771469516349126584865826732764537301116709207676989212795723066582127030826633360346470612204049759885721851870351045928966259204501070861463043623101993225444362264542343363798', '2': '2086130043654942341121953267920367278869448345742826483802278528403138967181075600766927428733927703721583589529234439124180378670388664149128042508399616456209873561139781886052294596528269630696515984922918481107302811267462508190812447859522206899352414103321572682213297434949134350744307433989139400241073011227955102644848415848480563571430085056227396942428417789727243428670434717672927845538681309889014567225080117221185984624674494834436128808643950148112938342786370817341884732897173674223909981908596981564511975534656530354172257327628507073267441222055594751691737241874431822602484748421700125460180761522283446278669758707596637911457382043413552767338673727403691257664668967541932285074186737773907'}, 'mj': '4580190173477481944550776712033675473813186758823551308083155910225236101596766752872566329279899701184950228010397478762773389301478117788965618261263664285068199771509573000505', 'alpha': '19499006502823046345576696094117507508161086998432239894446780603129658029087247767688516023466902273276986252138539224005760769243995865311225418654014863677863351820229617506990381218933666081462916655559976452031642424329074990077025130370147963683674846591868870552057956283230413403267081144316051143645517703759362510647188564817732917383355089090253404584055612709838636886266370271536940862016788179507596203291715375783750947997637969383299033783192203420002385780824786980330087255021386917474954541366737729759088490475207593716889122631974882853449497809705024488150580107567074143056938534425635991684803342017319738348500497724343199703262694566343185849443334373986576911913997069472765446119612194141147566433706289253476200249215446257161991089016243366462716202268114160007029927302710711158333212686715533467295289746176', 't': {'1': '42119718526972354263477047114970463624982631473284548170876591981162605228852710248657389771232614213025295617781285128038471101280408753620638791635211174471279361479872694482445374644771981036593616560609636058258037449769324904720227559309515471759539086396886632043349388166571065258241510988492749985677745393619131527295996222055504057164475086119862653795690786217344761408425420099177026053785869330317817835116057020477536644090910196123681720558722803953768413036853485533122940993191890249612156241256302095299522843722718404667886271906370382927400844513621654511686669855906369083070097013629230961875432', '2': '43494765194403903186109380879666693110591261120884588717049448393177151516127747244365995094559992832232794787613772113391578470030142024710368928667132056352900625341373765609809049722068624962174294811773256733438172328980105314092790995391811732297218570721661999393911965647924424574755718185221628475238908872834279805711624625728995307207226433713262275080462375280096520357236206700338214168895783628055176184226913941597418837084187406653077053542559653302101365289782174422175504516656701668399132861496075630665651206868826501044233368328879949635164263109685455411882905571944555226251773977347959840662245', 'DELTA': '45807253764488101144480553172239670253849590394266444093985934566797389008073631808126757525862274064570678276681295956354294688281886071148714101201332691959876003783317298155490875179939379904938926268909122266193773787702263354241049502699001917021070398471230323775336984300458958748519679111094322714813280373017478980008572379857834687876884961665106548517918140190853605118669607420613532683708955050832464408229430146017562269711822484064927134832625003047106523999156143792441896795773558174693318182222164467220994767622734940463433701771139886905669241897963421724678154616229176224263770286245597288841832', '0': '21504137849575500096635388983393639424517804798318578190402852711633591303256774565007050376589469191693939396364000841996753831713108775428303930276076406394906884730299012095108584646416872872771261757073204369972000045767363167676660227186262942071599266728321809025744622960477594630496539102636372691394938699251608744727854413106366024003014840775255187827536262122484395078614303363121614455822279542702689553432894458635684329799108484345034399971202426686529234791011851807729517666009291541720675688687728595710368535675946639681010070643433590915422862723658807554769505474657174101817224437449872726690796', '3': '66161395628331233716450167288435663564742644001144690688493175406602715839384403432891074563958387601792029017547161105097032985753073956283097301489598464869814031549103183075956578867840805135512668791158614522504323677164165408764398060123083200587347583743295902839982088441418000433403593031673232565446570328501179544012854269764543740343762041855394381181618651930917083221737881919182029399136983409904888884363036375455603830716889682341546540018983372348884117343962903611778373375686812671481409149632398639895592123504851076604923597249869754555867809209869160725571591032058242918628906683105967731853263'}, 'predicate': {'attr_name': 'community_member', 'p_type': 'GE', 'value': 1}}]}, 'non_revoc_proof': None}], 'aggregated_proof': {'c_hash': '87278504055180147244314553443853481301967697730267097351129850670570576371313', 'c_list': [[1, 97, 192, 252, 251, 216, 15, 211, 165, 145, 174, 148, 9, 47, 97, 211, 85, 216, 85, 19, 232, 45, 70, 37, 55, 126, 199, 4, 144, 248, 198, 20, 4, 148, 216, 90, 151, 248, 0, 181, 70, 85, 186, 36, 201, 27, 131, 153, 48, 124, 175, 66, 176, 4, 204, 173, 23, 255, 38, 245, 226, 145, 249, 247, 253, 199, 126, 106, 104, 84, 46, 157, 54, 198, 247, 228, 89, 228, 53, 199, 210, 100, 194, 228, 213, 59, 176, 215, 207, 9, 180, 202, 184, 188, 39, 38, 117, 218, 156, 240, 114, 1, 198, 244, 163, 2, 98, 57, 98, 166, 73, 141, 197, 159, 153, 42, 121, 158, 181, 79, 117, 232, 239, 164, 190, 180, 148, 33, 147, 44, 147, 240, 158, 124, 181, 34, 144, 101, 194, 72, 205, 82, 195, 63, 116, 29, 198, 241, 155, 246, 122, 141, 237, 33, 101, 101, 73, 42, 95, 191, 25, 191, 120, 209, 213, 119, 157, 246, 179, 80, 124, 217, 215, 196, 211, 196, 243, 248, 53, 122, 75, 121, 125, 4, 161, 201, 230, 64, 228, 30, 131, 60, 168, 118, 211, 106, 81, 3, 41, 169, 113, 20, 148, 93, 29, 151, 25, 18, 192, 7, 130, 35, 55, 176, 242, 46, 234, 191, 254, 67, 35, 235, 182, 239, 94, 249, 222, 195, 111, 100, 80, 197, 175, 26, 211, 229, 15, 68, 51, 170, 138, 209, 146, 103, 128, 106, 128, 127, 7, 45, 140, 176, 187, 95, 95, 110, 149], [170, 88, 120, 58, 80, 64, 225, 39, 138, 140, 84, 21, 161, 203, 80, 134, 105, 230, 23, 77, 6, 174, 51, 108, 230, 114, 149, 229, 74, 103, 253, 163, 112, 203, 29, 229, 225, 103, 29, 47, 9, 185, 78, 26, 175, 200, 2, 182, 184, 29, 210, 26, 197, 64, 111, 84, 103, 95, 208, 51, 239, 20, 230, 144, 33, 114, 205, 84, 190, 149, 218, 180, 141, 154, 236, 167, 56, 25, 208, 174, 34, 217, 29, 94, 108, 245, 167, 35, 125, 203, 251, 133, 226, 80, 148, 76, 21, 0, 167, 180, 208, 93, 18, 142, 190, 89, 187, 109, 195, 97, 36, 251, 127, 246, 26, 209, 104, 67, 95, 226, 182, 162, 18, 117, 89, 147, 11, 31, 64, 94, 58, 58, 129, 156, 118, 149, 200, 137, 80, 245, 211, 126, 97, 32, 78, 116, 13, 16, 107, 83, 5, 249, 233, 213, 72, 169, 204, 31, 3, 141, 170, 146, 64, 249, 224, 157, 16, 91, 115, 34, 70, 106, 209, 180, 113, 161, 72, 238, 166, 170, 101, 147, 149, 103, 139, 158, 68, 153, 88, 35, 207, 12, 231, 93, 139, 49, 17, 158, 208, 156, 104, 49, 231, 216, 227, 169, 116, 183, 142, 75, 252, 181, 174, 43, 141, 174, 182, 167, 233, 207, 99, 112, 106, 136, 255, 144, 239, 178, 137, 70, 28, 127, 9, 58, 193, 32, 26, 193, 94, 14, 48, 124, 58, 158, 73, 178, 228, 57, 213, 202, 34, 237, 216, 10, 11, 236], [1, 77, 167, 6, 85, 237, 161, 250, 39, 28, 146, 179, 99, 204, 160, 171, 49, 222, 4, 11, 89, 228, 235, 217, 52, 40, 59, 253, 47, 209, 166, 148, 124, 218, 241, 193, 153, 52, 119, 146, 63, 211, 238, 125, 126, 140, 76, 161, 61, 175, 240, 45, 125, 3, 228, 228, 97, 179, 233, 180, 65, 197, 82, 195, 245, 85, 238, 44, 165, 79, 103, 20, 7, 221, 84, 16, 25, 229, 20, 146, 236, 89, 231, 126, 77, 171, 176, 138, 30, 84, 165, 9, 190, 130, 85, 111, 96, 245, 18, 251, 40, 17, 137, 54, 64, 136, 123, 156, 68, 226, 189, 213, 49, 235, 152, 99, 202, 34, 133, 171, 130, 87, 108, 56, 118, 81, 2, 79, 185, 170, 54, 88, 135, 151, 107, 150, 233, 140, 231, 107, 158, 63, 237, 47, 69, 104, 247, 88, 190, 171, 241, 42, 32, 9, 103, 38, 69, 187, 148, 87, 45, 196, 30, 179, 48, 147, 232, 127, 244, 248, 8, 22, 121, 116, 224, 0, 161, 132, 211, 47, 43, 7, 165, 127, 23, 231, 82, 22, 187, 238, 177, 159, 110, 133, 241, 204, 26, 207, 201, 9, 153, 156, 235, 39, 101, 144, 49, 193, 49, 193, 172, 51, 112, 136, 194, 224, 158, 66, 124, 202, 193, 245, 119, 192, 127, 89, 123, 234, 111, 93, 88, 148, 96, 187, 170, 144, 114, 18, 158, 157, 70, 91, 191, 124, 207, 237, 237, 204, 104, 64, 205, 211, 246, 5, 175, 89, 232], [1, 88, 139, 127, 26, 96, 250, 13, 115, 59, 246, 110, 9, 1, 5, 138, 29, 169, 3, 215, 34, 189, 33, 197, 116, 43, 56, 126, 15, 44, 134, 98, 54, 70, 200, 211, 67, 176, 63, 129, 226, 206, 193, 6, 49, 145, 193, 213, 10, 156, 55, 88, 33, 195, 179, 222, 197, 94, 223, 2, 182, 133, 119, 37, 51, 92, 40, 32, 176, 49, 96, 229, 113, 82, 49, 145, 182, 46, 92, 24, 17, 53, 22, 66, 149, 216, 224, 117, 153, 34, 28, 108, 30, 138, 177, 231, 54, 64, 54, 5, 101, 245, 198, 133, 179, 62, 206, 48, 135, 166, 120, 156, 99, 248, 143, 11, 32, 140, 33, 42, 42, 1, 46, 29, 207, 211, 222, 6, 38, 25, 165, 70, 22, 14, 85, 210, 224, 165, 143, 150, 238, 121, 135, 70, 242, 30, 225, 244, 112, 203, 68, 81, 169, 164, 95, 24, 138, 244, 78, 170, 2, 214, 244, 3, 134, 184, 192, 78, 124, 90, 116, 8, 75, 6, 238, 97, 67, 192, 135, 197, 175, 93, 138, 124, 203, 89, 150, 45, 17, 90, 174, 232, 176, 30, 26, 187, 226, 16, 23, 0, 98, 250, 184, 118, 89, 199, 111, 30, 235, 206, 247, 223, 68, 213, 3, 237, 228, 218, 36, 126, 190, 252, 6, 200, 142, 139, 67, 131, 175, 128, 68, 163, 162, 235, 148, 4, 152, 35, 40, 122, 7, 122, 146, 217, 195, 96, 111, 67, 91, 37, 41, 87, 193, 98, 21, 98, 229], [2, 12, 25, 101, 174, 231, 30, 57, 188, 132, 108, 76, 143, 1, 107, 132, 250, 50, 229, 157, 41, 99, 92, 191, 57, 202, 14, 216, 223, 104, 229, 76, 228, 44, 103, 39, 82, 179, 93, 144, 196, 161, 153, 164, 74, 82, 231, 232, 97, 125, 46, 216, 38, 91, 247, 72, 19, 4, 213, 224, 56, 158, 118, 194, 218, 36, 200, 200, 31, 15, 47, 253, 106, 230, 0, 162, 186, 7, 21, 170, 13, 206, 116, 253, 98, 55, 75, 201, 5, 222, 209, 13, 89, 207, 186, 22, 44, 128, 115, 101, 177, 249, 66, 244, 201, 103, 176, 73, 177, 59, 103, 126, 235, 91, 176, 222, 80, 5, 245, 2, 176, 17, 137, 163, 133, 6, 183, 53, 37, 208, 109, 212, 124, 9, 218, 79, 154, 110, 162, 78, 166, 49, 220, 118, 146, 197, 142, 69, 111, 211, 75, 50, 39, 84, 135, 117, 196, 86, 90, 177, 62, 143, 205, 4, 13, 105, 51, 9, 231, 132, 138, 140, 84, 76, 14, 178, 204, 87, 206, 135, 104, 23, 203, 128, 65, 198, 246, 15, 207, 129, 103, 71, 228, 119, 158, 8, 45, 81, 5, 3, 207, 191, 164, 204, 172, 86, 251, 199, 180, 51, 57, 69, 14, 2, 126, 250, 64, 7, 77, 213, 151, 54, 178, 40, 228, 30, 15, 9, 248, 197, 36, 15, 218, 49, 42, 182, 91, 59, 82, 126, 162, 8, 32, 149, 101, 245, 233, 235, 174, 247, 116, 249, 235, 213, 3, 71, 207], [1, 106, 221, 4, 66, 118, 115, 131, 211, 84, 144, 19, 184, 16, 31, 73, 191, 94, 19, 112, 237, 120, 15, 155, 243, 91, 223, 23, 70, 140, 154, 92, 254, 125, 138, 110, 205, 127, 105, 100, 91, 32, 165, 114, 211, 185, 83, 242, 214, 38, 75, 214, 221, 143, 247, 118, 191, 145, 67, 215, 76, 93, 104, 218, 94, 246, 148, 117, 44, 154, 52, 4, 52, 75, 156, 254, 193, 150, 118, 217, 83, 198, 85, 55, 56, 232, 218, 43, 71, 114, 112, 123, 68, 153, 22, 173, 183, 116, 115, 76, 56, 92, 33, 17, 49, 182, 148, 183, 134, 109, 28, 158, 250, 89, 42, 171, 118, 161, 22, 28, 123, 225, 122, 161, 72, 186, 29, 149, 123, 172, 125, 232, 107, 160, 249, 38, 35, 27, 188, 127, 172, 156, 174, 248, 243, 181, 218, 2, 26, 206, 100, 60, 11, 56, 153, 84, 63, 60, 15, 91, 2, 75, 193, 53, 86, 170, 6, 157, 38, 214, 20, 99, 203, 54, 70, 55, 127, 243, 92, 119, 159, 185, 36, 38, 54, 3, 99, 9, 135, 107, 29, 19, 122, 217, 43, 226, 248, 20, 186, 23, 181, 93, 239, 163, 234, 168, 90, 212, 179, 89, 184, 208, 235, 155, 241, 221, 163, 35, 0, 232, 125, 141, 51, 219, 52, 16, 95, 183, 228, 52, 101, 36, 218, 234, 124, 162, 49, 11, 106, 150, 234, 194, 156, 167, 40, 255, 32, 44, 142, 25, 237, 20, 135, 122, 19, 194, 104]]}}, 'requested_proof': {'revealed_attrs': {'0_name_uuid': {'sub_proof_index': 0, 'raw': 'Bob', 'encoded': '93006290325627508022776103386395994712401809437930957652111221015872244345185'}}, 'self_attested_attrs': {'0_community_vote_uuid': 'my self-attested value', '0_community_member_uuid': 'my self-attested value'}, 'unrevealed_attrs': {}, 'predicates': {'0_community_member_GE_uuid': {'sub_proof_index': 0}}}, 'identifiers': [{'schema_id': 'PQRXDxdGqQGSZ8z69p4xZP:2:open_mined_community-member1:0.0.1', 'cred_def_id': 'PQRXDxdGqQGSZ8z69p4xZP:3:CL:10:default', 'rev_reg_id': None, 'timestamp': None}]}, 'created_at': '2020-08-18 14:32:18.394490Z', 'thread_id': '6d7b81a3-58c6-48ed-af3e-aa8900c2197c', 'trace': False, 'presentation_exchange_id': '1db7aff8-3f05-4088-a1b8-4aa26ee90cbc'}\n"
     ]
    }
   ],
   "source": [
    "verify = await agent_controller.proofs.verify_presentation('1db7aff8-3f05-4088-a1b8-4aa26ee90cbc')\n",
    "print(verify)"
   ]
  },
  {
   "cell_type": "markdown",
   "metadata": {},
   "source": [
    "## End of Tutorial\n",
    "\n",
    "Be sure to terminate the controller so you can run another tutorial.\n",
    "\n",
    "There are a few api calls not covered in this tutorial so far. Mostly around credential revocation."
   ]
  },
  {
   "cell_type": "code",
   "execution_count": 20,
   "metadata": {},
   "outputs": [
    {
     "name": "stdout",
     "output_type": "stream",
     "text": [
      "None\n"
     ]
    }
   ],
   "source": [
    "response = await agent_controller.terminate()\n",
    "print(response)"
   ]
  },
  {
   "cell_type": "code",
   "execution_count": null,
   "metadata": {},
   "outputs": [],
   "source": []
  }
 ],
 "metadata": {
  "kernelspec": {
   "display_name": "Python 3",
   "language": "python",
   "name": "python3"
  },
  "language_info": {
   "codemirror_mode": {
    "name": "ipython",
    "version": 3
   },
   "file_extension": ".py",
   "mimetype": "text/x-python",
   "name": "python",
   "nbconvert_exporter": "python",
   "pygments_lexer": "ipython3",
   "version": "3.7.6"
  }
 },
 "nbformat": 4,
 "nbformat_minor": 1
}
