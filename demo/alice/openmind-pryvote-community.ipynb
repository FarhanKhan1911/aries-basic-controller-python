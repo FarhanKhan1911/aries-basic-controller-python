{
 "cells": [
  {
   "cell_type": "markdown",
   "metadata": {
    "collapsed": true
   },
   "source": [
    "# 1.\n",
    "# Aries Basic Controller - Openmined PryVote Community (Alice)\n",
    "\n",
    "This notebook walks through a MVP for PryVote assuming the Openminded community will be issued an Openmined commuity credential that will enable community members to vote on basic things. The credential will be issued across a previously established connection. \n",
    "\n",
    "It is best run in parallel with the [openmind-pryvote-voter notebook](http://127.0.0.1:8889/notebooks/openmind-pryvote-voter.ipynb) controlling the agent receiving the credential to enable voting.\n",
    "\n",
    "If unfamiliar with the protocol it is worth reading through the [aries-rfs](https://github.com/hyperledger/aries-rfcs/tree/master/features/0036-issue-credential)\n"
   ]
  },
  {
   "cell_type": "code",
   "execution_count": 1,
   "metadata": {},
   "outputs": [
    {
     "name": "stdout",
     "output_type": "stream",
     "text": [
      "IPython autoawait is `on`, and set to use `asyncio`\n"
     ]
    }
   ],
   "source": [
    "%autoawait\n",
    "import time\n",
    "import asyncio"
   ]
  },
  {
   "cell_type": "code",
   "execution_count": 2,
   "metadata": {},
   "outputs": [],
   "source": [
    "from aries_basic_controller.aries_controller import AriesAgentController\n",
    "    \n",
    "WEBHOOK_HOST = \"0.0.0.0\"\n",
    "WEBHOOK_PORT = 8022\n",
    "WEBHOOK_BASE = \"\"\n",
    "ADMIN_URL = \"http://alice-agent:8021\"\n",
    "\n",
    "# Based on the aca-py agent you wish to control\n",
    "agent_controller = AriesAgentController(webhook_host=WEBHOOK_HOST, webhook_port=WEBHOOK_PORT,\n",
    "                                       webhook_base=WEBHOOK_BASE, admin_url=ADMIN_URL)\n",
    "    "
   ]
  },
  {
   "cell_type": "markdown",
   "metadata": {},
   "source": [
    "# 2\n",
    "## Register Listeners\n",
    "\n",
    "The handler should get called every time the controller receives a webhook with the topic issue_credential, printing out the payload. The agent calls to this webhook every time it receives an issue-credential protocol message from a credential."
   ]
  },
  {
   "cell_type": "code",
   "execution_count": 3,
   "metadata": {},
   "outputs": [],
   "source": [
    "loop = asyncio.get_event_loop()\n",
    "loop.create_task(agent_controller.listen_webhooks())\n",
    "\n",
    "def cred_handler(payload):\n",
    "    print(\"Handle Credentials\")\n",
    "    exchange_id = payload['credential_exchange_id']\n",
    "    state = payload['state']\n",
    "    role = payload['role']\n",
    "    attributes = payload['credential_proposal_dict']['credential_proposal']['attributes']\n",
    "    print(f\"Credential exchange {exchange_id}, role: {role}, state: {state}\")\n",
    "    print(f\"Being offered: {attributes}\")\n",
    "    \n",
    "cred_listener = {\n",
    "    \"topic\": \"issue_credential\",\n",
    "    \"handler\": cred_handler\n",
    "}\n",
    "agent_controller.register_listeners([cred_listener], defaults=True)\n"
   ]
  },
  {
   "cell_type": "markdown",
   "metadata": {},
   "source": [
    "# 3\n",
    "## Check the agent has an active connection\n",
    "\n",
    "**Note: An active connection is required, this should have been established on start up through the python script create_connection.py in the setup folder. If not it is possible to run through the did-exchange tutorial to create one between Alice and Bob**\n",
    "\n",
    "* [Alice](http://localhost:8888/notebooks/did-exchange-inviter.ipynb)\n",
    "* [Bob](http://localhost:8889/notebooks/did-exchange-invitee.ipynb)"
   ]
  },
  {
   "cell_type": "code",
   "execution_count": 6,
   "metadata": {},
   "outputs": [
    {
     "name": "stdout",
     "output_type": "stream",
     "text": [
      "Results :  [{'their_did': '8Mdnndc4rQh48dgd4fJafu', 'created_at': '2020-08-20 11:52:13.542878Z', 'request_id': '068884d7-b52d-4350-be6b-e6a489434862', 'their_label': 'Bob', 'routing_state': 'none', 'accept': 'manual', 'invitation_key': 'HW7TebAa8BpWjswJK5JrV5RWZea7vdfFYobgcTEeKzqq', 'updated_at': '2020-08-20 11:52:23.711440Z', 'initiator': 'external', 'connection_id': '4ce54ebe-df4a-4904-83ea-5c21144c9997', 'state': 'active', 'invitation_mode': 'once', 'my_did': 'XckxJTRsT7ZS4y2pHA2R7y'}]\n",
      "Connection : {'their_did': '8Mdnndc4rQh48dgd4fJafu', 'created_at': '2020-08-20 11:52:13.542878Z', 'request_id': '068884d7-b52d-4350-be6b-e6a489434862', 'their_label': 'Bob', 'routing_state': 'none', 'accept': 'manual', 'invitation_key': 'HW7TebAa8BpWjswJK5JrV5RWZea7vdfFYobgcTEeKzqq', 'updated_at': '2020-08-20 11:52:23.711440Z', 'initiator': 'external', 'connection_id': '4ce54ebe-df4a-4904-83ea-5c21144c9997', 'state': 'active', 'invitation_mode': 'once', 'my_did': 'XckxJTRsT7ZS4y2pHA2R7y'}\n",
      "Active Connection ID :  4ce54ebe-df4a-4904-83ea-5c21144c9997\n"
     ]
    }
   ],
   "source": [
    "response = await agent_controller.connections.get_connections()\n",
    "results = response['results']\n",
    "print(\"Results : \", results)\n",
    "if len(results) > 0:\n",
    "    connection = response['results'][0]\n",
    "    print(\"Connection :\", connection)\n",
    "    if connection['state'] == 'active':       \n",
    "        connection_id = connection[\"connection_id\"]\n",
    "        print(\"Active Connection ID : \", connection_id)\n",
    "else:\n",
    "    print(\"You must create a connection\")\n",
    "    "
   ]
  },
  {
   "cell_type": "markdown",
   "metadata": {},
   "source": [
    "# 6\n",
    "## Write a Schema to the Ledger\n",
    "\n",
    "For more details see the [schema-api notebook](http://localhost:8888/notebooks/schema_api.ipynb)"
   ]
  },
  {
   "cell_type": "code",
   "execution_count": 7,
   "metadata": {},
   "outputs": [
    {
     "name": "stdout",
     "output_type": "stream",
     "text": [
      "PQRXDxdGqQGSZ8z69p4xZP:2:open_mined_community-member1:0.0.1\n"
     ]
    }
   ],
   "source": [
    "# Define you schema name - must be unique on the ledger\n",
    "schema_name = \"open_mined_community-member1\"\n",
    "# Can version the schema if you wish to update it\n",
    "schema_version = \"0.0.1\"\n",
    "# Define any list of attributes you wish to include in your schema\n",
    "attributes = [\"name\", \"community_member\"]\n",
    "\n",
    "response = await agent_controller.schema.write_schema(schema_name, attributes, schema_version)\n",
    "schema_id = response[\"schema_id\"]\n",
    "print(schema_id)\n"
   ]
  },
  {
   "cell_type": "markdown",
   "metadata": {},
   "source": [
    "# 7\n",
    "## Write a Credential Definition to the Ledger\n",
    "\n",
    "More details in the [definitions notebook](http://localhost:8888/notebooks/definitions_api.ipynb)"
   ]
  },
  {
   "cell_type": "code",
   "execution_count": 8,
   "metadata": {},
   "outputs": [
    {
     "name": "stdout",
     "output_type": "stream",
     "text": [
      "{'credential_definition_id': 'PQRXDxdGqQGSZ8z69p4xZP:3:CL:10:default'}\n",
      "PQRXDxdGqQGSZ8z69p4xZP:3:CL:10:default\n"
     ]
    }
   ],
   "source": [
    "response = await agent_controller.definitions.write_cred_def(schema_id)\n",
    "print(response)\n",
    "cred_def_id = response[\"credential_definition_id\"]\n",
    "print(cred_def_id)\n",
    "# cred_def_id = 'PQRXDxdGqQGSZ8z69p4xZP:3:CL:12:default'"
   ]
  },
  {
   "cell_type": "markdown",
   "metadata": {},
   "source": [
    "**Note: You should be able to see both schema and definition transactions on the local network [here](http://localhost:9000)**"
   ]
  },
  {
   "cell_type": "markdown",
   "metadata": {},
   "source": [
    "# 8\n",
    "## Populate the Attribues to Issue to Openmind-pryvote-voter (Bob)\n",
    "\n",
    "The schema defines two attributes: name and community_member. Both must be populated with attribute values that Openmined Community (Alice) wishes to issue in a credential to Openmind-pryvote-voter (Bob). To do this a list of objects must be created, each object containing the name of the attribute and it's value at a minimum. You can set the values to anything you wish.\n",
    "\n",
    "TODO: Some additional fields such as mime-type can be defined."
   ]
  },
  {
   "cell_type": "code",
   "execution_count": 11,
   "metadata": {},
   "outputs": [
    {
     "name": "stdout",
     "output_type": "stream",
     "text": [
      "[{'name': 'name', 'value': 'Bob'}, {'name': 'community_member', 'value': '1'}]\n"
     ]
    }
   ],
   "source": [
    "credential_attributes = [\n",
    "    {\"name\": \"name\", \"value\": \"Bob\"},\n",
    "    {\"name\": \"community_member\", \"value\": \"1\"}\n",
    "]\n",
    "print(credential_attributes)"
   ]
  },
  {
   "cell_type": "markdown",
   "metadata": {},
   "source": [
    "# 9\n",
    "## Send Credential\n",
    "\n",
    "This sends a credential to a holder Openmind-pryvote-voter (Bob), and automates the rest of the protocol. This tutorial works best if you have initialised the [openmind-pryvote-voter notebook](http://127.0.0.1:8889/notebooks/openmind-pryvote-voter.ipynb) and registered the listener for the issue_credential webhook.\n",
    "\n",
    "There are other ways to issue a credential that require multiple api calls.\n",
    "\n",
    "**Arguments**\n",
    "* connection_id: The connection_id of the holder you wish to issue to (MUST be in active state)\n",
    "* schema_id: The id of the schema you wish to issue\n",
    "* cred_def_id: The definition (public key) to sign the credential object. This must refer to the schema_id and be written to the ledger by the same public did that is currently being used by the agent.\n",
    "* attributes: A list of attribute objects as defined above. Must match the schema attributes.\n",
    "* comment (optional): Any string, defaults to \"\"\n",
    "* auto_remove (optional): Boolean, defaults to True. I believe this removes the record of this credential once it has been issued. (TODO: double check)\n",
    "* trace (optional): Boolean, defaults to False. **Not entirely sure about this one, believe its for logging. Also when set to True it throws an error**"
   ]
  },
  {
   "cell_type": "code",
   "execution_count": 12,
   "metadata": {},
   "outputs": [
    {
     "name": "stdout",
     "output_type": "stream",
     "text": [
      "{'issuer_did': 'PQRXDxdGqQGSZ8z69p4xZP', 'auto_remove': True, 'credential_proposal': {'@type': 'did:sov:BzCbsNYhMrjHiqZDTUASHg;spec/issue-credential/1.0/credential-preview', 'attributes': [{'name': 'name', 'value': 'Bob'}, {'name': 'community_member', 'value': '1'}]}, 'connection_id': '4ce54ebe-df4a-4904-83ea-5c21144c9997', 'trace': False, 'comment': '', 'cred_def_id': 'PQRXDxdGqQGSZ8z69p4xZP:3:CL:10:default', 'schema_id': 'PQRXDxdGqQGSZ8z69p4xZP:2:open_mined_community-member1:0.0.1', 'schema_name': 'open_mined_community-member1', 'schema_version': '0.0.1', 'schema_issuer_did': 'PQRXDxdGqQGSZ8z69p4xZP'}\n",
      "Credential exchange 0e067240-e620-4a32-b278-c4d7147b9611, role: issuer, state: offer_sent\n",
      "Handle Credentials\n",
      "Credential exchange 0e067240-e620-4a32-b278-c4d7147b9611, role: issuer, state: offer_sent\n",
      "Being offered: [{'name': 'name', 'value': 'Bob'}, {'name': 'community_member', 'value': '1'}]\n"
     ]
    }
   ],
   "source": [
    "record = await agent_controller.issuer.send_credential(connection_id, schema_id, cred_def_id, credential_attributes, trace=False)\n",
    "record_id = record['credential_exchange_id']\n",
    "state = record['state']\n",
    "role = record['role']\n",
    "#extract issuer DID for proof request requirements\n",
    "issuer_did = record['credential_proposal_dict']['issuer_did']\n",
    "print(f\"Credential exchange {record_id}, role: {role}, state: {state}\")\n"
   ]
  },
  {
   "cell_type": "markdown",
   "metadata": {},
   "source": [
    "# 10\n",
    "## Get Credential Exchange Records\n",
    "\n",
    "The state of the protocol is stored in an object called a Credential Exchange. These can be retrieved from the agent either individually by ID or the full list.\n",
    "\n",
    "Each record has a state, representing the stage of the protocol the record is at and a role. Either issuer or holder."
   ]
  },
  {
   "cell_type": "code",
   "execution_count": 13,
   "metadata": {},
   "outputs": [
    {
     "name": "stdout",
     "output_type": "stream",
     "text": [
      "[{'initiator': 'self', 'auto_issue': True, 'thread_id': '34c2aa90-12c3-43c6-b55a-968c76284d1c', 'schema_id': 'PQRXDxdGqQGSZ8z69p4xZP:2:open_mined_community-member1:0.0.1', 'connection_id': '4ce54ebe-df4a-4904-83ea-5c21144c9997', 'updated_at': '2020-08-20 11:53:59.677298Z', 'trace': False, 'credential_proposal_dict': {'@type': 'did:sov:BzCbsNYhMrjHiqZDTUASHg;spec/issue-credential/1.0/propose-credential', '@id': 'e435439c-e27a-4668-88d7-87678a28e97b', 'schema_version': '0.0.1', 'comment': '', 'issuer_did': 'PQRXDxdGqQGSZ8z69p4xZP', 'schema_id': 'PQRXDxdGqQGSZ8z69p4xZP:2:open_mined_community-member1:0.0.1', 'schema_name': 'open_mined_community-member1', 'schema_issuer_did': 'PQRXDxdGqQGSZ8z69p4xZP', 'cred_def_id': 'PQRXDxdGqQGSZ8z69p4xZP:3:CL:10:default', 'credential_proposal': {'@type': 'did:sov:BzCbsNYhMrjHiqZDTUASHg;spec/issue-credential/1.0/credential-preview', 'attributes': [{'name': 'name', 'value': 'Bob'}, {'name': 'community_member', 'value': '1'}]}}, 'auto_offer': False, 'role': 'issuer', 'state': 'offer_sent', 'credential_exchange_id': '0e067240-e620-4a32-b278-c4d7147b9611', 'auto_remove': True, 'created_at': '2020-08-20 11:53:59.677298Z', 'credential_definition_id': 'PQRXDxdGqQGSZ8z69p4xZP:3:CL:10:default', 'credential_offer': {'schema_id': 'PQRXDxdGqQGSZ8z69p4xZP:2:open_mined_community-member1:0.0.1', 'cred_def_id': 'PQRXDxdGqQGSZ8z69p4xZP:3:CL:10:default', 'key_correctness_proof': {'c': '37295619138245488143138010529161104923641453977092122062383586188063301226003', 'xz_cap': '60319322249098588532928607782281112492579662585604671219526601127772582575752912734170260479993452043865818008018043042669638066963591684137546819793583138757063189358829920183617089439394637280288780388736130224872306991630185234017688652479102429533239269777335852219291514362680341772087391727270496567806645721859528257491061354806672809628565418121180681181330971795891971778115274217042118688704098486689402206842691669335036824378023276237576957568937159080736457073426721980225704913253865644754419153303043344427156036033884501627098343105405970296611046214564600184506515589060666543475981523873421316148002196938558226642328340117191489093633232444596170356217056861318467822906737', 'xr_cap': [['name', '335251501127585934556160297520554423169301606446914886872783389796061957756321815658601078734047371572625554120492797532302136090813682336347510233077064183769554351885693676631174848199902831286060448013409030921727917618929690422278586284780095256413017882954364765235445019039754183833810457802912185482509989032577687320921865536566975438215266677050046899753387007431490979597138576835759295467947773648597774338905911992862426004758253861681210249248130991839558570492011897358247606712423965332829286440558370011971904331485520864019126897045891156243291508824793364543660806098321942858924759784678667372198860146714302878641643500683756080618158739439904930797960405133361021925965310'], ['master_secret', '700351232594075888623728738564366715006679730910823784843363115593800465876769951917824058511374729666776749453086323841253041378988694518111045225619246289305349507882447009916280455519349261775781357983684163026734217832591844880512308017918937387061437903057429500452555824001976232771918307096037280178545454717526731270291950165190341587591446026245609127378046115364624703770706537214207293030205450423714307516408851782407316558535578117917889975389017968965660704705551962529734835472162630527678340027761692398961717183217048782566807381196963803018669398214704348330097126111044140546210674557039434422270298143889035051116514243336209910469387974434025706695463310458127958056575383'], ['community_member', '157554932664194295924368927621726025197498176145852991972874332113624581481407012617158214632098329062307037902124611033721811821240543250870095676862034439016129851620137620781915875997048468495188447280292546202093708884503699694141196030965164359463063649531216981148235034916964330570132359504542620955268069325107581202419273945545778017012997057095972033776765386168822611535295218843628814480345252852367200473039859112450144423290335332847183933644141030894787016595186963872848972945795088573335029011292701953971965987144180326432685044930998110300084511675713214857552633490516547596034659008504098220298404832792786744938521764657904976237323145625883971993589796385221141253936018']]}, 'nonce': '530453543904741976568909'}}]\n"
     ]
    }
   ],
   "source": [
    "response = await agent_controller.issuer.get_records()\n",
    "print(response['results'])"
   ]
  },
  {
   "cell_type": "code",
   "execution_count": 14,
   "metadata": {},
   "outputs": [
    {
     "name": "stdout",
     "output_type": "stream",
     "text": [
      "Credential exchange 0e067240-e620-4a32-b278-c4d7147b9611, role: issuer, state: offer_sent\n",
      "Handle Credentials\n",
      "Credential exchange 0e067240-e620-4a32-b278-c4d7147b9611, role: issuer, state: request_received\n",
      "Being offered: [{'name': 'name', 'value': 'Bob'}, {'name': 'community_member', 'value': '1'}]\n",
      "Handle Credentials\n",
      "Credential exchange 0e067240-e620-4a32-b278-c4d7147b9611, role: issuer, state: credential_issued\n",
      "Being offered: [{'name': 'name', 'value': 'Bob'}, {'name': 'community_member', 'value': '1'}]\n",
      "Handle Credentials\n",
      "Credential exchange 0e067240-e620-4a32-b278-c4d7147b9611, role: issuer, state: credential_acked\n",
      "Being offered: [{'name': 'name', 'value': 'Bob'}, {'name': 'community_member', 'value': '1'}]\n"
     ]
    }
   ],
   "source": [
    "cred_record = await agent_controller.issuer.get_record_by_id(record_id)\n",
    "state = cred_record['state']\n",
    "role = cred_record['role']\n",
    "print(f\"Credential exchange {record_id}, role: {role}, state: {state}\")"
   ]
  },
  {
   "cell_type": "markdown",
   "metadata": {},
   "source": [
    "# OPTIONAL\n",
    "## Remove Credential Exchange\n",
    "\n",
    "It is possible to remove stored credential exchanges from an agent. Typically when you are not interested in the credential being offered, or the credential offer that you have sent has become stale (been ignored?)."
   ]
  },
  {
   "cell_type": "code",
   "execution_count": 13,
   "metadata": {},
   "outputs": [
    {
     "name": "stdout",
     "output_type": "stream",
     "text": [
      "{}\n"
     ]
    }
   ],
   "source": [
    "response = await agent_controller.issuer.remove_record(record_id)\n",
    "print(response)"
   ]
  },
  {
   "cell_type": "code",
   "execution_count": 29,
   "metadata": {},
   "outputs": [
    {
     "name": "stdout",
     "output_type": "stream",
     "text": [
      "{'results': []}\n"
     ]
    }
   ],
   "source": [
    "response = await agent_controller.issuer.get_records()\n",
    "print(response)"
   ]
  },
  {
   "cell_type": "markdown",
   "metadata": {},
   "source": [
    "# 14\n",
    "## Send Proof Request\n",
    "Request a proof of Opemined community member to prove community membership"
   ]
  },
  {
   "cell_type": "code",
   "execution_count": 17,
   "metadata": {},
   "outputs": [
    {
     "name": "stdout",
     "output_type": "stream",
     "text": [
      "Request proof of Openmined Community from Openmined PryVote Voter (Bob)\n"
     ]
    }
   ],
   "source": [
    "print(\"Request proof of Openmined Community from Openmined PryVote Voter (Bob)\")\n",
    "#Set some variables\n",
    "\n",
    "revocation = False\n",
    "SELF_ATTESTED = True\n",
    "exchange_tracing = False\n",
    "\n",
    "#Enable this to ask for attributes to identity a user\n",
    "req_attrs = []\n",
    "# req_attrs = [\n",
    "#     {\"name\": \"name\", \"restrictions\": [{\"issuer_did\": issuer_did}]},\n",
    "# ]\n",
    "\n",
    "# if revocation:\n",
    "#     req_attrs.append(\n",
    "#         {\n",
    "#             \"name\": \"degree\",\n",
    "#             \"restrictions\": [{\"issuer_did\": agent.did}],\n",
    "#             \"non_revoked\": {\"to\": int(time.time() - 1)},\n",
    "#         },\n",
    "#     )\n",
    "# else:\n",
    "#     req_attrs.append(\n",
    "#         {\"name\": \"vote\", \"restrictions\": [{\"issuer_did\": issuer_did}]}\n",
    "#     )\n",
    "\n",
    "if SELF_ATTESTED:\n",
    "    # test self-attested claims\n",
    "    req_attrs.append({\"name\": \"community_vote\"},)\n",
    "    \n",
    "#Set predicates for Zero Knowledge Proofs\n",
    "req_preds = [\n",
    "    # test zero-knowledge proofs\n",
    "    {\n",
    "        \"name\": \"community_member\",\n",
    "        \"p_type\": \">=\",\n",
    "        \"p_value\": 1,\n",
    "        \"restrictions\": [{\"issuer_did\": issuer_did}],\n",
    "    }\n",
    "]\n",
    "\n",
    "indy_proof_request = {\n",
    "    \"name\": \"Proof of Openmined Community Member\",\n",
    "    \"version\": \"1.0\",\n",
    "    \"requested_attributes\": {\n",
    "        f\"0_{req_attr['name']}_uuid\": \n",
    "        req_attr for req_attr in req_attrs\n",
    "    },\n",
    "    \"requested_predicates\": {\n",
    "        f\"0_{req_pred['name']}_GE_uuid\": \n",
    "        req_pred for req_pred in req_preds\n",
    "    },\n",
    "}\n",
    "\n",
    "if revocation:\n",
    "    indy_proof_request[\"non_revoked\"] = {\"to\": int(time.time())}\n",
    "    \n",
    "proof_request = indy_proof_request\n",
    "# exchange_tracing_id = exchange_tracing\n",
    "# proof_request_web_request = {\n",
    "#     \"connection_id\": agent.connection_id,\n",
    "#     \"proof_request\": indy_proof_request,\n",
    "#     \"trace\": exchange_tracing,\n",
    "# }"
   ]
  },
  {
   "cell_type": "code",
   "execution_count": 18,
   "metadata": {},
   "outputs": [
    {
     "name": "stdout",
     "output_type": "stream",
     "text": [
      "{'trace': False, 'auto_present': False, 'created_at': '2020-08-20 11:55:19.618513Z', 'thread_id': '9fa31003-8cce-417a-a4f1-820ee7588e18', 'initiator': 'self', 'presentation_request': {'name': 'Proof of Openmined Community Member', 'version': '1.0', 'requested_attributes': {'0_community_vote_uuid': {'name': 'community_vote'}}, 'requested_predicates': {'0_community_member_GE_uuid': {'name': 'community_member', 'p_type': '>=', 'p_value': 1, 'restrictions': [{'issuer_did': 'PQRXDxdGqQGSZ8z69p4xZP'}]}}, 'nonce': '330075065938929528712671'}, 'presentation_exchange_id': 'd72e56de-4a0c-42dd-80af-cc4a35d907f9', 'updated_at': '2020-08-20 11:55:19.618513Z', 'connection_id': '4ce54ebe-df4a-4904-83ea-5c21144c9997', 'role': 'verifier', 'state': 'request_sent'}\n",
      "\n",
      "\n",
      "d72e56de-4a0c-42dd-80af-cc4a35d907f9\n"
     ]
    }
   ],
   "source": [
    "response = await agent_controller.proofs.send_request(connection_id, proof_request, \"\", exchange_tracing)\n",
    "print(response)\n",
    "presentation_exchange_id = response['presentation_exchange_id']\n",
    "print(\"\\n\")\n",
    "print(presentation_exchange_id)\n"
   ]
  },
  {
   "cell_type": "markdown",
   "metadata": {},
   "source": [
    "# 18\n",
    "## Verify Proof Presentation"
   ]
  },
  {
   "cell_type": "code",
   "execution_count": 19,
   "metadata": {},
   "outputs": [
    {
     "name": "stdout",
     "output_type": "stream",
     "text": [
      "{'trace': False, 'auto_present': False, 'created_at': '2020-08-20 11:55:19.618513Z', 'verified': 'true', 'thread_id': '9fa31003-8cce-417a-a4f1-820ee7588e18', 'initiator': 'self', 'presentation_request': {'name': 'Proof of Openmined Community Member', 'version': '1.0', 'requested_attributes': {'0_community_vote_uuid': {'name': 'community_vote'}}, 'requested_predicates': {'0_community_member_GE_uuid': {'name': 'community_member', 'p_type': '>=', 'p_value': 1, 'restrictions': [{'issuer_did': 'PQRXDxdGqQGSZ8z69p4xZP'}]}}, 'nonce': '330075065938929528712671'}, 'presentation_exchange_id': 'd72e56de-4a0c-42dd-80af-cc4a35d907f9', 'presentation': {'proof': {'proofs': [{'primary_proof': {'eq_proof': {'revealed_attrs': {}, 'a_prime': '34880534121237131717345929446388855612940158679600401072299009321202498733343687628942039418007221347633062233477851337623948275335300482995096392119737301323176329751321626598894041280781834980592021671726898895784226773749079146055580831110242880998015919897496394684950749104500438872095560745307057929438662422447039184650565395152334142058501875551635362942012868159037078487411744582287439319687406675658298001439066814438130247635579942986307691019122035230006444783706973596826691279747365741049556051086018260167814793927610523662599372766489973278556046046912118493686897063103093709252967600952657411367384', 'e': '149794448718109577593489267723472740910506242612327248589630967736473809171573120276589809246963991673810383610368950084615681877821030618', 'v': '1291861429907539032315862678382194339607386139585169422643210803957427378735495874806910539474613760355255916685189354297220921877854348966132390295077561014068234166311980585993959636523420382100061453524424295853756856068219324538892756711290638565587054386596415490654441043926644065600940675941809611707912241851091940957944332859733999805712939579192136863521792196151222888921881576734522806284097524818654854945905992326405385196548314427202107329793870283440957260430590703208273035749054243205801417744229299009622771463688062648593528083837402049654616004752334598056397669316658555910163827517689933326352020098586175854180091736257729727525980728826233765193697948005339065645391826124538842221061951515295807491405803739986127711237242212550457186175348372889239285026019384048738023238133588191722108796399938653877804539374162642887445905247772755350788714587280697361049348477842893874858034074504659952411', 'm': {'community_member': '10407514330975051429274116509816914521971268959219744837008744274968575280209638680341950398851425696239904729407713359722259965495384287619258036197013764608339581242664134795138', 'master_secret': '3396148135293053887567860219967874150961851012455070413112252514414810649215871638285863526439633482263608781796555895000876468765835286476534809748221743125542745538750879000148', 'name': '10233233709974353611028317108528522057863360401418775234801934033778213961917799680580908938379668606773018467651305621047620651686198613958158052097424276489775818990960796041059'}, 'm2': '1067402097384946319936746027171167083185536256317851937778395052039928352317024442857227598156464692683619183829295293849950667453134611872636442614638230109485270912962154841183'}, 'ge_proofs': [{'u': {'3': '5112883316084986028726687015926646330148485217720766324153251013444297563870262773337743177266509679991422058795698042685658541391910527503443873957028249653739005454791467868674', '2': '10807407110766696215003311595411594137441045287089277979530768009110887763798658317742179321605662974606491415941436262974184577597999144446122227433808425034157320038366838734504', '1': '15170880085489797311376744099028234087433634332732993506972767369284637604702431009575946507165857598502044667357788140796112142398462687252692931584708068133500136612874787645036', '0': '9712045825213678877868633542907657590528005408800010902154861172906703812865553732576406074738823923249120031921793919243173548105118151453603099182314104727405651556843574406022'}, 'r': {'0': '231353767833078744620315166465320266746777142323346989802439461890984646811305914614141466657697184863494526780001659095360488349042911965406257701029119865640479174637556692896733383950371581079307202906840398295010594779623889065996493404267760821480269195291851911571160603281090081322366030760654849624675361313463218360473964837790334128999233844918703415865223433219091940677045480494788102981802265355717954312915331053001204792102834412508126742470425303034878064259263320925925763778671791212906702864236712154398064941268159146320572742772888859418323264810524833052290638852152475241814069632390219467273234759316942160233374509558491674461960424085802911762501893731618184323924017437368042079274914028325', '2': '1164268706482496930685228276794388602123887013147958668931531446523142188573344305965790830172678019552407908972146559228993901630004550387386922212198503930683603679343851786118586323043576348477491270028248790215794451962209459188081335579445106951385191360812541542404779104063095929990516687398100468113000264277831483545835819691615895139188496889858232851672858002304099553782969642727096899060345262234969528047261652817193328218875524969105330920814579487253218289598698390284524810846818392410538282138442782292519886916892808945930136543194925816457749211499209656076651056243896775354749033622300613179692676742526256015725032849764178334842530557748555315376714161427866832795925323517325456333371887184511', '3': '544115103775508218207236931570089774114385258094517661022841531063997695336118828927337785704511588447508048963679614387099753900150042859358869613632085603954830583181249078859409957456423296951098764032993545811809747242993552595742902691220970875860982842119191765677863552659461527909034698602369849245061072004274901513811824425500529244819658825838665440589723275015077877428748953532627352831393583637060810597491865394970823299332340251785602856419785828181302666397238399259441143483611985876868180761454782518294552688622867669479223064512428994987737217626065784692443269956685299575872852957807351450162870880972327970470902853523199591439455632818729274150158338005164647458688741816899688307575799440470', 'DELTA': '1223536411854830509123026760054436842475762647550463651282380294219877272903656388982476339117515503094091552182909986871835289380689981948686621022072990494629331306536982880712331778656033028403921458465087174598751293313631918498906578203859639020524691112248618700156017617442507085501527185606851413474015919163122450840165357068418389246136108050810012339707521042095696761801103989287267249416163276375119585648979724344900613012608432180852324777459862236796583945283870277888983495844984008204391186219791675298591575628255669151226624468993310344762048431974879509449272623968660783974229128865652935083006352690373279978631383792966421243260779861085257373640706099485881029116302108602076748301869983892752', '1': '1359673115197847814997266016628107835060229060292604635929808193850654340564470603455837472410016564096874944608344626726703443158070482415125945599839236707381835879434345699121911443933488527416189033395292152793129546261077890021628867062538536379023383799658353704688961351364055216019681061684318737170005106224462930741243046974602143306557247512887780962104693016433589555078050312048830087705387865702675451318834507340389139443167331060067146337448107951472996410663442491033330289091244794688427641846532582420706914532306051145451996927668407204703933376315353378805702945198207755569271691321937361169458587701461736912538583679794460126970000003756436678774424350144771091776788725361551652692743582120054'}, 'mj': '10407514330975051429274116509816914521971268959219744837008744274968575280209638680341950398851425696239904729407713359722259965495384287619258036197013764608339581242664134795138', 'alpha': '72631537499970611486989364646211072590337444152767604624017432612783994080926576253325807150319847196995280156532962961927938072113917925035912309851894455579071969272045173635252822917020462941053623679282190115251108948650743180467841880097941555879601596309895344876159133850162511399434324747607432345885372868015687481660456969547396713608367458474649083757478487494472600480334406245609560048883887447748591124171968931645355061192106842265008851445814553097760045549166437042403041087960765642449822108258653630090733311749767017015829795671190086327410120727698253527633054137272470482585317603151283385088896406394086323186569621155629157121464380684574340560873305802805180708933282588798624181556446859302493201960952450176413333367041896376369515337004460203815078810729423484712341348997265337713535685995568617106885164639265', 't': {'2': '60390667132013509827505137399430775194846222283433404244991588609357182595690405268316949268094944311062486053875189270889159473387251799831339271115287060351438000658999629721279277268166804427577511255907173653841462324622788875816984093252392776203512973364292342832565168068199205120931848769768605486956043367403963532048281489311903483773623198378197473070354578025283775279220287694866215405804598114681655907622126117337410246582454070559178786389379087070178369108074329904858200062917250742852682857128467873222804282856709231702757941877097483165456592301400931567249648511956556895384627906900657204845153', '0': '63605228713174549782207430173322071113001624497302407641009283106146594783137193103045805396219306791686358873025139088802230567757483100887807168365894693232715749496409038338788575938739552045037855863439202763340871316451944227306671325758487397692068759095577720439875080628358297693778522391094027171187424645499875916238127772820808285186342100730716892863317172349105797919071720183554306971207101566694340230221969595404450746359606871152909743800573817817027040023933816482470321099300364958713822845593511005552347847665839299974908129310510174702591655908643008716936545758478259244927812903730414920269721', '1': '38773023845035354288451024059662653025282957035109261624040479408677185146581193102675393935273481348816262248057692651369539620365005314581704786590451034968965601453752368258526835415399416706874245763937724012024569160322495639983431405176625828464391879554328278143329365642032969258291855391227496017982989707035416259835966028536899196426290468271486178872668071309162743193978332879238106447723917723770222985380360601032399975443748501926818871856321296511254145071968259758372928230158432633188996914028765681889246131463150369062247629434394139203360654301117014468901674848932915855479700556032576351029615', '3': '23637222495618612987534435142254141394838407207087054569713872753497548837106014390980654463756840127620481080634383389400191265756906159829060553822526392628895907586608836482009898820351973874002716729705171773470544004926533119234842335530722847800771766392736992418517477416019316398968835537222625467235616563242003137462947897553146916505515373775334119372559026323201928718329461636884309947811848097185405081614378343920748307712905532820414937559676419245618493265271256379144145088095744005507492985021495088708897075556089794057478774384228196633706572698360927147389528417085162233231264047215082532666149', 'DELTA': '18269965316098031307038860216237107675340230160528327189897381858750417319842177188166598821167218433318708716048744865610178330045903468518651892624002509900918290800172334300030997163076250907573271828551701968455666274484883695863442080957968318308818767697471694860201677187697334207592666625651120262435670677842361421782873292952650013879194413428033756632939495424131220500735887906133736518659271085190908686748513883669791453696589390666187063990524244026479372050949800688835627571107392582652499014639583800736456264538696731091624022996950905317508678006556095061722378826153156783785795001397114048042859'}, 'predicate': {'attr_name': 'community_member', 'p_type': 'GE', 'value': 1}}]}, 'non_revoc_proof': None}], 'aggregated_proof': {'c_hash': '34957047635635363065612486051100745000923404847209122635854329065073266836885', 'c_list': [[1, 20, 78, 155, 19, 215, 82, 188, 208, 180, 20, 87, 60, 178, 38, 87, 217, 245, 82, 35, 188, 208, 39, 34, 94, 167, 138, 129, 178, 214, 132, 15, 52, 204, 206, 193, 250, 130, 157, 164, 85, 164, 81, 138, 129, 175, 65, 221, 182, 152, 76, 183, 36, 75, 167, 147, 130, 89, 233, 234, 236, 27, 1, 182, 173, 141, 113, 6, 153, 107, 216, 26, 87, 86, 68, 124, 255, 109, 127, 31, 226, 240, 7, 85, 172, 44, 2, 50, 93, 8, 32, 133, 2, 179, 47, 8, 73, 118, 168, 139, 239, 158, 70, 84, 243, 191, 225, 111, 96, 151, 29, 186, 98, 6, 165, 8, 114, 247, 0, 7, 39, 95, 252, 145, 55, 135, 146, 99, 57, 9, 18, 97, 80, 155, 232, 66, 188, 95, 193, 246, 4, 202, 210, 103, 61, 208, 51, 204, 254, 86, 179, 231, 200, 41, 184, 211, 124, 13, 56, 163, 68, 128, 72, 22, 113, 94, 236, 97, 232, 209, 235, 149, 248, 219, 143, 156, 92, 82, 51, 145, 14, 115, 198, 83, 132, 231, 92, 221, 170, 114, 163, 31, 62, 238, 173, 150, 24, 2, 45, 59, 119, 140, 131, 18, 218, 175, 191, 90, 0, 152, 183, 230, 192, 45, 29, 60, 241, 45, 253, 231, 149, 229, 59, 226, 158, 135, 100, 109, 0, 67, 148, 222, 51, 91, 136, 141, 57, 100, 126, 250, 208, 54, 85, 12, 159, 102, 154, 94, 23, 122, 165, 109, 171, 101, 16, 225, 216], [1, 247, 217, 184, 26, 87, 236, 219, 201, 151, 100, 112, 69, 177, 176, 235, 73, 221, 217, 162, 218, 23, 79, 198, 145, 8, 235, 106, 181, 240, 207, 142, 104, 88, 22, 61, 221, 214, 116, 206, 188, 151, 157, 79, 2, 153, 208, 204, 34, 237, 231, 104, 159, 146, 180, 26, 70, 200, 133, 156, 89, 164, 159, 18, 212, 110, 193, 47, 194, 109, 108, 141, 247, 167, 133, 87, 225, 244, 28, 115, 41, 27, 219, 68, 143, 211, 60, 171, 122, 44, 97, 246, 214, 194, 60, 27, 232, 132, 242, 25, 97, 173, 196, 117, 218, 75, 88, 107, 183, 21, 30, 64, 43, 186, 227, 22, 205, 123, 178, 41, 159, 246, 136, 248, 125, 25, 188, 96, 205, 17, 198, 150, 72, 101, 70, 129, 55, 217, 103, 214, 226, 207, 34, 220, 174, 214, 41, 194, 179, 68, 179, 54, 141, 40, 75, 171, 150, 114, 252, 218, 249, 84, 133, 44, 248, 130, 163, 99, 235, 249, 147, 243, 180, 204, 247, 79, 83, 52, 51, 22, 154, 28, 33, 173, 136, 28, 234, 243, 221, 2, 255, 11, 12, 190, 57, 63, 238, 158, 102, 78, 37, 50, 179, 226, 110, 190, 131, 180, 250, 211, 72, 163, 233, 98, 240, 177, 147, 81, 224, 109, 143, 20, 17, 44, 76, 140, 147, 190, 66, 171, 248, 236, 182, 6, 125, 255, 233, 14, 5, 193, 230, 236, 95, 76, 148, 27, 206, 20, 192, 250, 98, 227, 137, 244, 153, 255, 153], [1, 51, 36, 58, 31, 116, 185, 35, 148, 221, 86, 143, 35, 125, 217, 219, 219, 149, 32, 71, 248, 35, 171, 246, 91, 81, 14, 76, 138, 111, 204, 193, 148, 20, 229, 26, 32, 244, 4, 30, 162, 181, 121, 124, 195, 140, 3, 183, 229, 5, 195, 187, 68, 147, 163, 237, 47, 119, 249, 172, 115, 221, 71, 222, 113, 179, 155, 238, 253, 25, 204, 245, 242, 27, 244, 126, 100, 144, 67, 115, 186, 26, 56, 115, 52, 131, 93, 201, 106, 9, 221, 251, 158, 38, 76, 213, 110, 42, 54, 57, 22, 20, 207, 194, 227, 218, 163, 30, 7, 5, 147, 123, 215, 15, 143, 71, 1, 43, 254, 215, 44, 149, 159, 182, 241, 201, 69, 44, 63, 69, 103, 0, 222, 220, 228, 223, 64, 62, 122, 230, 134, 172, 135, 110, 79, 228, 234, 146, 148, 210, 63, 103, 49, 50, 200, 186, 31, 5, 221, 53, 124, 112, 163, 82, 81, 137, 54, 254, 136, 187, 216, 37, 60, 255, 105, 144, 56, 37, 229, 40, 178, 255, 49, 79, 98, 113, 107, 40, 244, 161, 198, 83, 155, 56, 105, 106, 96, 144, 212, 180, 132, 59, 109, 167, 187, 35, 46, 206, 111, 45, 36, 109, 77, 147, 122, 174, 239, 60, 96, 125, 223, 22, 181, 27, 193, 26, 119, 96, 164, 63, 191, 28, 189, 169, 82, 141, 128, 62, 218, 239, 62, 244, 94, 219, 3, 42, 162, 162, 7, 243, 152, 111, 14, 214, 194, 201, 111], [1, 222, 98, 224, 37, 4, 141, 178, 24, 197, 35, 112, 12, 46, 12, 203, 169, 133, 175, 221, 171, 176, 235, 49, 241, 236, 121, 42, 38, 129, 137, 78, 120, 0, 55, 41, 245, 101, 129, 106, 253, 249, 249, 97, 113, 239, 174, 175, 186, 75, 241, 222, 213, 51, 81, 203, 137, 79, 238, 173, 190, 5, 48, 44, 11, 188, 12, 176, 155, 118, 129, 63, 118, 43, 40, 11, 192, 92, 1, 68, 156, 54, 129, 20, 5, 158, 81, 190, 19, 191, 118, 42, 65, 92, 253, 155, 104, 181, 112, 33, 203, 214, 218, 213, 162, 208, 218, 134, 151, 218, 94, 144, 42, 178, 178, 224, 160, 123, 140, 116, 55, 237, 6, 185, 237, 234, 21, 132, 68, 82, 100, 209, 110, 184, 207, 65, 6, 142, 147, 119, 42, 53, 235, 86, 39, 167, 191, 97, 36, 170, 112, 250, 171, 119, 201, 49, 237, 99, 107, 193, 213, 3, 185, 139, 52, 119, 189, 194, 50, 119, 230, 201, 185, 74, 201, 124, 10, 111, 178, 108, 136, 244, 160, 165, 177, 183, 57, 3, 204, 65, 125, 127, 52, 148, 208, 234, 26, 46, 138, 125, 106, 48, 250, 131, 151, 197, 183, 176, 43, 202, 175, 198, 196, 63, 43, 218, 53, 54, 15, 168, 88, 71, 39, 30, 91, 117, 40, 248, 225, 173, 119, 252, 246, 205, 103, 252, 205, 8, 23, 201, 181, 136, 67, 74, 193, 122, 161, 246, 34, 226, 195, 221, 243, 104, 47, 90, 97], [187, 62, 44, 182, 113, 1, 105, 73, 190, 82, 78, 2, 147, 179, 192, 67, 28, 146, 59, 128, 46, 241, 58, 79, 71, 152, 175, 246, 203, 42, 152, 252, 234, 68, 172, 129, 119, 139, 241, 207, 153, 161, 183, 235, 141, 227, 244, 172, 70, 52, 230, 145, 79, 87, 173, 173, 0, 66, 88, 0, 53, 51, 110, 210, 34, 193, 15, 95, 143, 197, 47, 2, 166, 25, 198, 93, 211, 126, 200, 162, 48, 182, 46, 31, 71, 159, 47, 117, 212, 51, 115, 252, 80, 64, 125, 202, 26, 158, 49, 118, 215, 4, 33, 177, 22, 220, 247, 23, 219, 229, 96, 97, 140, 15, 63, 212, 187, 172, 222, 135, 7, 197, 0, 184, 127, 114, 247, 54, 206, 183, 126, 219, 77, 74, 237, 84, 123, 143, 232, 159, 84, 178, 240, 33, 20, 251, 245, 209, 213, 219, 231, 107, 251, 183, 108, 133, 245, 101, 196, 149, 50, 206, 122, 128, 36, 220, 236, 153, 85, 229, 121, 118, 139, 200, 111, 46, 28, 49, 174, 181, 63, 138, 249, 32, 126, 123, 238, 230, 38, 143, 33, 14, 236, 73, 90, 78, 32, 100, 170, 192, 235, 198, 89, 61, 39, 206, 235, 255, 237, 30, 102, 84, 137, 10, 186, 128, 31, 111, 233, 176, 200, 76, 176, 140, 225, 148, 36, 201, 131, 151, 57, 168, 78, 73, 16, 158, 100, 118, 248, 33, 175, 129, 223, 144, 51, 99, 146, 25, 100, 189, 183, 18, 40, 230, 123, 37], [144, 185, 219, 86, 219, 130, 183, 142, 246, 72, 34, 119, 188, 104, 222, 83, 73, 225, 70, 94, 27, 145, 171, 144, 150, 239, 1, 210, 222, 131, 5, 10, 255, 20, 52, 90, 142, 66, 167, 38, 109, 86, 147, 3, 227, 117, 213, 1, 25, 54, 137, 148, 15, 92, 177, 117, 17, 59, 118, 44, 223, 214, 46, 44, 244, 61, 118, 190, 84, 51, 23, 216, 102, 222, 73, 187, 10, 209, 27, 228, 191, 133, 247, 106, 203, 150, 48, 158, 216, 138, 165, 100, 125, 37, 103, 167, 115, 62, 130, 207, 253, 2, 189, 6, 25, 230, 38, 216, 66, 185, 240, 38, 169, 136, 239, 193, 246, 10, 195, 184, 140, 117, 242, 62, 77, 106, 124, 74, 152, 235, 99, 157, 242, 173, 22, 239, 102, 252, 133, 152, 198, 198, 160, 31, 173, 219, 211, 128, 234, 188, 192, 127, 145, 178, 211, 68, 212, 200, 51, 186, 3, 84, 20, 75, 163, 215, 176, 98, 215, 187, 71, 156, 74, 172, 83, 187, 13, 45, 33, 163, 246, 134, 167, 98, 104, 123, 215, 235, 132, 218, 172, 103, 187, 133, 12, 57, 215, 66, 102, 235, 216, 148, 19, 202, 165, 54, 168, 57, 185, 33, 162, 196, 185, 124, 119, 166, 12, 249, 32, 228, 165, 138, 205, 192, 71, 169, 200, 31, 250, 230, 46, 49, 3, 119, 92, 6, 221, 184, 29, 243, 132, 64, 161, 211, 171, 239, 231, 251, 12, 246, 152, 36, 129, 183, 87, 107]]}}, 'requested_proof': {'revealed_attrs': {}, 'self_attested_attrs': {'0_community_vote_uuid': 'True'}, 'unrevealed_attrs': {}, 'predicates': {'0_community_member_GE_uuid': {'sub_proof_index': 0}}}, 'identifiers': [{'schema_id': 'PQRXDxdGqQGSZ8z69p4xZP:2:open_mined_community-member1:0.0.1', 'cred_def_id': 'PQRXDxdGqQGSZ8z69p4xZP:3:CL:10:default', 'rev_reg_id': None, 'timestamp': None}]}, 'updated_at': '2020-08-20 11:55:34.068184Z', 'connection_id': '4ce54ebe-df4a-4904-83ea-5c21144c9997', 'role': 'verifier', 'state': 'verified'}\n"
     ]
    }
   ],
   "source": [
    "verify = await agent_controller.proofs.verify_presentation(presentation_exchange_id)\n",
    "print(verify)"
   ]
  },
  {
   "cell_type": "markdown",
   "metadata": {},
   "source": [
    "# 19\n",
    "## End of Tutorial\n",
    "\n",
    "Be sure to terminate the controller so you can run another tutorial.\n",
    "\n",
    "There are a few api calls not covered in this tutorial so far. Mostly around credential revocation."
   ]
  },
  {
   "cell_type": "code",
   "execution_count": 13,
   "metadata": {},
   "outputs": [
    {
     "name": "stdout",
     "output_type": "stream",
     "text": [
      "None\n"
     ]
    }
   ],
   "source": [
    "response = await agent_controller.terminate()\n",
    "print(response)"
   ]
  },
  {
   "cell_type": "code",
   "execution_count": null,
   "metadata": {},
   "outputs": [],
   "source": []
  }
 ],
 "metadata": {
  "kernelspec": {
   "display_name": "Python 3",
   "language": "python",
   "name": "python3"
  },
  "language_info": {
   "codemirror_mode": {
    "name": "ipython",
    "version": 3
   },
   "file_extension": ".py",
   "mimetype": "text/x-python",
   "name": "python",
   "nbconvert_exporter": "python",
   "pygments_lexer": "ipython3",
   "version": "3.7.6"
  }
 },
 "nbformat": 4,
 "nbformat_minor": 1
}
