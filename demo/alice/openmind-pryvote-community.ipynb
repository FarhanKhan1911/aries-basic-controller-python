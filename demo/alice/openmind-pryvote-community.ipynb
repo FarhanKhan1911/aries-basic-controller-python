{
 "cells": [
  {
   "cell_type": "markdown",
   "metadata": {
    "collapsed": true
   },
   "source": [
    "# 1.\n",
    "# Aries Basic Controller - Openmined PryVote Community (Alice)\n",
    "\n",
    "This notebook walks through a MVP for PryVote assuming the Openminded community will be issued an Openmined commuity credential that will enable community members to vote on basic things. The credential will be issued across a previously established connection. \n",
    "\n",
    "It is best run in parallel with the [openmind-pryvote-voter notebook](http://127.0.0.1:8889/notebooks/openmind-pryvote-voter.ipynb) controlling the agent receiving the credential to enable voting.\n",
    "\n",
    "If unfamiliar with the protocol it is worth reading through the [aries-rfs](https://github.com/hyperledger/aries-rfcs/tree/master/features/0036-issue-credential)\n"
   ]
  },
  {
   "cell_type": "code",
   "execution_count": 1,
   "metadata": {},
   "outputs": [
    {
     "name": "stdout",
     "output_type": "stream",
     "text": [
      "IPython autoawait is `on`, and set to use `asyncio`\n"
     ]
    }
   ],
   "source": [
    "%autoawait\n",
    "import time\n",
    "import asyncio"
   ]
  },
  {
   "cell_type": "code",
   "execution_count": 2,
   "metadata": {},
   "outputs": [],
   "source": [
    "from aries_basic_controller.aries_controller import AriesAgentController\n",
    "    \n",
    "WEBHOOK_HOST = \"0.0.0.0\"\n",
    "WEBHOOK_PORT = 8022\n",
    "WEBHOOK_BASE = \"\"\n",
    "ADMIN_URL = \"http://alice-agent:8021\"\n",
    "\n",
    "# Based on the aca-py agent you wish to control\n",
    "agent_controller = AriesAgentController(webhook_host=WEBHOOK_HOST, webhook_port=WEBHOOK_PORT,\n",
    "                                       webhook_base=WEBHOOK_BASE, admin_url=ADMIN_URL)\n",
    "    "
   ]
  },
  {
   "cell_type": "markdown",
   "metadata": {},
   "source": [
    "# 2\n",
    "## Register Listeners\n",
    "\n",
    "The handler should get called every time the controller receives a webhook with the topic issue_credential, printing out the payload. The agent calls to this webhook every time it receives an issue-credential protocol message from a credential."
   ]
  },
  {
   "cell_type": "code",
   "execution_count": 3,
   "metadata": {},
   "outputs": [],
   "source": [
    "loop = asyncio.get_event_loop()\n",
    "loop.create_task(agent_controller.listen_webhooks())\n",
    "\n",
    "def cred_handler(payload):\n",
    "    print(\"Handle Credentials\")\n",
    "    exchange_id = payload['credential_exchange_id']\n",
    "    state = payload['state']\n",
    "    role = payload['role']\n",
    "    attributes = payload['credential_proposal_dict']['credential_proposal']['attributes']\n",
    "    print(f\"Credential exchange {exchange_id}, role: {role}, state: {state}\")\n",
    "    print(f\"Being offered: {attributes}\")\n",
    "    \n",
    "cred_listener = {\n",
    "    \"topic\": \"issue_credential\",\n",
    "    \"handler\": cred_handler\n",
    "}\n",
    "agent_controller.register_listeners([cred_listener], defaults=True)\n"
   ]
  },
  {
   "cell_type": "markdown",
   "metadata": {},
   "source": [
    "# 3\n",
    "## Check the agent has an active connection\n",
    "\n",
    "**Note: An active connection is required, this should have been established on start up through the python script create_connection.py in the setup folder. If not it is possible to run through the did-exchange tutorial to create one between Alice and Bob**\n",
    "\n",
    "* [Alice](http://localhost:8888/notebooks/did-exchange-inviter.ipynb)\n",
    "* [Bob](http://localhost:8889/notebooks/did-exchange-invitee.ipynb)"
   ]
  },
  {
   "cell_type": "code",
   "execution_count": 4,
   "metadata": {},
   "outputs": [
    {
     "name": "stdout",
     "output_type": "stream",
     "text": [
      "Results :  [{'initiator': 'external', 'updated_at': '2020-08-20 11:44:03.902076Z', 'their_label': 'Bob', 'state': 'active', 'invitation_key': 'GwxsKupudahWtyTo256cmWjgwB4uWuW7yLttRrpk51n2', 'created_at': '2020-08-20 11:43:53.726151Z', 'connection_id': 'bbbc488c-9b63-49b5-9c5f-8e468aa34fad', 'invitation_mode': 'once', 'request_id': '8bc08cfd-8432-4933-8f99-6c5895356175', 'their_did': 'E2MdwW13o3RVqYC4GzyLex', 'routing_state': 'none', 'my_did': 'LHditNM5ZQsGVX2856ij19', 'accept': 'manual'}]\n",
      "Connection : {'initiator': 'external', 'updated_at': '2020-08-20 11:44:03.902076Z', 'their_label': 'Bob', 'state': 'active', 'invitation_key': 'GwxsKupudahWtyTo256cmWjgwB4uWuW7yLttRrpk51n2', 'created_at': '2020-08-20 11:43:53.726151Z', 'connection_id': 'bbbc488c-9b63-49b5-9c5f-8e468aa34fad', 'invitation_mode': 'once', 'request_id': '8bc08cfd-8432-4933-8f99-6c5895356175', 'their_did': 'E2MdwW13o3RVqYC4GzyLex', 'routing_state': 'none', 'my_did': 'LHditNM5ZQsGVX2856ij19', 'accept': 'manual'}\n",
      "Active Connection ID :  bbbc488c-9b63-49b5-9c5f-8e468aa34fad\n"
     ]
    }
   ],
   "source": [
    "response = await agent_controller.connections.get_connections()\n",
    "results = response['results']\n",
    "print(\"Results : \", results)\n",
    "if len(results) > 0:\n",
    "    connection = response['results'][0]\n",
    "    print(\"Connection :\", connection)\n",
    "    if connection['state'] == 'active':       \n",
    "        connection_id = connection[\"connection_id\"]\n",
    "        print(\"Active Connection ID : \", connection_id)\n",
    "else:\n",
    "    print(\"You must create a connection\")\n",
    "    "
   ]
  },
  {
   "cell_type": "markdown",
   "metadata": {},
   "source": [
    "# 6\n",
    "## Write a Schema to the Ledger\n",
    "\n",
    "For more details see the [schema-api notebook](http://localhost:8888/notebooks/schema_api.ipynb)"
   ]
  },
  {
   "cell_type": "code",
   "execution_count": 5,
   "metadata": {},
   "outputs": [
    {
     "name": "stdout",
     "output_type": "stream",
     "text": [
      "PQRXDxdGqQGSZ8z69p4xZP:2:open_mined_community-member1:0.0.1\n"
     ]
    }
   ],
   "source": [
    "# Define you schema name - must be unique on the ledger\n",
    "schema_name = \"open_mined_community-member1\"\n",
    "# Can version the schema if you wish to update it\n",
    "schema_version = \"0.0.1\"\n",
    "# Define any list of attributes you wish to include in your schema\n",
    "attributes = [\"name\", \"community_member\"]\n",
    "\n",
    "response = await agent_controller.schema.write_schema(schema_name, attributes, schema_version)\n",
    "schema_id = response[\"schema_id\"]\n",
    "print(schema_id)\n"
   ]
  },
  {
   "cell_type": "markdown",
   "metadata": {},
   "source": [
    "# 7\n",
    "## Write a Credential Definition to the Ledger\n",
    "\n",
    "More details in the [definitions notebook](http://localhost:8888/notebooks/definitions_api.ipynb)"
   ]
  },
  {
   "cell_type": "code",
   "execution_count": 6,
   "metadata": {},
   "outputs": [
    {
     "name": "stdout",
     "output_type": "stream",
     "text": [
      "{'credential_definition_id': 'PQRXDxdGqQGSZ8z69p4xZP:3:CL:10:default'}\n",
      "PQRXDxdGqQGSZ8z69p4xZP:3:CL:10:default\n"
     ]
    }
   ],
   "source": [
    "response = await agent_controller.definitions.write_cred_def(schema_id)\n",
    "print(response)\n",
    "cred_def_id = response[\"credential_definition_id\"]\n",
    "print(cred_def_id)\n",
    "# cred_def_id = 'PQRXDxdGqQGSZ8z69p4xZP:3:CL:12:default'"
   ]
  },
  {
   "cell_type": "markdown",
   "metadata": {},
   "source": [
    "**Note: You should be able to see both schema and definition transactions on the local network [here](http://localhost:9000)**"
   ]
  },
  {
   "cell_type": "markdown",
   "metadata": {},
   "source": [
    "# 8\n",
    "## Populate the Attribues to Issue to Openmind-pryvote-voter (Bob)\n",
    "\n",
    "The schema defines two attributes: name and community_member. Both must be populated with attribute values that Openmined Community (Alice) wishes to issue in a credential to Openmind-pryvote-voter (Bob). To do this a list of objects must be created, each object containing the name of the attribute and it's value at a minimum. You can set the values to anything you wish.\n",
    "\n",
    "TODO: Some additional fields such as mime-type can be defined."
   ]
  },
  {
   "cell_type": "code",
   "execution_count": 7,
   "metadata": {},
   "outputs": [
    {
     "name": "stdout",
     "output_type": "stream",
     "text": [
      "[{'name': 'name', 'value': 'Bob'}, {'name': 'community_member', 'value': '1'}]\n"
     ]
    }
   ],
   "source": [
    "credential_attributes = [\n",
    "    {\"name\": \"name\", \"value\": \"Bob\"},\n",
    "    {\"name\": \"community_member\", \"value\": \"1\"}\n",
    "]\n",
    "print(credential_attributes)"
   ]
  },
  {
   "cell_type": "markdown",
   "metadata": {},
   "source": [
    "# 9\n",
    "## Send Credential\n",
    "\n",
    "This sends a credential to a holder Openmind-pryvote-voter (Bob), and automates the rest of the protocol. This tutorial works best if you have initialised the [openmind-pryvote-voter notebook](http://127.0.0.1:8889/notebooks/openmind-pryvote-voter.ipynb) and registered the listener for the issue_credential webhook.\n",
    "\n",
    "There are other ways to issue a credential that require multiple api calls.\n",
    "\n",
    "**Arguments**\n",
    "* connection_id: The connection_id of the holder you wish to issue to (MUST be in active state)\n",
    "* schema_id: The id of the schema you wish to issue\n",
    "* cred_def_id: The definition (public key) to sign the credential object. This must refer to the schema_id and be written to the ledger by the same public did that is currently being used by the agent.\n",
    "* attributes: A list of attribute objects as defined above. Must match the schema attributes.\n",
    "* comment (optional): Any string, defaults to \"\"\n",
    "* auto_remove (optional): Boolean, defaults to True. I believe this removes the record of this credential once it has been issued. (TODO: double check)\n",
    "* trace (optional): Boolean, defaults to False. **Not entirely sure about this one, believe its for logging. Also when set to True it throws an error**"
   ]
  },
  {
   "cell_type": "code",
   "execution_count": 8,
   "metadata": {},
   "outputs": [
    {
     "name": "stdout",
     "output_type": "stream",
     "text": [
      "{'issuer_did': 'PQRXDxdGqQGSZ8z69p4xZP', 'auto_remove': True, 'credential_proposal': {'@type': 'did:sov:BzCbsNYhMrjHiqZDTUASHg;spec/issue-credential/1.0/credential-preview', 'attributes': [{'name': 'name', 'value': 'Bob'}, {'name': 'community_member', 'value': '1'}]}, 'connection_id': 'bbbc488c-9b63-49b5-9c5f-8e468aa34fad', 'trace': False, 'comment': '', 'cred_def_id': 'PQRXDxdGqQGSZ8z69p4xZP:3:CL:10:default', 'schema_id': 'PQRXDxdGqQGSZ8z69p4xZP:2:open_mined_community-member1:0.0.1', 'schema_name': 'open_mined_community-member1', 'schema_version': '0.0.1', 'schema_issuer_did': 'PQRXDxdGqQGSZ8z69p4xZP'}\n",
      "Credential exchange e90ea3fd-5085-4940-99bc-61ce197c77b8, role: issuer, state: offer_sent\n",
      "Handle Credentials\n",
      "Credential exchange e90ea3fd-5085-4940-99bc-61ce197c77b8, role: issuer, state: offer_sent\n",
      "Being offered: [{'name': 'name', 'value': 'Bob'}, {'name': 'community_member', 'value': '1'}]\n"
     ]
    }
   ],
   "source": [
    "record = await agent_controller.issuer.send_credential(connection_id, schema_id, cred_def_id, credential_attributes, trace=False)\n",
    "record_id = record['credential_exchange_id']\n",
    "state = record['state']\n",
    "role = record['role']\n",
    "#extract issuer DID for proof request requirements\n",
    "issuer_did = record['credential_proposal_dict']['issuer_did']\n",
    "print(f\"Credential exchange {record_id}, role: {role}, state: {state}\")\n"
   ]
  },
  {
   "cell_type": "markdown",
   "metadata": {},
   "source": [
    "# 10\n",
    "## Get Credential Exchange Records\n",
    "\n",
    "The state of the protocol is stored in an object called a Credential Exchange. These can be retrieved from the agent either individually by ID or the full list.\n",
    "\n",
    "Each record has a state, representing the stage of the protocol the record is at and a role. Either issuer or holder."
   ]
  },
  {
   "cell_type": "code",
   "execution_count": 9,
   "metadata": {},
   "outputs": [
    {
     "name": "stdout",
     "output_type": "stream",
     "text": [
      "[{'updated_at': '2020-08-20 11:45:40.094898Z', 'auto_offer': False, 'state': 'offer_sent', 'credential_definition_id': 'PQRXDxdGqQGSZ8z69p4xZP:3:CL:10:default', 'connection_id': 'bbbc488c-9b63-49b5-9c5f-8e468aa34fad', 'credential_exchange_id': 'e90ea3fd-5085-4940-99bc-61ce197c77b8', 'thread_id': 'a29c8e7b-546b-4dcc-aafc-d8103b187649', 'credential_proposal_dict': {'@type': 'did:sov:BzCbsNYhMrjHiqZDTUASHg;spec/issue-credential/1.0/propose-credential', '@id': 'c9c6f95a-1b0e-45f9-97c3-d29bcfa8ced6', 'schema_issuer_did': 'PQRXDxdGqQGSZ8z69p4xZP', 'schema_id': 'PQRXDxdGqQGSZ8z69p4xZP:2:open_mined_community-member1:0.0.1', 'credential_proposal': {'@type': 'did:sov:BzCbsNYhMrjHiqZDTUASHg;spec/issue-credential/1.0/credential-preview', 'attributes': [{'name': 'name', 'value': 'Bob'}, {'name': 'community_member', 'value': '1'}]}, 'comment': '', 'schema_version': '0.0.1', 'issuer_did': 'PQRXDxdGqQGSZ8z69p4xZP', 'cred_def_id': 'PQRXDxdGqQGSZ8z69p4xZP:3:CL:10:default', 'schema_name': 'open_mined_community-member1'}, 'auto_issue': True, 'created_at': '2020-08-20 11:45:40.094898Z', 'trace': False, 'initiator': 'self', 'schema_id': 'PQRXDxdGqQGSZ8z69p4xZP:2:open_mined_community-member1:0.0.1', 'credential_offer': {'schema_id': 'PQRXDxdGqQGSZ8z69p4xZP:2:open_mined_community-member1:0.0.1', 'cred_def_id': 'PQRXDxdGqQGSZ8z69p4xZP:3:CL:10:default', 'key_correctness_proof': {'c': '11172145971201876115055176548482161317262465162676232717159674714981386077651', 'xz_cap': '127459121322699322722745373033785957924649230345317537202560632558200730700113222096404751179668491445415307066195674310219377330563693472294450833588659005986369018625021392870716493980210356872569782531452718390843780928566231787697493729420280315930305436726205973718358158215850150527612180796873746413965546298316600702272477484625163453367264797247794616469399478678663401836303249943074127703839073433249787265231299897804048009750894010905784037852243106470110665394262822423233738037818763045520798087709809702418677507490935758610089912727985549677946770884024103333644841043956612293055642136100241455064519561298503841259679521895262272449081337040907435891469076956213239442109910', 'xr_cap': [['name', '244755158257224017130697997063262881127437637888894277905350084197351995897600530727189291691797776085234963475018478628355135390936475631346430476936684602634969709018677428691091536925112861632509367176358841693566325865956230014467473045571457516968111680908077112307763962028284899760231635047404450029988423245235146214009482606079332399156605047450732518387447025385229273245257746055953566335674793602272121479544009014104708882080069174947458922024484257189599899535161205303694095762252871234113440653715737236711663945117626397470579247565229424596504776128239779292375589135142299083333608650192415404649255966813454710098578027171588783194102914492006231775659808625029218204457382'], ['master_secret', '269600347694533690351854207832792288122272735958337464190325549788287017908724009563603892759033537077441149909600890855823465153732149668950602049728739014795319286454279876097216857299535335460392500181644177926981462300403400119596700892227582599308323020384871352154619729712917249518872113015335087986890771667234874665093607567143981541529706098256628879451600499467324389648647308443091489998773396051308419372255674595026093731468992906477554012574378608831762063245681170821346739021462858638323950605979235649469652374628796790241604919285398633012205060185956047388928304928550629764431779910944973866907138337087974022367070378268461571218073457437996648228796066560786263856077857'], ['community_member', '83237124093720202797433755763521609026621123007232989634624430239504750563314317850301933184752081322774951334342448633809844448181978071206181097745558030237526965814260257891290774210460853478196870240804067220552226249758037672566930993365841710195481528187880044822296866121099458511608350654533936662414918908315030917986882119288063996826308821027552195447748873141437107242461080569962427884322395376296857366494969918712602386034332708818207639685272743547599115892703734998066084942042582294710713729328665752579410851898916468234056897430668298657767092581465087604228277905797462687305049566439987368807403602828442747589398623548949959166275502876338278267144969275878499042967381']]}, 'nonce': '922771778187163386592964'}, 'role': 'issuer', 'auto_remove': True}]\n"
     ]
    }
   ],
   "source": [
    "response = await agent_controller.issuer.get_records()\n",
    "print(response['results'])"
   ]
  },
  {
   "cell_type": "code",
   "execution_count": 10,
   "metadata": {},
   "outputs": [
    {
     "name": "stdout",
     "output_type": "stream",
     "text": [
      "Credential exchange e90ea3fd-5085-4940-99bc-61ce197c77b8, role: issuer, state: offer_sent\n",
      "Handle Credentials\n",
      "Credential exchange e90ea3fd-5085-4940-99bc-61ce197c77b8, role: issuer, state: request_received\n",
      "Being offered: [{'name': 'name', 'value': 'Bob'}, {'name': 'community_member', 'value': '1'}]\n",
      "Handle Credentials\n",
      "Credential exchange e90ea3fd-5085-4940-99bc-61ce197c77b8, role: issuer, state: credential_issued\n",
      "Being offered: [{'name': 'name', 'value': 'Bob'}, {'name': 'community_member', 'value': '1'}]\n",
      "Handle Credentials\n",
      "Credential exchange e90ea3fd-5085-4940-99bc-61ce197c77b8, role: issuer, state: credential_acked\n",
      "Being offered: [{'name': 'name', 'value': 'Bob'}, {'name': 'community_member', 'value': '1'}]\n"
     ]
    }
   ],
   "source": [
    "cred_record = await agent_controller.issuer.get_record_by_id(record_id)\n",
    "state = cred_record['state']\n",
    "role = cred_record['role']\n",
    "print(f\"Credential exchange {record_id}, role: {role}, state: {state}\")"
   ]
  },
  {
   "cell_type": "markdown",
   "metadata": {},
   "source": [
    "# OPTIONAL\n",
    "## Remove Credential Exchange\n",
    "\n",
    "It is possible to remove stored credential exchanges from an agent. Typically when you are not interested in the credential being offered, or the credential offer that you have sent has become stale (been ignored?)."
   ]
  },
  {
   "cell_type": "code",
   "execution_count": 13,
   "metadata": {},
   "outputs": [
    {
     "name": "stdout",
     "output_type": "stream",
     "text": [
      "{}\n"
     ]
    }
   ],
   "source": [
    "response = await agent_controller.issuer.remove_record(record_id)\n",
    "print(response)"
   ]
  },
  {
   "cell_type": "code",
   "execution_count": 29,
   "metadata": {},
   "outputs": [
    {
     "name": "stdout",
     "output_type": "stream",
     "text": [
      "{'results': []}\n"
     ]
    }
   ],
   "source": [
    "response = await agent_controller.issuer.get_records()\n",
    "print(response)"
   ]
  },
  {
   "cell_type": "markdown",
   "metadata": {},
   "source": [
    "# 14\n",
    "## Send Proof Request"
   ]
  },
  {
   "cell_type": "markdown",
   "metadata": {},
   "source": [
    "Request a proof of Opemined community member to prove community membership"
   ]
  },
  {
   "cell_type": "code",
   "execution_count": 11,
   "metadata": {},
   "outputs": [
    {
     "name": "stdout",
     "output_type": "stream",
     "text": [
      "Request proof of Openmined Community from Openmined PryVote Voter (Bob)\n"
     ]
    }
   ],
   "source": [
    "print(\"Request proof of Openmined Community from Openmined PryVote Voter (Bob)\")\n",
    "#Set some variables\n",
    "\n",
    "revocation = False\n",
    "SELF_ATTESTED = True\n",
    "exchange_tracing = False\n",
    "\n",
    "#Enable this to ask for attributes to identity a user\n",
    "req_attrs = []\n",
    "# req_attrs = [\n",
    "#     {\"name\": \"name\", \"restrictions\": [{\"issuer_did\": issuer_did}]},\n",
    "# ]\n",
    "\n",
    "# if revocation:\n",
    "#     req_attrs.append(\n",
    "#         {\n",
    "#             \"name\": \"degree\",\n",
    "#             \"restrictions\": [{\"issuer_did\": agent.did}],\n",
    "#             \"non_revoked\": {\"to\": int(time.time() - 1)},\n",
    "#         },\n",
    "#     )\n",
    "# else:\n",
    "#     req_attrs.append(\n",
    "#         {\"name\": \"vote\", \"restrictions\": [{\"issuer_did\": issuer_did}]}\n",
    "#     )\n",
    "\n",
    "if SELF_ATTESTED:\n",
    "    # test self-attested claims\n",
    "    req_attrs.append({\"name\": \"community_vote\"},)\n",
    "    \n",
    "#Set predicates for Zero Knowledge Proofs\n",
    "req_preds = [\n",
    "    # test zero-knowledge proofs\n",
    "    {\n",
    "        \"name\": \"community_member\",\n",
    "        \"p_type\": \">=\",\n",
    "        \"p_value\": 1,\n",
    "        \"restrictions\": [{\"issuer_did\": issuer_did}],\n",
    "    }\n",
    "]\n",
    "\n",
    "indy_proof_request = {\n",
    "    \"name\": \"Proof of Openmined Community Member\",\n",
    "    \"version\": \"1.0\",\n",
    "    \"requested_attributes\": {\n",
    "        f\"0_{req_attr['name']}_uuid\": \n",
    "        req_attr for req_attr in req_attrs\n",
    "    },\n",
    "    \"requested_predicates\": {\n",
    "        f\"0_{req_pred['name']}_GE_uuid\": \n",
    "        req_pred for req_pred in req_preds\n",
    "    },\n",
    "}\n",
    "\n",
    "if revocation:\n",
    "    indy_proof_request[\"non_revoked\"] = {\"to\": int(time.time())}\n",
    "    \n",
    "proof_request = indy_proof_request\n",
    "# exchange_tracing_id = exchange_tracing\n",
    "# proof_request_web_request = {\n",
    "#     \"connection_id\": agent.connection_id,\n",
    "#     \"proof_request\": indy_proof_request,\n",
    "#     \"trace\": exchange_tracing,\n",
    "# }"
   ]
  },
  {
   "cell_type": "code",
   "execution_count": 12,
   "metadata": {},
   "outputs": [
    {
     "name": "stdout",
     "output_type": "stream",
     "text": [
      "{'initiator': 'self', 'updated_at': '2020-08-20 11:46:47.956950Z', 'state': 'request_sent', 'created_at': '2020-08-20 11:46:47.956950Z', 'connection_id': 'bbbc488c-9b63-49b5-9c5f-8e468aa34fad', 'presentation_exchange_id': 'ae8ac7cf-0395-4579-80ad-c928f1275990', 'presentation_request': {'name': 'Proof of Openmined Community Member', 'version': '1.0', 'requested_attributes': {'0_community_vote_uuid': {'name': 'community_vote'}}, 'requested_predicates': {'0_community_member_GE_uuid': {'name': 'community_member', 'p_type': '>=', 'p_value': 1, 'restrictions': [{'issuer_did': 'PQRXDxdGqQGSZ8z69p4xZP'}]}}, 'nonce': '17718931380412758176634'}, 'trace': False, 'role': 'verifier', 'auto_present': False, 'thread_id': '3d55b9f7-8ad3-42f2-ac85-0d3cf27f7ea1'}\n",
      "\n",
      "\n",
      "ae8ac7cf-0395-4579-80ad-c928f1275990\n"
     ]
    }
   ],
   "source": [
    "response = await agent_controller.proofs.send_request(connection_id, proof_request, \"\", exchange_tracing)\n",
    "print(response)\n",
    "presentation_exchange_id = response['presentation_exchange_id']\n",
    "print(\"\\n\")\n",
    "print(presentation_exchange_id)\n"
   ]
  },
  {
   "cell_type": "markdown",
   "metadata": {},
   "source": [
    "# 18\n",
    "## Verify Proof Presentation"
   ]
  },
  {
   "cell_type": "code",
   "execution_count": 15,
   "metadata": {},
   "outputs": [
    {
     "name": "stdout",
     "output_type": "stream",
     "text": [
      "{'trace': False, 'state': 'verified', 'thread_id': '105b4cb7-bd70-4059-8133-887aacc86fb9', 'updated_at': '2020-08-19 12:41:20.287007Z', 'initiator': 'self', 'presentation_exchange_id': 'b1f58dd5-a447-4a0f-bd54-9e256930ed28', 'role': 'verifier', 'presentation_request': {'name': 'Proof of Openmined Community Member', 'version': '1.0', 'requested_attributes': {'0_community_vote_uuid': {'name': 'community_vote'}}, 'requested_predicates': {'0_community_member_GE_uuid': {'name': 'community_member', 'p_type': '>=', 'p_value': 1, 'restrictions': [{'issuer_did': 'PQRXDxdGqQGSZ8z69p4xZP'}]}}, 'nonce': '1163414837614071441572304'}, 'auto_present': False, 'presentation': {'proof': {'proofs': [], 'aggregated_proof': {'c_hash': '36142160434880505702157771401361973465743315727306621772140091769345311078129', 'c_list': []}}, 'requested_proof': {'revealed_attrs': {}, 'self_attested_attrs': {'0_community_vote_uuid': 'True'}, 'unrevealed_attrs': {}, 'predicates': {}}, 'identifiers': []}, 'verified': 'false', 'connection_id': '760c9a34-11e2-4b49-bcee-e867c715933b', 'created_at': '2020-08-19 12:40:24.527314Z'}\n"
     ]
    }
   ],
   "source": [
    "verify = await agent_controller.proofs.verify_presentation(presentation_exchange_id)\n",
    "print(verify)"
   ]
  },
  {
   "cell_type": "markdown",
   "metadata": {},
   "source": [
    "# 19\n",
    "## End of Tutorial\n",
    "\n",
    "Be sure to terminate the controller so you can run another tutorial.\n",
    "\n",
    "There are a few api calls not covered in this tutorial so far. Mostly around credential revocation."
   ]
  },
  {
   "cell_type": "code",
   "execution_count": 13,
   "metadata": {},
   "outputs": [
    {
     "name": "stdout",
     "output_type": "stream",
     "text": [
      "None\n"
     ]
    }
   ],
   "source": [
    "response = await agent_controller.terminate()\n",
    "print(response)"
   ]
  },
  {
   "cell_type": "code",
   "execution_count": null,
   "metadata": {},
   "outputs": [],
   "source": []
  }
 ],
 "metadata": {
  "kernelspec": {
   "display_name": "Python 3",
   "language": "python",
   "name": "python3"
  },
  "language_info": {
   "codemirror_mode": {
    "name": "ipython",
    "version": 3
   },
   "file_extension": ".py",
   "mimetype": "text/x-python",
   "name": "python",
   "nbconvert_exporter": "python",
   "pygments_lexer": "ipython3",
   "version": "3.7.6"
  }
 },
 "nbformat": 4,
 "nbformat_minor": 1
}
