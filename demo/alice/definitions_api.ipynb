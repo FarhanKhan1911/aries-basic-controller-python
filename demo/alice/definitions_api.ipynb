{
 "cells": [
  {
   "cell_type": "markdown",
   "metadata": {},
   "source": [
    "# Aries Basic Controller Example\n",
    "## Definitions Api\n",
    "\n",
    "This can be used to write credential definitions to the ledger and search the definitions previously written by the agent.\n",
    "\n",
    "A credential definition needs to be written to the ledger for every schema the agent wishes to issue. A credential definition acts as the public key in the [CL-signature scheme](https://wip-abramson.dev/cl-signatures) used in the sovrin ecosystem. \n",
    "\n",
    "For the interested the originally literature on this scheme can be found [here](https://citeseerx.ist.psu.edu/viewdoc/download?doi=10.1.1.186.5994&rep=rep1&type=pdf).\n",
    "\n",
    "The key takeaway is that by using this type of signature scheme we are able to sign each attribute in the schema individual, making selective disclosure and efficient zero knowledge proof generation possible."
   ]
  },
  {
   "cell_type": "code",
   "execution_count": null,
   "metadata": {
    "pycharm": {
     "name": "#%%\n"
    }
   },
   "outputs": [],
   "source": [
    "%autoawait\n",
    "import time\n",
    "import asyncio"
   ]
  },
  {
   "cell_type": "code",
   "execution_count": 1,
   "metadata": {
    "pycharm": {
     "name": "#%%\n"
    }
   },
   "outputs": [],
   "source": [
    "from aries_basic_controller.aries_controller import AriesAgentController\n",
    "    \n",
    "WEBHOOK_HOST = \"0.0.0.0\"\n",
    "WEBHOOK_PORT = 8022\n",
    "WEBHOOK_BASE = \"\"\n",
    "ADMIN_URL = \"http://alice-agent:8021\"\n",
    "\n",
    "# Based on the aca-py agent you wish to control\n",
    "agent_controller = AriesAgentController(webhook_host=WEBHOOK_HOST, webhook_port=WEBHOOK_PORT,\n",
    "                                       webhook_base=WEBHOOK_BASE, admin_url=ADMIN_URL)\n",
    "    \n"
   ]
  },
  {
   "cell_type": "markdown",
   "metadata": {},
   "source": [
    "## Write a Schema to the Ledger first\n",
    "\n",
    "A credential definition is tied to a schema, each public DID may only write one credential definition per schema to the ledger. It is possible to write a credential definition for schemas that already exist on the ledger but because we are using a [fresh local network](http://localhost:9000) there aren't any so you must write one. See the schema_api notebook for more details."
   ]
  },
  {
   "cell_type": "code",
   "execution_count": 2,
   "metadata": {},
   "outputs": [
    {
     "name": "stdout",
     "output_type": "stream",
     "text": [
      "PQRXDxdGqQGSZ8z69p4xZP:2:my_new_schema:0.0.1\n"
     ]
    }
   ],
   "source": [
    "# Define you schema name - must be unique on the ledger\n",
    "schema_name = \"my_new_schema\"\n",
    "# Can version the schema if you wish to update it\n",
    "schema_version = \"0.0.1\"\n",
    "# Define any list of attributes you wish to include in your schema\n",
    "attributes = [\"name\", \"skill\"]\n",
    "\n",
    "response = await agent_controller.schemas.write_schema(schema_name, attributes, schema_version)\n",
    "schema_id = response[\"schema_id\"]\n",
    "print(schema_id)"
   ]
  },
  {
   "cell_type": "markdown",
   "metadata": {},
   "source": [
    "## Write a credential definition for this schema\n",
    "\n",
    "#### Arguments\n",
    "* schema_id - you need to pass in one of these and it must exist on the ledger\n",
    "* tag - tag to identity the definition later, defaults to default\n",
    "* support_revocation - Determines whether you will be able to later revoke the credential, defaults to False\n",
    "\n",
    "**Note: You should be able to see the transactions on the local network [here](http://localhost:9000)**"
   ]
  },
  {
   "cell_type": "code",
   "execution_count": 3,
   "metadata": {},
   "outputs": [
    {
     "name": "stdout",
     "output_type": "stream",
     "text": [
      "PQRXDxdGqQGSZ8z69p4xZP:3:CL:10:default\n"
     ]
    }
   ],
   "source": [
    "response = await agent_controller.definitions.write_cred_def(schema_id)\n",
    "\n",
    "cred_def_id = response[\"credential_definition_id\"]\n",
    "print(cred_def_id)\n"
   ]
  },
  {
   "cell_type": "markdown",
   "metadata": {},
   "source": [
    "## Get Created definition by id\n",
    "\n",
    "As you can see it contains a bunch of BIG numbers all defined in the signature scheme. Notice that 'r' contains numbers for name, skill and master_secret, all attributes within the credential schema. (All credential schemas contain a master_secret to identify the holder)\n"
   ]
  },
  {
   "cell_type": "code",
   "execution_count": 4,
   "metadata": {},
   "outputs": [
    {
     "name": "stdout",
     "output_type": "stream",
     "text": [
      "{'credential_definition': {'ver': '1.0', 'id': 'PQRXDxdGqQGSZ8z69p4xZP:3:CL:10:default', 'schemaId': '10', 'type': 'CL', 'tag': 'default', 'value': {'primary': {'n': '87791508120866819316160844353443978035240850778035112494849784902439798913955266467744993072842182579264382299800668974775138311164882125825349580741986759653519796513997348025262575974206167697744477524764006366369599126064330403200391065019751283249613678884396874994544074971572171463369626807857195868232621533214699047844894289205249759435213716792863776836273521395448229862032859853816939156557824987008547094472535336669740044889888323166328984994745626570812073802496721296430132416789317801478861254962794307673674198246435880601861457823671401881736304700715182411704304392238258364863169590967182873698149', 's': '43362632463757542705728642908313118581829511772673485386874836024568207888186272141609570686119976125171229580673589898540840343438402064839363062897020303645498848315885118352505044590806881056012075145268323485706941278745209272805896274513696072136095894116984680858812697310645762030803951650094255576121457438342901841334727046669330372864316854305227235423065610025022115972704758002277169708423298421421461083975615719203885664612613391291443444774685818061232209544596953828890104852525227987313729343866515575451951714668629904360965383036552688343350227834473760318410938380618132775420246421522641646366647', 'r': {'master_secret': '49197121734792433651920492391465637230342345357553117657061340101200642656956516873436697347151608694478805287270997314884312804914354015688524519876704671096922679208173253648697949283625009700131112201623560607535179542824223193789934607176795916223721317309753668091438876214604055524457505529011445862021338963733309023109421446013285697233995389266375214651493223001172409184434383435033020684307892018246452423326281215980675856942267682005460934022103238623556929432143948727571481294637548493109181093131988447921161600021982433638531972153408431625742444270032228810692414125696973047329569549990240320736769', 'skill': '5848768792702402654234787560546013978210218549776302419195254848236574061998784031182696199046596563095635730900332063754888725769191394659749229745497159714262407947240494944626188564056530078260070611513865036337725616363952667413521007092230283707501334525968951255865637907092492880634670839655170668964254722360374614572641555989132349734250695998282007909872089249160435624211491950592898918565932171711399953242599623433251539719487171362665560404291212413227463289691177947355669353603493240538655912342717134911784531789035433972806610323669430300001672787472243451612208672743741031585062664216346603921910', 'name': '57763702600952206746832657086462566831251509010670947496269410635650413461329804962257567593903108396518900207890391502215535168678824609995631566937799340922119405426276555130078926926235384123163712368695981052233831030997381285081605923111761486935738589996934446742905645242940381575090672611841866817897750915831480630925855232062882742134143370511333364697387847264553528945252017877707646541725780877662783077806417587985666467388534115118022782070709774043464331444348402470211477359009155035388126262773211043403352414902744428012494708911380845964035077709686550931223897322594136744980857118339873867278818'}, 'rctxt': '34381337770878253373899685131326069556390641515669376124312038001850173665055293422202829461430656006604575893873349674957515395814405500070906491665868331211473877438710296110699459934785982805270693086838648890174770841417560385908860513211475378019596283142843712848390412824549761701246786826775969608396348671443337852779261215528134889805766180276425205264682606810446189603471255627928552207342092810534981632090061518138420987638794309098732257578468592354097100698934433006114163914149239109424542674215137717734885593007578327721638813565422360034239436535984642680310196079682326203728413770719638819079391', 'z': '41567824213070766251399409103128680979376258678473687180623274134220644372030588733372541732768274197694819855129480412854560210922512208542457377472698030206053862242368894820886306581659603658443186078629527611820903479873990842752136130283743906046138016087039786601855117853016643210114511977591110944383427047047034177918868674099078468140142694350689713310053638245777640870837699466544833117491674578673597016522826203861670553025063608329509643488126698871680014517126868445946865742020932994342020689479100925538683930486125100741486593229518184718920653422841277012398470395091832977874680993799925064650565'}}}}\n"
     ]
    }
   ],
   "source": [
    "\n",
    "definition = await agent_controller.definitions.get_by_id(cred_def_id)\n",
    "print(definition)"
   ]
  },
  {
   "cell_type": "markdown",
   "metadata": {},
   "source": [
    "## Search all definitions the agent has created\n",
    "\n",
    "#### Optional Arguments\n",
    "* schema_id\n",
    "* schema_issuer_did\n",
    "* schema_version\n",
    "* schema_name\n",
    "* issuer_did\n",
    "* cred_def_id"
   ]
  },
  {
   "cell_type": "code",
   "execution_count": 5,
   "metadata": {},
   "outputs": [
    {
     "name": "stdout",
     "output_type": "stream",
     "text": [
      "{'credential_definition_ids': ['PQRXDxdGqQGSZ8z69p4xZP:3:CL:10:default']}\n"
     ]
    }
   ],
   "source": [
    "definitions = await agent_controller.definitions.search_created(cred_def_id=cred_def_id)\n",
    "print(definitions)"
   ]
  },
  {
   "cell_type": "code",
   "execution_count": null,
   "metadata": {},
   "outputs": [],
   "source": []
  }
 ],
 "metadata": {
  "kernelspec": {
   "display_name": "Python 3",
   "language": "python",
   "name": "python3"
  },
  "language_info": {
   "codemirror_mode": {
    "name": "ipython",
    "version": 3
   },
   "file_extension": ".py",
   "mimetype": "text/x-python",
   "name": "python",
   "nbconvert_exporter": "python",
   "pygments_lexer": "ipython3",
   "version": "3.7.6"
  },
  "pycharm": {
   "stem_cell": {
    "cell_type": "raw",
    "metadata": {
     "collapsed": false
    },
    "source": []
   }
  }
 },
 "nbformat": 4,
 "nbformat_minor": 1
}
