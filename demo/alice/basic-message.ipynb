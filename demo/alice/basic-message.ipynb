{
 "cells": [
  {
   "cell_type": "markdown",
   "metadata": {},
   "source": [
    "# Aries Basic Controller - Basic Message Example"
   ]
  },
  {
   "cell_type": "code",
   "execution_count": 1,
   "metadata": {},
   "outputs": [
    {
     "name": "stdout",
     "output_type": "stream",
     "text": [
      "IPython autoawait is `on`, and set to use `asyncio`\n"
     ]
    }
   ],
   "source": [
    "%autoawait\n",
    "import time\n",
    "import asyncio"
   ]
  },
  {
   "cell_type": "code",
   "execution_count": 2,
   "metadata": {},
   "outputs": [],
   "source": [
    "from aries_basic_controller.aries_controller import AriesAgentController\n",
    "    \n",
    "WEBHOOK_HOST = \"0.0.0.0\"\n",
    "WEBHOOK_PORT = 8022\n",
    "WEBHOOK_BASE = \"\"\n",
    "ADMIN_URL = \"http://alice-agent:8021\"\n",
    "\n",
    "# Based on the aca-py agent you wish to control\n",
    "agent_controller = AriesAgentController(webhook_host=WEBHOOK_HOST, webhook_port=WEBHOOK_PORT,\n",
    "                                       webhook_base=WEBHOOK_BASE, admin_url=ADMIN_URL, connections=True)"
   ]
  },
  {
   "cell_type": "markdown",
   "metadata": {},
   "source": [
    "## Setup a listener for the basicmessages topic\n",
    "\n",
    "This is emitted using PyPubSub when the controller receives a basicmessages webhook from the agent. This happens everytime the agent receives a basicmessage."
   ]
  },
  {
   "cell_type": "code",
   "execution_count": 3,
   "metadata": {},
   "outputs": [],
   "source": [
    "def messages_handler(payload):\n",
    "    connection_id = payload[\"connection_id\"]\n",
    "    print(\"Handle message\", payload, connection_id)\n",
    "\n",
    "\n",
    "message_listener = {\n",
    "    \"handler\": messages_handler,\n",
    "    \"topic\": \"basicmessages\"\n",
    "}\n",
    "\n",
    "loop = asyncio.get_event_loop()\n",
    "loop.create_task(agent_controller.listen_webhooks())\n",
    "\n",
    "agent_controller.register_listeners([message_listener], defaults=True)"
   ]
  },
  {
   "cell_type": "markdown",
   "metadata": {},
   "source": [
    "## Verify an Active Connection Exists\n",
    "\n",
    "This should have been established through the setup docker container using the create_connection.py script."
   ]
  },
  {
   "cell_type": "code",
   "execution_count": 5,
   "metadata": {},
   "outputs": [
    {
     "name": "stdout",
     "output_type": "stream",
     "text": [
      "Results :  [{'their_did': 'YHF8W9oKsnCmp3qKtsV1As', 'created_at': '2020-07-09 10:17:43.905249Z', 'connection_id': 'ac53ec32-0c36-4202-a6b0-cbdff9b37ed1', 'request_id': 'badbe93c-171f-4ae8-bac4-5a58c3b02ff7', 'initiator': 'external', 'invitation_mode': 'once', 'their_label': 'Bob', 'invitation_key': 'GMzYjo2pNrVrKTppdsyb7g2LyjNu7x5Uk2WHWLzNwCE1', 'state': 'active', 'accept': 'manual', 'updated_at': '2020-07-09 10:17:54.204525Z', 'my_did': '6jkAocT7ke8SvwxKYNTdCf', 'routing_state': 'none'}]\n",
      "Connection : {'their_did': 'YHF8W9oKsnCmp3qKtsV1As', 'created_at': '2020-07-09 10:17:43.905249Z', 'connection_id': 'ac53ec32-0c36-4202-a6b0-cbdff9b37ed1', 'request_id': 'badbe93c-171f-4ae8-bac4-5a58c3b02ff7', 'initiator': 'external', 'invitation_mode': 'once', 'their_label': 'Bob', 'invitation_key': 'GMzYjo2pNrVrKTppdsyb7g2LyjNu7x5Uk2WHWLzNwCE1', 'state': 'active', 'accept': 'manual', 'updated_at': '2020-07-09 10:17:54.204525Z', 'my_did': '6jkAocT7ke8SvwxKYNTdCf', 'routing_state': 'none'}\n",
      "Active Connection ID :  ac53ec32-0c36-4202-a6b0-cbdff9b37ed1\n"
     ]
    }
   ],
   "source": [
    "response = await agent_controller.connections.get_connections()\n",
    "results = response['results']\n",
    "print(\"Results : \", results)\n",
    "if len(results) > 0:\n",
    "    connection = response['results'][0]\n",
    "    print(\"Connection :\", connection)\n",
    "    if connection['state'] == 'active':       \n",
    "        connection_id = connection[\"connection_id\"]\n",
    "        print(\"Active Connection ID : \", connection_id)\n",
    "    else:\n",
    "        print(\"Connection is still progressing to active state, retry in a few moments\")\n",
    "else:\n",
    "    print(\"You must create a connection\")\n",
    "    "
   ]
  },
  {
   "cell_type": "markdown",
   "metadata": {},
   "source": [
    "## Send a Basic Message over DIDComm to Bob\n",
    "\n",
    "See [aries-rfc](https://github.com/hyperledger/aries-rfcs/tree/master/features/0095-basic-message)\n",
    "\n",
    "You can send as messages as you want, if you are running the [basic-message tutorial on Bob's notebook](http://localhost:8889/notebooks/basic-message.ipynb) these will be received and printed by the message handler. You may have to run a code block to see the output."
   ]
  },
  {
   "cell_type": "code",
   "execution_count": 6,
   "metadata": {},
   "outputs": [
    {
     "name": "stdout",
     "output_type": "stream",
     "text": [
      "BASIC MESSAGE - Alice -> Bob\n",
      "{}\n",
      "Handle message {'connection_id': 'ac53ec32-0c36-4202-a6b0-cbdff9b37ed1', 'message_id': 'fa9c93b7-8731-46e6-9432-cf6b329ed580', 'content': 'This is a response from Bob', 'state': 'received'} ac53ec32-0c36-4202-a6b0-cbdff9b37ed1\n",
      "Handle message {'connection_id': 'ac53ec32-0c36-4202-a6b0-cbdff9b37ed1', 'message_id': '02ca8408-8211-496a-aab7-347ce8534f12', 'content': 'This is a response from Bob', 'state': 'received'} ac53ec32-0c36-4202-a6b0-cbdff9b37ed1\n",
      "Handle message {'connection_id': 'ac53ec32-0c36-4202-a6b0-cbdff9b37ed1', 'message_id': '4534de2b-afe7-4cf5-a2be-8b71a781fe07', 'content': 'This is a response from Bob', 'state': 'received'} ac53ec32-0c36-4202-a6b0-cbdff9b37ed1\n",
      "Handle message {'connection_id': 'ac53ec32-0c36-4202-a6b0-cbdff9b37ed1', 'message_id': '90b97c5c-2063-4f52-b091-516b654ab437', 'content': 'This is a response from Bob', 'state': 'received'} ac53ec32-0c36-4202-a6b0-cbdff9b37ed1\n",
      "Handle message {'connection_id': 'ac53ec32-0c36-4202-a6b0-cbdff9b37ed1', 'message_id': '87f48c8d-7db5-45d2-bebd-e77f40320d9a', 'content': 'This is a response from Bob', 'state': 'received'} ac53ec32-0c36-4202-a6b0-cbdff9b37ed1\n",
      "Handle message {'connection_id': 'ac53ec32-0c36-4202-a6b0-cbdff9b37ed1', 'message_id': 'a240a96d-c371-4325-bb5a-e59e06304afd', 'content': 'This is a response from Bob', 'state': 'received'} ac53ec32-0c36-4202-a6b0-cbdff9b37ed1\n",
      "Handle message {'connection_id': 'ac53ec32-0c36-4202-a6b0-cbdff9b37ed1', 'message_id': '880cb82e-4444-4f29-9754-4c778a11f864', 'content': 'This is a response from Bob', 'state': 'received'} ac53ec32-0c36-4202-a6b0-cbdff9b37ed1\n",
      "Handle message {'connection_id': 'ac53ec32-0c36-4202-a6b0-cbdff9b37ed1', 'message_id': 'b11de07b-e065-43e2-b55c-272674ce85c4', 'content': 'This is a response from Bob', 'state': 'received'} ac53ec32-0c36-4202-a6b0-cbdff9b37ed1\n",
      "Handle message {'connection_id': 'ac53ec32-0c36-4202-a6b0-cbdff9b37ed1', 'message_id': '4569d3bf-0e18-43cb-9abe-f5a0d47dcf30', 'content': 'This is a response from Bob', 'state': 'received'} ac53ec32-0c36-4202-a6b0-cbdff9b37ed1\n",
      "Handle message {'connection_id': 'ac53ec32-0c36-4202-a6b0-cbdff9b37ed1', 'message_id': '17482677-899b-473e-bf93-70f2df51b93d', 'content': 'This is a response from Bob', 'state': 'received'} ac53ec32-0c36-4202-a6b0-cbdff9b37ed1\n",
      "Handle message {'connection_id': 'ac53ec32-0c36-4202-a6b0-cbdff9b37ed1', 'message_id': 'b0409b27-1d00-4c9f-80e3-89ae0562bd5e', 'content': 'This is a response from Bob', 'state': 'received'} ac53ec32-0c36-4202-a6b0-cbdff9b37ed1\n",
      "Handle message {'connection_id': 'ac53ec32-0c36-4202-a6b0-cbdff9b37ed1', 'message_id': 'fb417837-b534-4406-943d-a36b7ebe71ad', 'content': 'This is a response from Bob', 'state': 'received'} ac53ec32-0c36-4202-a6b0-cbdff9b37ed1\n",
      "Handle message {'connection_id': 'ac53ec32-0c36-4202-a6b0-cbdff9b37ed1', 'message_id': '9858e823-4765-4669-8b8b-74fc003bc0e1', 'content': 'This is a response from Bob', 'state': 'received'} ac53ec32-0c36-4202-a6b0-cbdff9b37ed1\n",
      "Handle message {'connection_id': 'ac53ec32-0c36-4202-a6b0-cbdff9b37ed1', 'message_id': '4292ed95-1cb3-4d42-9276-45d29db665b0', 'content': 'This is a response from Bob', 'state': 'received'} ac53ec32-0c36-4202-a6b0-cbdff9b37ed1\n",
      "Handle message {'connection_id': 'ac53ec32-0c36-4202-a6b0-cbdff9b37ed1', 'message_id': '5581aa97-d19f-47d3-a355-f14579513f57', 'content': 'This is a response from Bob', 'state': 'received'} ac53ec32-0c36-4202-a6b0-cbdff9b37ed1\n",
      "Handle message {'connection_id': 'ac53ec32-0c36-4202-a6b0-cbdff9b37ed1', 'message_id': '28847446-a248-4ba2-9128-e6bb52855626', 'content': 'This is a response from Bob', 'state': 'received'} ac53ec32-0c36-4202-a6b0-cbdff9b37ed1\n",
      "Handle message {'connection_id': 'ac53ec32-0c36-4202-a6b0-cbdff9b37ed1', 'message_id': '8bd69d86-ff12-462c-b0a8-3fa847181e32', 'content': 'This is a response from Bob', 'state': 'received'} ac53ec32-0c36-4202-a6b0-cbdff9b37ed1\n",
      "Handle message {'connection_id': 'ac53ec32-0c36-4202-a6b0-cbdff9b37ed1', 'message_id': 'a4f0b0f5-b707-4d7d-9f51-ac405f0998d2', 'content': 'This is a response from Bob', 'state': 'received'} ac53ec32-0c36-4202-a6b0-cbdff9b37ed1\n",
      "Handle message {'connection_id': 'ac53ec32-0c36-4202-a6b0-cbdff9b37ed1', 'message_id': '4412fe2f-d920-4f79-bfab-102ce2c307ad', 'content': 'This is a response from Bob', 'state': 'received'} ac53ec32-0c36-4202-a6b0-cbdff9b37ed1\n",
      "Handle message {'connection_id': 'ac53ec32-0c36-4202-a6b0-cbdff9b37ed1', 'message_id': '97c8ab23-5908-47be-b502-e64bba6eb2a4', 'content': 'This is a response from Bob', 'state': 'received'} ac53ec32-0c36-4202-a6b0-cbdff9b37ed1\n",
      "Handle message {'connection_id': 'ac53ec32-0c36-4202-a6b0-cbdff9b37ed1', 'message_id': '64576d1d-914c-43ee-9123-3e4a28d012ed', 'content': 'This is a response from Bob', 'state': 'received'} ac53ec32-0c36-4202-a6b0-cbdff9b37ed1\n",
      "Handle message {'connection_id': 'ac53ec32-0c36-4202-a6b0-cbdff9b37ed1', 'message_id': '1ef3a6eb-9ece-4f53-83fd-98969f02c698', 'content': 'This is a response from Bob', 'state': 'received'} ac53ec32-0c36-4202-a6b0-cbdff9b37ed1\n",
      "Handle message {'connection_id': 'ac53ec32-0c36-4202-a6b0-cbdff9b37ed1', 'message_id': '92d29c29-4e26-44ad-aedc-98da4284b77f', 'content': 'This is a response from Bob', 'state': 'received'} ac53ec32-0c36-4202-a6b0-cbdff9b37ed1\n",
      "Handle message {'connection_id': 'ac53ec32-0c36-4202-a6b0-cbdff9b37ed1', 'message_id': '3c7470c8-4983-4229-91b2-6b0098f819bb', 'content': 'This is a response from Bob', 'state': 'received'} ac53ec32-0c36-4202-a6b0-cbdff9b37ed1\n",
      "Handle message {'connection_id': 'ac53ec32-0c36-4202-a6b0-cbdff9b37ed1', 'message_id': '1ddc35f7-8113-4b1a-b474-5d9df4782617', 'content': 'This is a response from Bob', 'state': 'received'} ac53ec32-0c36-4202-a6b0-cbdff9b37ed1\n",
      "Handle message {'connection_id': 'ac53ec32-0c36-4202-a6b0-cbdff9b37ed1', 'message_id': '4ce13f59-01ce-470b-8908-83ecafbc9e30', 'content': 'This is a response from Bob', 'state': 'received'} ac53ec32-0c36-4202-a6b0-cbdff9b37ed1\n",
      "Handle message {'connection_id': 'ac53ec32-0c36-4202-a6b0-cbdff9b37ed1', 'message_id': 'f72d1821-b64c-44ad-92e3-835d2f4225f0', 'content': 'This is a response from Bob', 'state': 'received'} ac53ec32-0c36-4202-a6b0-cbdff9b37ed1\n",
      "Handle message {'connection_id': 'ac53ec32-0c36-4202-a6b0-cbdff9b37ed1', 'message_id': '6c650c02-5fc2-4ed2-a70e-80a66b9a0b0d', 'content': 'This is a response from Bob', 'state': 'received'} ac53ec32-0c36-4202-a6b0-cbdff9b37ed1\n",
      "Handle message {'connection_id': 'ac53ec32-0c36-4202-a6b0-cbdff9b37ed1', 'message_id': '9da37654-41d3-46a5-9a7c-f0368ed514e2', 'content': 'This is a response from Bob', 'state': 'received'} ac53ec32-0c36-4202-a6b0-cbdff9b37ed1\n",
      "Handle message {'connection_id': 'ac53ec32-0c36-4202-a6b0-cbdff9b37ed1', 'message_id': '1f10a594-a1a4-4f9d-9cea-b9bc1396f8d5', 'content': 'This is a response from Bob', 'state': 'received'} ac53ec32-0c36-4202-a6b0-cbdff9b37ed1\n",
      "Handle message {'connection_id': 'ac53ec32-0c36-4202-a6b0-cbdff9b37ed1', 'message_id': '57ebc53e-1617-42d7-a374-da3df44458a9', 'content': 'This is a response from Bob', 'state': 'received'} ac53ec32-0c36-4202-a6b0-cbdff9b37ed1\n",
      "Handle message {'connection_id': 'ac53ec32-0c36-4202-a6b0-cbdff9b37ed1', 'message_id': '5c27c9a3-3a70-43f0-9b17-f0ec243f3991', 'content': 'This is a response from Bob', 'state': 'received'} ac53ec32-0c36-4202-a6b0-cbdff9b37ed1\n",
      "Handle message {'connection_id': 'ac53ec32-0c36-4202-a6b0-cbdff9b37ed1', 'message_id': 'ba1b9052-cca0-4031-91bc-5286257e923e', 'content': 'This is a response from Bob', 'state': 'received'} ac53ec32-0c36-4202-a6b0-cbdff9b37ed1\n",
      "Handle message {'connection_id': 'ac53ec32-0c36-4202-a6b0-cbdff9b37ed1', 'message_id': 'fc5986c3-ed4a-46c9-a74c-8bbb64bc5860', 'content': 'This is a response from Bob', 'state': 'received'} ac53ec32-0c36-4202-a6b0-cbdff9b37ed1\n",
      "Handle message {'connection_id': 'ac53ec32-0c36-4202-a6b0-cbdff9b37ed1', 'message_id': 'b1a092d0-4632-4301-a81a-a684f54884a9', 'content': 'This is a response from Bob', 'state': 'received'} ac53ec32-0c36-4202-a6b0-cbdff9b37ed1\n",
      "Handle message {'connection_id': 'ac53ec32-0c36-4202-a6b0-cbdff9b37ed1', 'message_id': '31269730-b9cc-4ea4-a3a6-c8d9ecc1a6d0', 'content': 'This is a response from Bob', 'state': 'received'} ac53ec32-0c36-4202-a6b0-cbdff9b37ed1\n",
      "Handle message {'connection_id': 'ac53ec32-0c36-4202-a6b0-cbdff9b37ed1', 'message_id': '3d8cd761-b2ee-4f57-8443-361e0e86181d', 'content': 'This is a response from Bob', 'state': 'received'} ac53ec32-0c36-4202-a6b0-cbdff9b37ed1\n"
     ]
    },
    {
     "name": "stdout",
     "output_type": "stream",
     "text": [
      "Handle message {'connection_id': 'ac53ec32-0c36-4202-a6b0-cbdff9b37ed1', 'message_id': '62f4e5b6-8b51-49c7-a3e0-a52488f9eb0d', 'content': 'This is a response from Bob', 'state': 'received'} ac53ec32-0c36-4202-a6b0-cbdff9b37ed1\n",
      "Handle message {'connection_id': 'ac53ec32-0c36-4202-a6b0-cbdff9b37ed1', 'message_id': 'd51a2ffd-01d7-4e18-92f1-fce651fbf1b4', 'content': 'This is a response from Bob', 'state': 'received'} ac53ec32-0c36-4202-a6b0-cbdff9b37ed1\n",
      "Handle message {'connection_id': 'ac53ec32-0c36-4202-a6b0-cbdff9b37ed1', 'message_id': 'a49e85d8-6afa-4630-80e0-c204a02f6a4e', 'content': 'This is a response from Bob', 'state': 'received'} ac53ec32-0c36-4202-a6b0-cbdff9b37ed1\n",
      "Handle message {'connection_id': 'ac53ec32-0c36-4202-a6b0-cbdff9b37ed1', 'message_id': 'e158cf43-65b1-4e96-8df9-385e51e1e87c', 'content': 'This is a response from Bob', 'state': 'received'} ac53ec32-0c36-4202-a6b0-cbdff9b37ed1\n",
      "Handle message {'connection_id': 'ac53ec32-0c36-4202-a6b0-cbdff9b37ed1', 'message_id': '762bac79-d46b-47c8-a3a7-acf01cb33d69', 'content': 'This is a response from Bob', 'state': 'received'} ac53ec32-0c36-4202-a6b0-cbdff9b37ed1\n",
      "Handle message {'connection_id': 'ac53ec32-0c36-4202-a6b0-cbdff9b37ed1', 'message_id': 'd1e7c9d3-c534-455c-986f-ba573668671c', 'content': 'This is a response from Bob', 'state': 'received'} ac53ec32-0c36-4202-a6b0-cbdff9b37ed1\n",
      "Handle message {'connection_id': 'ac53ec32-0c36-4202-a6b0-cbdff9b37ed1', 'message_id': '22c5d3c2-f45a-483e-8fe8-8aff89df4244', 'content': 'This is a response from Bob', 'state': 'received'} ac53ec32-0c36-4202-a6b0-cbdff9b37ed1\n",
      "Handle message {'connection_id': 'ac53ec32-0c36-4202-a6b0-cbdff9b37ed1', 'message_id': '42045165-4e2b-41ef-bc66-c249911ae521', 'content': 'This is a response from Bob', 'state': 'received'} ac53ec32-0c36-4202-a6b0-cbdff9b37ed1\n",
      "Handle message {'connection_id': 'ac53ec32-0c36-4202-a6b0-cbdff9b37ed1', 'message_id': 'c2a34f8b-2121-438b-9b1d-eff2e6b87c5a', 'content': 'This is a response from Bob', 'state': 'received'} ac53ec32-0c36-4202-a6b0-cbdff9b37ed1\n",
      "Handle message {'connection_id': 'ac53ec32-0c36-4202-a6b0-cbdff9b37ed1', 'message_id': '0e6c3b64-c1c6-4b6a-83cd-406a39e0abbe', 'content': 'This is a response from Bob', 'state': 'received'} ac53ec32-0c36-4202-a6b0-cbdff9b37ed1\n",
      "Handle message {'connection_id': 'ac53ec32-0c36-4202-a6b0-cbdff9b37ed1', 'message_id': '66e476ff-7ca3-495c-ab72-d06ae5003d5e', 'content': 'This is a response from Bob', 'state': 'received'} ac53ec32-0c36-4202-a6b0-cbdff9b37ed1\n",
      "Handle message {'connection_id': 'ac53ec32-0c36-4202-a6b0-cbdff9b37ed1', 'message_id': 'd3c66b8b-3a7c-4982-8397-9e30407c33d5', 'content': 'This is a response from Bob', 'state': 'received'} ac53ec32-0c36-4202-a6b0-cbdff9b37ed1\n",
      "Handle message {'connection_id': 'ac53ec32-0c36-4202-a6b0-cbdff9b37ed1', 'message_id': 'b9ef7328-9487-48f3-880c-edc062379ad9', 'content': 'This is a response from Bob', 'state': 'received'} ac53ec32-0c36-4202-a6b0-cbdff9b37ed1\n",
      "Handle message {'connection_id': 'ac53ec32-0c36-4202-a6b0-cbdff9b37ed1', 'message_id': 'de95a36b-2a34-4e5d-bd9d-dc9cc40f79c8', 'content': 'This is a response from Bob', 'state': 'received'} ac53ec32-0c36-4202-a6b0-cbdff9b37ed1\n",
      "Handle message {'connection_id': 'ac53ec32-0c36-4202-a6b0-cbdff9b37ed1', 'message_id': '8193d98a-116d-47dc-9aa8-5b0592f43590', 'content': 'This is a response from Bob', 'state': 'received'} ac53ec32-0c36-4202-a6b0-cbdff9b37ed1\n",
      "Handle message {'connection_id': 'ac53ec32-0c36-4202-a6b0-cbdff9b37ed1', 'message_id': '68664492-5ec4-464d-924c-bf0ee9dd5ab8', 'content': 'This is a response from Bob', 'state': 'received'} ac53ec32-0c36-4202-a6b0-cbdff9b37ed1\n",
      "Handle message {'connection_id': 'ac53ec32-0c36-4202-a6b0-cbdff9b37ed1', 'message_id': 'bf7c3ec9-e022-401c-b671-e21531273bb3', 'content': 'This is a response from Bob', 'state': 'received'} ac53ec32-0c36-4202-a6b0-cbdff9b37ed1\n",
      "Handle message {'connection_id': 'ac53ec32-0c36-4202-a6b0-cbdff9b37ed1', 'message_id': '5740d2eb-054b-4370-a687-5552b942ae3c', 'content': 'This is a response from Bob', 'state': 'received'} ac53ec32-0c36-4202-a6b0-cbdff9b37ed1\n",
      "Handle message {'connection_id': 'ac53ec32-0c36-4202-a6b0-cbdff9b37ed1', 'message_id': '7ecc2a1e-fad7-4550-9eaf-8e652f9889ad', 'content': 'This is a response from Bob', 'state': 'received'} ac53ec32-0c36-4202-a6b0-cbdff9b37ed1\n",
      "Handle message {'connection_id': 'ac53ec32-0c36-4202-a6b0-cbdff9b37ed1', 'message_id': 'bfb4b315-c4ee-442c-9b21-7a3f5d296073', 'content': 'This is a response from Bob', 'state': 'received'} ac53ec32-0c36-4202-a6b0-cbdff9b37ed1\n",
      "Handle message {'connection_id': 'ac53ec32-0c36-4202-a6b0-cbdff9b37ed1', 'message_id': '60269da9-7b8d-4fc5-9ef8-eb0e11acb783', 'content': 'This is a response from Bob', 'state': 'received'} ac53ec32-0c36-4202-a6b0-cbdff9b37ed1\n",
      "Handle message {'connection_id': 'ac53ec32-0c36-4202-a6b0-cbdff9b37ed1', 'message_id': '23eb87ef-08b0-4f5b-abff-4353395617e2', 'content': 'This is a response from Bob', 'state': 'received'} ac53ec32-0c36-4202-a6b0-cbdff9b37ed1\n",
      "Handle message {'connection_id': 'ac53ec32-0c36-4202-a6b0-cbdff9b37ed1', 'message_id': '7fb0174b-c54e-4874-bfb7-1195fbf967e9', 'content': 'This is a response from Bob', 'state': 'received'} ac53ec32-0c36-4202-a6b0-cbdff9b37ed1\n",
      "Handle message {'connection_id': 'ac53ec32-0c36-4202-a6b0-cbdff9b37ed1', 'message_id': '1b689cd9-e62e-4357-bb8a-5687a2a7e089', 'content': 'This is a response from Bob', 'state': 'received'} ac53ec32-0c36-4202-a6b0-cbdff9b37ed1\n",
      "Handle message {'connection_id': 'ac53ec32-0c36-4202-a6b0-cbdff9b37ed1', 'message_id': '2065162c-2aea-4542-bc58-4542726d8212', 'content': 'This is a response from Bob', 'state': 'received'} ac53ec32-0c36-4202-a6b0-cbdff9b37ed1\n",
      "Handle message {'connection_id': 'ac53ec32-0c36-4202-a6b0-cbdff9b37ed1', 'message_id': '945fb979-9f3a-4414-9edd-7fb0e0f31036', 'content': 'This is a response from Bob', 'state': 'received'} ac53ec32-0c36-4202-a6b0-cbdff9b37ed1\n",
      "Handle message {'connection_id': 'ac53ec32-0c36-4202-a6b0-cbdff9b37ed1', 'message_id': '12c5ea64-96bf-433b-8763-521f01677786', 'content': 'This is a response from Bob', 'state': 'received'} ac53ec32-0c36-4202-a6b0-cbdff9b37ed1\n",
      "Handle message {'connection_id': 'ac53ec32-0c36-4202-a6b0-cbdff9b37ed1', 'message_id': '4e592912-fa1d-431f-8feb-cb994b2b7f98', 'content': 'This is a response from Bob', 'state': 'received'} ac53ec32-0c36-4202-a6b0-cbdff9b37ed1\n",
      "Handle message {'connection_id': 'ac53ec32-0c36-4202-a6b0-cbdff9b37ed1', 'message_id': '64b72cfa-ff59-41be-b942-9bacb4d2909a', 'content': 'This is a response from Bob', 'state': 'received'} ac53ec32-0c36-4202-a6b0-cbdff9b37ed1\n",
      "Handle message {'connection_id': 'ac53ec32-0c36-4202-a6b0-cbdff9b37ed1', 'message_id': 'e27e329a-b2af-4ce9-b1aa-2c2bbc828e1d', 'content': 'This is a response from Bob', 'state': 'received'} ac53ec32-0c36-4202-a6b0-cbdff9b37ed1\n",
      "Handle message {'connection_id': 'ac53ec32-0c36-4202-a6b0-cbdff9b37ed1', 'message_id': 'd2abfa6d-39e3-4111-9c9e-38d83fb02c62', 'content': 'This is a response from Bob', 'state': 'received'} ac53ec32-0c36-4202-a6b0-cbdff9b37ed1\n",
      "Handle message {'connection_id': 'ac53ec32-0c36-4202-a6b0-cbdff9b37ed1', 'message_id': '1ab9fa40-bc58-4667-879e-9acaa711e537', 'content': 'This is a response from Bob', 'state': 'received'} ac53ec32-0c36-4202-a6b0-cbdff9b37ed1\n",
      "Handle message {'connection_id': 'ac53ec32-0c36-4202-a6b0-cbdff9b37ed1', 'message_id': '6b10e770-95fc-4414-86d2-1dd798c86571', 'content': 'This is a response from Bob', 'state': 'received'} ac53ec32-0c36-4202-a6b0-cbdff9b37ed1\n",
      "Handle message {'connection_id': 'ac53ec32-0c36-4202-a6b0-cbdff9b37ed1', 'message_id': '364adf00-877b-4df8-a576-ed6065163139', 'content': 'This is a response from Bob', 'state': 'received'} ac53ec32-0c36-4202-a6b0-cbdff9b37ed1\n",
      "Handle message {'connection_id': 'ac53ec32-0c36-4202-a6b0-cbdff9b37ed1', 'message_id': '95350017-9ce7-4016-aae5-58f3dbdf48ff', 'content': 'This is a response from Bob', 'state': 'received'} ac53ec32-0c36-4202-a6b0-cbdff9b37ed1\n",
      "Handle message {'connection_id': 'ac53ec32-0c36-4202-a6b0-cbdff9b37ed1', 'message_id': '9cc65d68-0e27-4cfe-be0b-86ae5c6ad501', 'content': 'This is a response from Bob', 'state': 'received'} ac53ec32-0c36-4202-a6b0-cbdff9b37ed1\n",
      "Handle message {'connection_id': 'ac53ec32-0c36-4202-a6b0-cbdff9b37ed1', 'message_id': '5a437914-9e1e-47cf-836a-01f59a6f628e', 'content': 'This is a response from Bob', 'state': 'received'} ac53ec32-0c36-4202-a6b0-cbdff9b37ed1\n"
     ]
    },
    {
     "name": "stdout",
     "output_type": "stream",
     "text": [
      "Handle message {'connection_id': 'ac53ec32-0c36-4202-a6b0-cbdff9b37ed1', 'message_id': '6a3ebb30-cf5c-4b35-b08b-e763eb73f8d6', 'content': 'This is a response from Bob', 'state': 'received'} ac53ec32-0c36-4202-a6b0-cbdff9b37ed1\n",
      "Handle message {'connection_id': 'ac53ec32-0c36-4202-a6b0-cbdff9b37ed1', 'message_id': '9d34c9df-c198-45ae-9592-379618a74417', 'content': 'This is a response from Bob', 'state': 'received'} ac53ec32-0c36-4202-a6b0-cbdff9b37ed1\n",
      "Handle message {'connection_id': 'ac53ec32-0c36-4202-a6b0-cbdff9b37ed1', 'message_id': '995c62f0-fa66-4ddf-8da9-7f66e3e08fa6', 'content': 'This is a response from Bob', 'state': 'received'} ac53ec32-0c36-4202-a6b0-cbdff9b37ed1\n",
      "Handle message {'connection_id': 'ac53ec32-0c36-4202-a6b0-cbdff9b37ed1', 'message_id': 'e0552267-86ef-4581-a8bb-b936f6b0e237', 'content': 'This is a response from Bob', 'state': 'received'} ac53ec32-0c36-4202-a6b0-cbdff9b37ed1\n",
      "Handle message {'connection_id': 'ac53ec32-0c36-4202-a6b0-cbdff9b37ed1', 'message_id': 'd7b93e10-8b0b-4b74-9578-58f06f9bfc32', 'content': 'This is a response from Bob', 'state': 'received'} ac53ec32-0c36-4202-a6b0-cbdff9b37ed1\n",
      "Handle message {'connection_id': 'ac53ec32-0c36-4202-a6b0-cbdff9b37ed1', 'message_id': '2820848b-5ed8-4b36-b821-68f39fb92694', 'content': 'This is a response from Bob', 'state': 'received'} ac53ec32-0c36-4202-a6b0-cbdff9b37ed1\n",
      "Handle message {'connection_id': 'ac53ec32-0c36-4202-a6b0-cbdff9b37ed1', 'message_id': 'ee6502c4-b09b-4fca-9b15-b23268cf0deb', 'content': 'This is a response from Bob', 'state': 'received'} ac53ec32-0c36-4202-a6b0-cbdff9b37ed1\n",
      "Handle message {'connection_id': 'ac53ec32-0c36-4202-a6b0-cbdff9b37ed1', 'message_id': '2ba014e5-4c00-47ac-a0a8-2ea21a1c70ef', 'content': 'This is a response from Bob', 'state': 'received'} ac53ec32-0c36-4202-a6b0-cbdff9b37ed1\n",
      "Handle message {'connection_id': 'ac53ec32-0c36-4202-a6b0-cbdff9b37ed1', 'message_id': '293ad1a9-691d-4baf-9f9f-9e646f3f5e36', 'content': 'This is a response from Bob', 'state': 'received'} ac53ec32-0c36-4202-a6b0-cbdff9b37ed1\n",
      "Handle message {'connection_id': 'ac53ec32-0c36-4202-a6b0-cbdff9b37ed1', 'message_id': 'fedbfeca-47a7-4086-a191-c543ca39642c', 'content': 'This is a response from Bob', 'state': 'received'} ac53ec32-0c36-4202-a6b0-cbdff9b37ed1\n",
      "Handle message {'connection_id': 'ac53ec32-0c36-4202-a6b0-cbdff9b37ed1', 'message_id': 'b04b2d19-194a-4479-9850-6bae15fbebc2', 'content': 'This is a response from Bob', 'state': 'received'} ac53ec32-0c36-4202-a6b0-cbdff9b37ed1\n",
      "Handle message {'connection_id': 'ac53ec32-0c36-4202-a6b0-cbdff9b37ed1', 'message_id': 'ecfbec22-c250-43c3-9d30-65022ce4d01c', 'content': 'This is a response from Bob', 'state': 'received'} ac53ec32-0c36-4202-a6b0-cbdff9b37ed1\n",
      "Handle message {'connection_id': 'ac53ec32-0c36-4202-a6b0-cbdff9b37ed1', 'message_id': 'c61ac5b4-5fcd-488a-ba3b-80562db6cdcb', 'content': 'This is a response from Bob', 'state': 'received'} ac53ec32-0c36-4202-a6b0-cbdff9b37ed1\n",
      "Handle message {'connection_id': 'ac53ec32-0c36-4202-a6b0-cbdff9b37ed1', 'message_id': 'b53b76f2-0be8-4cf9-a048-1657bc0fe00b', 'content': 'This is a response from Bob', 'state': 'received'} ac53ec32-0c36-4202-a6b0-cbdff9b37ed1\n",
      "Handle message {'connection_id': 'ac53ec32-0c36-4202-a6b0-cbdff9b37ed1', 'message_id': '6986a366-8214-49bb-beb9-504063ff454c', 'content': 'This is a response from Bob', 'state': 'received'} ac53ec32-0c36-4202-a6b0-cbdff9b37ed1\n",
      "Handle message {'connection_id': 'ac53ec32-0c36-4202-a6b0-cbdff9b37ed1', 'message_id': '88f60e39-e9f2-4968-a16a-733b7f4ed075', 'content': 'This is a response from Bob', 'state': 'received'} ac53ec32-0c36-4202-a6b0-cbdff9b37ed1\n",
      "Handle message {'connection_id': 'ac53ec32-0c36-4202-a6b0-cbdff9b37ed1', 'message_id': '2b7ea12c-be2c-45e4-b5b4-9a02ad2957d8', 'content': 'This is a response from Bob', 'state': 'received'} ac53ec32-0c36-4202-a6b0-cbdff9b37ed1\n",
      "Handle message {'connection_id': 'ac53ec32-0c36-4202-a6b0-cbdff9b37ed1', 'message_id': '2715f0d9-648a-4ca5-9604-afb7b60e03cf', 'content': 'This is a response from Bob', 'state': 'received'} ac53ec32-0c36-4202-a6b0-cbdff9b37ed1\n",
      "Handle message {'connection_id': 'ac53ec32-0c36-4202-a6b0-cbdff9b37ed1', 'message_id': 'dfb37d2e-59f6-47e9-ac35-5a3395375522', 'content': 'This is a response from Bob', 'state': 'received'} ac53ec32-0c36-4202-a6b0-cbdff9b37ed1\n",
      "Handle message {'connection_id': 'ac53ec32-0c36-4202-a6b0-cbdff9b37ed1', 'message_id': 'bbd9f811-26d4-439d-ae40-76dec4a410f7', 'content': 'This is a response from Bob', 'state': 'received'} ac53ec32-0c36-4202-a6b0-cbdff9b37ed1\n",
      "Handle message {'connection_id': 'ac53ec32-0c36-4202-a6b0-cbdff9b37ed1', 'message_id': '1c58c820-ade0-4465-a8e3-c571b9b68fd6', 'content': 'This is a response from Bob', 'state': 'received'} ac53ec32-0c36-4202-a6b0-cbdff9b37ed1\n",
      "Handle message {'connection_id': 'ac53ec32-0c36-4202-a6b0-cbdff9b37ed1', 'message_id': '3fffbae4-ed4b-44ff-abc7-c9f269a286e8', 'content': 'This is a response from Bob', 'state': 'received'} ac53ec32-0c36-4202-a6b0-cbdff9b37ed1\n",
      "Handle message {'connection_id': 'ac53ec32-0c36-4202-a6b0-cbdff9b37ed1', 'message_id': 'c41bfc8a-494e-4097-bc29-ab6c180e51e8', 'content': 'This is a response from Bob', 'state': 'received'} ac53ec32-0c36-4202-a6b0-cbdff9b37ed1\n",
      "Handle message {'connection_id': 'ac53ec32-0c36-4202-a6b0-cbdff9b37ed1', 'message_id': '69d582de-21a0-44a2-affb-6851b9c8f071', 'content': 'This is a response from Bob', 'state': 'received'} ac53ec32-0c36-4202-a6b0-cbdff9b37ed1\n",
      "Handle message {'connection_id': 'ac53ec32-0c36-4202-a6b0-cbdff9b37ed1', 'message_id': '55cb2253-a8eb-470c-9963-98fe0b194224', 'content': 'This is a response from Bob', 'state': 'received'} ac53ec32-0c36-4202-a6b0-cbdff9b37ed1\n",
      "Handle message {'connection_id': 'ac53ec32-0c36-4202-a6b0-cbdff9b37ed1', 'message_id': 'f81b4914-e7ba-4c68-ad64-cec83239ccb4', 'content': 'This is a response from Bob', 'state': 'received'} ac53ec32-0c36-4202-a6b0-cbdff9b37ed1\n",
      "Handle message {'connection_id': 'ac53ec32-0c36-4202-a6b0-cbdff9b37ed1', 'message_id': '0adad9dd-8f05-478e-b761-b1e7fc9e1cd9', 'content': 'This is a response from Bob', 'state': 'received'} ac53ec32-0c36-4202-a6b0-cbdff9b37ed1\n",
      "Handle message {'connection_id': 'ac53ec32-0c36-4202-a6b0-cbdff9b37ed1', 'message_id': '80552c54-a17f-4aa5-a579-fd8eda94f746', 'content': 'This is a response from Bob', 'state': 'received'} ac53ec32-0c36-4202-a6b0-cbdff9b37ed1\n",
      "Handle message {'connection_id': 'ac53ec32-0c36-4202-a6b0-cbdff9b37ed1', 'message_id': '22c3c8c2-1db2-49f4-b678-f99c1351af96', 'content': 'This is a response from Bob', 'state': 'received'} ac53ec32-0c36-4202-a6b0-cbdff9b37ed1\n",
      "Handle message {'connection_id': 'ac53ec32-0c36-4202-a6b0-cbdff9b37ed1', 'message_id': 'c35aa9c2-2694-4b98-8cde-d2821527ad17', 'content': 'This is a response from Bob', 'state': 'received'} ac53ec32-0c36-4202-a6b0-cbdff9b37ed1\n",
      "Handle message {'connection_id': 'ac53ec32-0c36-4202-a6b0-cbdff9b37ed1', 'message_id': 'cd5356ed-476c-4f00-9d38-49718316bd30', 'content': 'This is a response from Bob', 'state': 'received'} ac53ec32-0c36-4202-a6b0-cbdff9b37ed1\n",
      "Handle message {'connection_id': 'ac53ec32-0c36-4202-a6b0-cbdff9b37ed1', 'message_id': '47eaf854-b7e8-4b15-bae9-b33c03181dde', 'content': 'This is a response from Bob', 'state': 'received'} ac53ec32-0c36-4202-a6b0-cbdff9b37ed1\n",
      "Handle message {'connection_id': 'ac53ec32-0c36-4202-a6b0-cbdff9b37ed1', 'message_id': 'dc1204f9-2b0b-4e52-b043-c34e3a097b3a', 'content': 'This is a response from Bob', 'state': 'received'} ac53ec32-0c36-4202-a6b0-cbdff9b37ed1\n",
      "Handle message {'connection_id': 'ac53ec32-0c36-4202-a6b0-cbdff9b37ed1', 'message_id': '40e0e99b-3376-401d-ae42-38d01d908d07', 'content': 'This is a response from Bob', 'state': 'received'} ac53ec32-0c36-4202-a6b0-cbdff9b37ed1\n",
      "Handle message {'connection_id': 'ac53ec32-0c36-4202-a6b0-cbdff9b37ed1', 'message_id': 'f0eea3cf-46e3-4c98-8a09-2f41b878f099', 'content': 'This is a response from Bob', 'state': 'received'} ac53ec32-0c36-4202-a6b0-cbdff9b37ed1\n",
      "Handle message {'connection_id': 'ac53ec32-0c36-4202-a6b0-cbdff9b37ed1', 'message_id': '00e3f718-8fd0-4c43-a0a9-7dc9c44cf04d', 'content': 'This is a response from Bob', 'state': 'received'} ac53ec32-0c36-4202-a6b0-cbdff9b37ed1\n",
      "Handle message {'connection_id': 'ac53ec32-0c36-4202-a6b0-cbdff9b37ed1', 'message_id': '16b2306f-fb58-41ae-99ab-3dd07bb381b1', 'content': 'This is a response from Bob', 'state': 'received'} ac53ec32-0c36-4202-a6b0-cbdff9b37ed1\n",
      "Handle message {'connection_id': 'ac53ec32-0c36-4202-a6b0-cbdff9b37ed1', 'message_id': 'bf2891fd-0d50-4b0d-a333-78e7e503ea9d', 'content': 'This is a response from Bob', 'state': 'received'} ac53ec32-0c36-4202-a6b0-cbdff9b37ed1\n",
      "Handle message {'connection_id': 'ac53ec32-0c36-4202-a6b0-cbdff9b37ed1', 'message_id': '52bad761-75df-4a74-9607-b1c85de5aa6f', 'content': 'This is a response from Bob', 'state': 'received'} ac53ec32-0c36-4202-a6b0-cbdff9b37ed1\n"
     ]
    },
    {
     "name": "stdout",
     "output_type": "stream",
     "text": [
      "Handle message {'connection_id': 'ac53ec32-0c36-4202-a6b0-cbdff9b37ed1', 'message_id': 'db0f312d-198a-44e4-b2a5-d76406ec3c35', 'content': 'This is a response from Bob', 'state': 'received'} ac53ec32-0c36-4202-a6b0-cbdff9b37ed1\n",
      "Handle message {'connection_id': 'ac53ec32-0c36-4202-a6b0-cbdff9b37ed1', 'message_id': '3a7d0745-8203-4c81-b631-72e5bb32ea22', 'content': 'This is a response from Bob', 'state': 'received'} ac53ec32-0c36-4202-a6b0-cbdff9b37ed1\n",
      "Handle message {'connection_id': 'ac53ec32-0c36-4202-a6b0-cbdff9b37ed1', 'message_id': '5b7805a2-0bcd-4bd2-be17-b9f6b4837648', 'content': 'This is a response from Bob', 'state': 'received'} ac53ec32-0c36-4202-a6b0-cbdff9b37ed1\n",
      "Handle message {'connection_id': 'ac53ec32-0c36-4202-a6b0-cbdff9b37ed1', 'message_id': '1de79a68-54ec-4f28-97aa-998135e96d97', 'content': 'This is a response from Bob', 'state': 'received'} ac53ec32-0c36-4202-a6b0-cbdff9b37ed1\n",
      "Handle message {'connection_id': 'ac53ec32-0c36-4202-a6b0-cbdff9b37ed1', 'message_id': '944922f0-1b8f-4f99-972b-1c8d80112cfe', 'content': 'This is a response from Bob', 'state': 'received'} ac53ec32-0c36-4202-a6b0-cbdff9b37ed1\n",
      "Handle message {'connection_id': 'ac53ec32-0c36-4202-a6b0-cbdff9b37ed1', 'message_id': 'a70bfc4a-e58b-4817-8c56-dd7cb40422de', 'content': 'This is a response from Bob', 'state': 'received'} ac53ec32-0c36-4202-a6b0-cbdff9b37ed1\n",
      "Handle message {'connection_id': 'ac53ec32-0c36-4202-a6b0-cbdff9b37ed1', 'message_id': '81201d02-f929-4e10-a3dd-eb6de3c88058', 'content': 'This is a response from Bob', 'state': 'received'} ac53ec32-0c36-4202-a6b0-cbdff9b37ed1\n",
      "Handle message {'connection_id': 'ac53ec32-0c36-4202-a6b0-cbdff9b37ed1', 'message_id': '82cd40a7-d189-410c-9d7e-c3a5bf88d260', 'content': 'This is a response from Bob', 'state': 'received'} ac53ec32-0c36-4202-a6b0-cbdff9b37ed1\n",
      "Handle message {'connection_id': 'ac53ec32-0c36-4202-a6b0-cbdff9b37ed1', 'message_id': '188396bc-3a48-4cd6-ac4d-1b674301d613', 'content': 'This is a response from Bob', 'state': 'received'} ac53ec32-0c36-4202-a6b0-cbdff9b37ed1\n",
      "Handle message {'connection_id': 'ac53ec32-0c36-4202-a6b0-cbdff9b37ed1', 'message_id': 'bf688b7f-dc5a-4d01-be61-185952acd889', 'content': 'This is a response from Bob', 'state': 'received'} ac53ec32-0c36-4202-a6b0-cbdff9b37ed1\n",
      "Handle message {'connection_id': 'ac53ec32-0c36-4202-a6b0-cbdff9b37ed1', 'message_id': '07fbee6c-62bd-4e04-8181-d7d555445a6d', 'content': 'This is a response from Bob', 'state': 'received'} ac53ec32-0c36-4202-a6b0-cbdff9b37ed1\n",
      "Handle message {'connection_id': 'ac53ec32-0c36-4202-a6b0-cbdff9b37ed1', 'message_id': '0c5cfb9c-3b42-473a-9d6e-721760454821', 'content': 'This is a response from Bob', 'state': 'received'} ac53ec32-0c36-4202-a6b0-cbdff9b37ed1\n",
      "Handle message {'connection_id': 'ac53ec32-0c36-4202-a6b0-cbdff9b37ed1', 'message_id': '411859af-840a-47c9-91e7-d076ffb884bc', 'content': 'This is a response from Bob', 'state': 'received'} ac53ec32-0c36-4202-a6b0-cbdff9b37ed1\n",
      "Handle message {'connection_id': 'ac53ec32-0c36-4202-a6b0-cbdff9b37ed1', 'message_id': '1fda12ff-1613-4e94-9222-60eadfc3f727', 'content': 'This is a response from Bob', 'state': 'received'} ac53ec32-0c36-4202-a6b0-cbdff9b37ed1\n",
      "Handle message {'connection_id': 'ac53ec32-0c36-4202-a6b0-cbdff9b37ed1', 'message_id': '0ec2a487-124c-4b6f-a9e7-5c51f01438ce', 'content': 'This is a response from Bob', 'state': 'received'} ac53ec32-0c36-4202-a6b0-cbdff9b37ed1\n",
      "Handle message {'connection_id': 'ac53ec32-0c36-4202-a6b0-cbdff9b37ed1', 'message_id': 'e1756379-b1c5-4e4d-a711-77d9cae80ced', 'content': 'This is a response from Bob', 'state': 'received'} ac53ec32-0c36-4202-a6b0-cbdff9b37ed1\n",
      "Handle message {'connection_id': 'ac53ec32-0c36-4202-a6b0-cbdff9b37ed1', 'message_id': '13544c81-57ae-49d8-a770-e44fd6c122bd', 'content': 'This is a response from Bob', 'state': 'received'} ac53ec32-0c36-4202-a6b0-cbdff9b37ed1\n",
      "Handle message {'connection_id': 'ac53ec32-0c36-4202-a6b0-cbdff9b37ed1', 'message_id': 'eeba90e8-f103-40ee-b555-7052ee9cbda6', 'content': 'This is a response from Bob', 'state': 'received'} ac53ec32-0c36-4202-a6b0-cbdff9b37ed1\n",
      "Handle message {'connection_id': 'ac53ec32-0c36-4202-a6b0-cbdff9b37ed1', 'message_id': 'e5b7a44a-0a01-42fe-9efe-92e82a495d96', 'content': 'This is a response from Bob', 'state': 'received'} ac53ec32-0c36-4202-a6b0-cbdff9b37ed1\n",
      "Handle message {'connection_id': 'ac53ec32-0c36-4202-a6b0-cbdff9b37ed1', 'message_id': 'edbfc605-fcf0-482b-826a-93b32329764e', 'content': 'This is a response from Bob', 'state': 'received'} ac53ec32-0c36-4202-a6b0-cbdff9b37ed1\n",
      "Handle message {'connection_id': 'ac53ec32-0c36-4202-a6b0-cbdff9b37ed1', 'message_id': 'e5df7a98-b017-477f-9736-36af94aec5f0', 'content': 'This is a response from Bob', 'state': 'received'} ac53ec32-0c36-4202-a6b0-cbdff9b37ed1\n",
      "Handle message {'connection_id': 'ac53ec32-0c36-4202-a6b0-cbdff9b37ed1', 'message_id': '2b66587c-a8b6-4e23-a689-22d86be84b8a', 'content': 'This is a response from Bob', 'state': 'received'} ac53ec32-0c36-4202-a6b0-cbdff9b37ed1\n",
      "Handle message {'connection_id': 'ac53ec32-0c36-4202-a6b0-cbdff9b37ed1', 'message_id': '8538c84f-1906-4bbb-90c0-3a781816bf39', 'content': 'This is a response from Bob', 'state': 'received'} ac53ec32-0c36-4202-a6b0-cbdff9b37ed1\n",
      "Handle message {'connection_id': 'ac53ec32-0c36-4202-a6b0-cbdff9b37ed1', 'message_id': '800a721f-fa73-4b56-99a4-8ef8e0b8250b', 'content': 'This is a response from Bob', 'state': 'received'} ac53ec32-0c36-4202-a6b0-cbdff9b37ed1\n",
      "Handle message {'connection_id': 'ac53ec32-0c36-4202-a6b0-cbdff9b37ed1', 'message_id': 'd9f93103-1eae-417e-8266-cb7f64d7278a', 'content': 'This is a response from Bob', 'state': 'received'} ac53ec32-0c36-4202-a6b0-cbdff9b37ed1\n",
      "Handle message {'connection_id': 'ac53ec32-0c36-4202-a6b0-cbdff9b37ed1', 'message_id': '80caf4df-9b42-487d-9027-0b954cd84059', 'content': 'This is a response from Bob', 'state': 'received'} ac53ec32-0c36-4202-a6b0-cbdff9b37ed1\n",
      "Handle message {'connection_id': 'ac53ec32-0c36-4202-a6b0-cbdff9b37ed1', 'message_id': '53343595-3e85-40ba-bf58-2428186a4829', 'content': 'This is a response from Bob', 'state': 'received'} ac53ec32-0c36-4202-a6b0-cbdff9b37ed1\n",
      "Handle message {'connection_id': 'ac53ec32-0c36-4202-a6b0-cbdff9b37ed1', 'message_id': 'e5693d0f-9bd0-4af8-a886-09b88304e847', 'content': 'This is a response from Bob', 'state': 'received'} ac53ec32-0c36-4202-a6b0-cbdff9b37ed1\n",
      "Handle message {'connection_id': 'ac53ec32-0c36-4202-a6b0-cbdff9b37ed1', 'message_id': 'cbbc3145-3a10-4a30-9707-49f5cdf97443', 'content': 'This is a response from Bob', 'state': 'received'} ac53ec32-0c36-4202-a6b0-cbdff9b37ed1\n",
      "Handle message {'connection_id': 'ac53ec32-0c36-4202-a6b0-cbdff9b37ed1', 'message_id': '28d3a757-cb3b-4caa-abba-45d9d4facd25', 'content': 'This is a response from Bob', 'state': 'received'} ac53ec32-0c36-4202-a6b0-cbdff9b37ed1\n",
      "Handle message {'connection_id': 'ac53ec32-0c36-4202-a6b0-cbdff9b37ed1', 'message_id': '29f23a34-cd97-42bc-ad5a-f49ea88f9390', 'content': 'This is a response from Bob', 'state': 'received'} ac53ec32-0c36-4202-a6b0-cbdff9b37ed1\n",
      "Handle message {'connection_id': 'ac53ec32-0c36-4202-a6b0-cbdff9b37ed1', 'message_id': 'f1c93a26-e295-44b3-99fa-c22b105fcb83', 'content': 'This is a response from Bob', 'state': 'received'} ac53ec32-0c36-4202-a6b0-cbdff9b37ed1\n",
      "Handle message {'connection_id': 'ac53ec32-0c36-4202-a6b0-cbdff9b37ed1', 'message_id': 'e54bcb57-5bb3-4c0f-be2e-a2ff26f5a869', 'content': 'This is a response from Bob', 'state': 'received'} ac53ec32-0c36-4202-a6b0-cbdff9b37ed1\n",
      "Handle message {'connection_id': 'ac53ec32-0c36-4202-a6b0-cbdff9b37ed1', 'message_id': 'f7bcbb5a-f9d2-48a6-8692-f49e2f856af9', 'content': 'This is a response from Bob', 'state': 'received'} ac53ec32-0c36-4202-a6b0-cbdff9b37ed1\n",
      "Handle message {'connection_id': 'ac53ec32-0c36-4202-a6b0-cbdff9b37ed1', 'message_id': '08a39a6d-8bd0-4c3b-9570-ea6f5076aff4', 'content': 'This is a response from Bob', 'state': 'received'} ac53ec32-0c36-4202-a6b0-cbdff9b37ed1\n",
      "Handle message {'connection_id': 'ac53ec32-0c36-4202-a6b0-cbdff9b37ed1', 'message_id': '45a2331e-231b-4442-859d-5ed78fc51fc2', 'content': 'This is a response from Bob', 'state': 'received'} ac53ec32-0c36-4202-a6b0-cbdff9b37ed1\n",
      "Handle message {'connection_id': 'ac53ec32-0c36-4202-a6b0-cbdff9b37ed1', 'message_id': 'ee3c35f0-b77d-426e-a7d9-716548900e88', 'content': 'This is a response from Bob', 'state': 'received'} ac53ec32-0c36-4202-a6b0-cbdff9b37ed1\n"
     ]
    },
    {
     "name": "stdout",
     "output_type": "stream",
     "text": [
      "Handle message {'connection_id': 'ac53ec32-0c36-4202-a6b0-cbdff9b37ed1', 'message_id': 'cb3ee2bf-8471-4c3a-80df-bceb41db1f16', 'content': 'This is a response from Bob', 'state': 'received'} ac53ec32-0c36-4202-a6b0-cbdff9b37ed1\n",
      "Handle message {'connection_id': 'ac53ec32-0c36-4202-a6b0-cbdff9b37ed1', 'message_id': '5ce26b99-4734-416a-8786-55d196422dbb', 'content': 'This is a response from Bob', 'state': 'received'} ac53ec32-0c36-4202-a6b0-cbdff9b37ed1\n",
      "Handle message {'connection_id': 'ac53ec32-0c36-4202-a6b0-cbdff9b37ed1', 'message_id': '8f91e5f7-d8aa-478d-bad4-eaad7296ec83', 'content': 'This is a response from Bob', 'state': 'received'} ac53ec32-0c36-4202-a6b0-cbdff9b37ed1\n",
      "Handle message {'connection_id': 'ac53ec32-0c36-4202-a6b0-cbdff9b37ed1', 'message_id': '9af6e162-abe0-4ecc-9196-7335e9ee8308', 'content': 'This is a response from Bob', 'state': 'received'} ac53ec32-0c36-4202-a6b0-cbdff9b37ed1\n",
      "Handle message {'connection_id': 'ac53ec32-0c36-4202-a6b0-cbdff9b37ed1', 'message_id': 'ea258f5e-cd49-40f9-a2da-709164943d0a', 'content': 'This is a response from Bob', 'state': 'received'} ac53ec32-0c36-4202-a6b0-cbdff9b37ed1\n",
      "Handle message {'connection_id': 'ac53ec32-0c36-4202-a6b0-cbdff9b37ed1', 'message_id': 'f21a336e-309e-44b5-9dde-9e190fe507a3', 'content': 'This is a response from Bob', 'state': 'received'} ac53ec32-0c36-4202-a6b0-cbdff9b37ed1\n",
      "Handle message {'connection_id': 'ac53ec32-0c36-4202-a6b0-cbdff9b37ed1', 'message_id': 'f08695f5-e7f8-425d-9496-dbb41e3133dd', 'content': 'This is a response from Bob', 'state': 'received'} ac53ec32-0c36-4202-a6b0-cbdff9b37ed1\n",
      "Handle message {'connection_id': 'ac53ec32-0c36-4202-a6b0-cbdff9b37ed1', 'message_id': 'de4f2b93-0c63-4b84-8c2e-cebe83f20b98', 'content': 'This is a response from Bob', 'state': 'received'} ac53ec32-0c36-4202-a6b0-cbdff9b37ed1\n",
      "Handle message {'connection_id': 'ac53ec32-0c36-4202-a6b0-cbdff9b37ed1', 'message_id': '4efe3888-f296-492a-b207-13bd4fa44a4a', 'content': 'This is a response from Bob', 'state': 'received'} ac53ec32-0c36-4202-a6b0-cbdff9b37ed1\n",
      "Handle message {'connection_id': 'ac53ec32-0c36-4202-a6b0-cbdff9b37ed1', 'message_id': '30a63a46-a726-462f-a02c-f7a52a3e3a34', 'content': 'This is a response from Bob', 'state': 'received'} ac53ec32-0c36-4202-a6b0-cbdff9b37ed1\n",
      "Handle message {'connection_id': 'ac53ec32-0c36-4202-a6b0-cbdff9b37ed1', 'message_id': '59fc8d1c-e73f-45a6-b673-cfed0104c749', 'content': 'This is a response from Bob', 'state': 'received'} ac53ec32-0c36-4202-a6b0-cbdff9b37ed1\n",
      "Handle message {'connection_id': 'ac53ec32-0c36-4202-a6b0-cbdff9b37ed1', 'message_id': 'ffa3fedf-6b5a-4c1b-84a9-b5a5825b966e', 'content': 'This is a response from Bob', 'state': 'received'} ac53ec32-0c36-4202-a6b0-cbdff9b37ed1\n",
      "Handle message {'connection_id': 'ac53ec32-0c36-4202-a6b0-cbdff9b37ed1', 'message_id': 'b34a496a-158a-421b-a361-abae3673426d', 'content': 'This is a response from Bob', 'state': 'received'} ac53ec32-0c36-4202-a6b0-cbdff9b37ed1\n",
      "Handle message {'connection_id': 'ac53ec32-0c36-4202-a6b0-cbdff9b37ed1', 'message_id': 'e7343287-8499-4d11-ac58-089f4d64846e', 'content': 'This is a response from Bob', 'state': 'received'} ac53ec32-0c36-4202-a6b0-cbdff9b37ed1\n",
      "Handle message {'connection_id': 'ac53ec32-0c36-4202-a6b0-cbdff9b37ed1', 'message_id': '527ffaf6-1db6-4434-8b07-b7eaa72a3e90', 'content': 'This is a response from Bob', 'state': 'received'} ac53ec32-0c36-4202-a6b0-cbdff9b37ed1\n",
      "Handle message {'connection_id': 'ac53ec32-0c36-4202-a6b0-cbdff9b37ed1', 'message_id': '0f95d534-8264-4177-8551-08b6ee46e5e1', 'content': 'This is a response from Bob', 'state': 'received'} ac53ec32-0c36-4202-a6b0-cbdff9b37ed1\n",
      "Handle message {'connection_id': 'ac53ec32-0c36-4202-a6b0-cbdff9b37ed1', 'message_id': '550f8015-ca38-4544-b043-8be99d0d4e88', 'content': 'This is a response from Bob', 'state': 'received'} ac53ec32-0c36-4202-a6b0-cbdff9b37ed1\n",
      "Handle message {'connection_id': 'ac53ec32-0c36-4202-a6b0-cbdff9b37ed1', 'message_id': 'bfecb302-d73b-4cc5-ac74-d8ae8b97cf06', 'content': 'This is a response from Bob', 'state': 'received'} ac53ec32-0c36-4202-a6b0-cbdff9b37ed1\n",
      "Handle message {'connection_id': 'ac53ec32-0c36-4202-a6b0-cbdff9b37ed1', 'message_id': '522669dc-a1ae-49f4-98eb-048a911fb514', 'content': 'This is a response from Bob', 'state': 'received'} ac53ec32-0c36-4202-a6b0-cbdff9b37ed1\n",
      "Handle message {'connection_id': 'ac53ec32-0c36-4202-a6b0-cbdff9b37ed1', 'message_id': 'ac781280-a766-483a-8281-6d6d8c8656f9', 'content': 'This is a response from Bob', 'state': 'received'} ac53ec32-0c36-4202-a6b0-cbdff9b37ed1\n",
      "Handle message {'connection_id': 'ac53ec32-0c36-4202-a6b0-cbdff9b37ed1', 'message_id': 'e8fd26ce-8017-4c7c-a62f-d7d5daa4e2c2', 'content': 'This is a response from Bob', 'state': 'received'} ac53ec32-0c36-4202-a6b0-cbdff9b37ed1\n",
      "Handle message {'connection_id': 'ac53ec32-0c36-4202-a6b0-cbdff9b37ed1', 'message_id': '4c746106-1952-4d98-8822-fdc028bb55a5', 'content': 'This is a response from Bob', 'state': 'received'} ac53ec32-0c36-4202-a6b0-cbdff9b37ed1\n",
      "Handle message {'connection_id': 'ac53ec32-0c36-4202-a6b0-cbdff9b37ed1', 'message_id': '0917407d-7f24-4c4b-b491-51a9e1195065', 'content': 'This is a response from Bob', 'state': 'received'} ac53ec32-0c36-4202-a6b0-cbdff9b37ed1\n",
      "Handle message {'connection_id': 'ac53ec32-0c36-4202-a6b0-cbdff9b37ed1', 'message_id': 'a4bd553a-1170-4623-8258-053f8eebd675', 'content': 'This is a response from Bob', 'state': 'received'} ac53ec32-0c36-4202-a6b0-cbdff9b37ed1\n",
      "Handle message {'connection_id': 'ac53ec32-0c36-4202-a6b0-cbdff9b37ed1', 'message_id': '19188a61-9265-445a-bbd0-89b6d1a0b300', 'content': 'This is a response from Bob', 'state': 'received'} ac53ec32-0c36-4202-a6b0-cbdff9b37ed1\n",
      "Handle message {'connection_id': 'ac53ec32-0c36-4202-a6b0-cbdff9b37ed1', 'message_id': '8db27cd2-5e33-4b2b-a233-091357a48735', 'content': 'This is a response from Bob', 'state': 'received'} ac53ec32-0c36-4202-a6b0-cbdff9b37ed1\n",
      "Handle message {'connection_id': 'ac53ec32-0c36-4202-a6b0-cbdff9b37ed1', 'message_id': 'd1bf9938-78e5-489d-a49e-7176ebd1627f', 'content': 'This is a response from Bob', 'state': 'received'} ac53ec32-0c36-4202-a6b0-cbdff9b37ed1\n",
      "Handle message {'connection_id': 'ac53ec32-0c36-4202-a6b0-cbdff9b37ed1', 'message_id': '0a4e62dc-3010-4125-8269-5958905d7334', 'content': 'This is a response from Bob', 'state': 'received'} ac53ec32-0c36-4202-a6b0-cbdff9b37ed1\n",
      "Handle message {'connection_id': 'ac53ec32-0c36-4202-a6b0-cbdff9b37ed1', 'message_id': '49222843-ef02-4fb5-b299-a08530ccec31', 'content': 'This is a response from Bob', 'state': 'received'} ac53ec32-0c36-4202-a6b0-cbdff9b37ed1\n",
      "Handle message {'connection_id': 'ac53ec32-0c36-4202-a6b0-cbdff9b37ed1', 'message_id': 'a4be464f-b7da-4756-be64-828939504359', 'content': 'This is a response from Bob', 'state': 'received'} ac53ec32-0c36-4202-a6b0-cbdff9b37ed1\n",
      "Handle message {'connection_id': 'ac53ec32-0c36-4202-a6b0-cbdff9b37ed1', 'message_id': 'ef6dcf38-79c3-4eb7-bf01-e2dd2944cf50', 'content': 'This is a response from Bob', 'state': 'received'} ac53ec32-0c36-4202-a6b0-cbdff9b37ed1\n",
      "Handle message {'connection_id': 'ac53ec32-0c36-4202-a6b0-cbdff9b37ed1', 'message_id': '6cd0b975-2e27-4aec-9ceb-cf9a2b8aedd2', 'content': 'This is a response from Bob', 'state': 'received'} ac53ec32-0c36-4202-a6b0-cbdff9b37ed1\n",
      "Handle message {'connection_id': 'ac53ec32-0c36-4202-a6b0-cbdff9b37ed1', 'message_id': '73d5d5b1-8541-4d98-9deb-4516db5afea9', 'content': 'This is a response from Bob', 'state': 'received'} ac53ec32-0c36-4202-a6b0-cbdff9b37ed1\n",
      "Handle message {'connection_id': 'ac53ec32-0c36-4202-a6b0-cbdff9b37ed1', 'message_id': '152db8e7-e509-45c9-a003-be237fc9df6f', 'content': 'This is a response from Bob', 'state': 'received'} ac53ec32-0c36-4202-a6b0-cbdff9b37ed1\n",
      "Handle message {'connection_id': 'ac53ec32-0c36-4202-a6b0-cbdff9b37ed1', 'message_id': '8ae72bba-99e5-4227-9829-9816b45b617d', 'content': 'This is a response from Bob', 'state': 'received'} ac53ec32-0c36-4202-a6b0-cbdff9b37ed1\n",
      "Handle message {'connection_id': 'ac53ec32-0c36-4202-a6b0-cbdff9b37ed1', 'message_id': 'c2e035c7-9493-4adc-bee5-f06a7243d849', 'content': 'This is a response from Bob', 'state': 'received'} ac53ec32-0c36-4202-a6b0-cbdff9b37ed1\n",
      "Handle message {'connection_id': 'ac53ec32-0c36-4202-a6b0-cbdff9b37ed1', 'message_id': '32c15c94-db0b-46f7-be38-b4bd3a8c22fd', 'content': 'This is a response from Bob', 'state': 'received'} ac53ec32-0c36-4202-a6b0-cbdff9b37ed1\n",
      "Handle message {'connection_id': 'ac53ec32-0c36-4202-a6b0-cbdff9b37ed1', 'message_id': 'e75a843e-a814-44b8-ac01-bf67e9f0e0f3', 'content': 'This is a response from Bob', 'state': 'received'} ac53ec32-0c36-4202-a6b0-cbdff9b37ed1\n"
     ]
    },
    {
     "name": "stdout",
     "output_type": "stream",
     "text": [
      "Handle message {'connection_id': 'ac53ec32-0c36-4202-a6b0-cbdff9b37ed1', 'message_id': '9d333e1a-2735-4ca6-aebf-41fdf38448e8', 'content': 'This is a response from Bob', 'state': 'received'} ac53ec32-0c36-4202-a6b0-cbdff9b37ed1\n",
      "Handle message {'connection_id': 'ac53ec32-0c36-4202-a6b0-cbdff9b37ed1', 'message_id': '05baff4d-6bd5-4573-ae74-45ef4b77ba79', 'content': 'This is a response from Bob', 'state': 'received'} ac53ec32-0c36-4202-a6b0-cbdff9b37ed1\n",
      "Handle message {'connection_id': 'ac53ec32-0c36-4202-a6b0-cbdff9b37ed1', 'message_id': '4243583b-9452-48d4-a880-531144e10760', 'content': 'This is a response from Bob', 'state': 'received'} ac53ec32-0c36-4202-a6b0-cbdff9b37ed1\n",
      "Handle message {'connection_id': 'ac53ec32-0c36-4202-a6b0-cbdff9b37ed1', 'message_id': '9c25f9ae-e1f7-42bb-903c-6106e1d08dfd', 'content': 'This is a response from Bob', 'state': 'received'} ac53ec32-0c36-4202-a6b0-cbdff9b37ed1\n",
      "Handle message {'connection_id': 'ac53ec32-0c36-4202-a6b0-cbdff9b37ed1', 'message_id': '2ca87314-c216-4472-a07f-b7e473f5bb1a', 'content': 'This is a response from Bob', 'state': 'received'} ac53ec32-0c36-4202-a6b0-cbdff9b37ed1\n",
      "Handle message {'connection_id': 'ac53ec32-0c36-4202-a6b0-cbdff9b37ed1', 'message_id': 'ed7c9e1e-912c-47e5-8d17-336c1ccedacc', 'content': 'This is a response from Bob', 'state': 'received'} ac53ec32-0c36-4202-a6b0-cbdff9b37ed1\n",
      "Handle message {'connection_id': 'ac53ec32-0c36-4202-a6b0-cbdff9b37ed1', 'message_id': 'b3c5b815-50fb-4ac6-a590-744d6aca74de', 'content': 'This is a response from Bob', 'state': 'received'} ac53ec32-0c36-4202-a6b0-cbdff9b37ed1\n",
      "Handle message {'connection_id': 'ac53ec32-0c36-4202-a6b0-cbdff9b37ed1', 'message_id': 'dbbb4c17-fe77-42fe-9342-df94c9757bc6', 'content': 'This is a response from Bob', 'state': 'received'} ac53ec32-0c36-4202-a6b0-cbdff9b37ed1\n",
      "Handle message {'connection_id': 'ac53ec32-0c36-4202-a6b0-cbdff9b37ed1', 'message_id': 'c30f9301-a3fc-4c66-a280-2f9c68efce34', 'content': 'This is a response from Bob', 'state': 'received'} ac53ec32-0c36-4202-a6b0-cbdff9b37ed1\n",
      "Handle message {'connection_id': 'ac53ec32-0c36-4202-a6b0-cbdff9b37ed1', 'message_id': '32dee309-d0c0-4dee-837a-f3da6e6a8c66', 'content': 'This is a response from Bob', 'state': 'received'} ac53ec32-0c36-4202-a6b0-cbdff9b37ed1\n",
      "Handle message {'connection_id': 'ac53ec32-0c36-4202-a6b0-cbdff9b37ed1', 'message_id': '3419575a-c936-46fa-bcbd-d684c62674d2', 'content': 'This is a response from Bob', 'state': 'received'} ac53ec32-0c36-4202-a6b0-cbdff9b37ed1\n",
      "Handle message {'connection_id': 'ac53ec32-0c36-4202-a6b0-cbdff9b37ed1', 'message_id': '4417a085-295a-49a6-856f-55cfdd331e83', 'content': 'This is a response from Bob', 'state': 'received'} ac53ec32-0c36-4202-a6b0-cbdff9b37ed1\n",
      "Handle message {'connection_id': 'ac53ec32-0c36-4202-a6b0-cbdff9b37ed1', 'message_id': '7cdbc42d-9989-441b-a041-0d49ac2f0195', 'content': 'This is a response from Bob', 'state': 'received'} ac53ec32-0c36-4202-a6b0-cbdff9b37ed1\n",
      "Handle message {'connection_id': 'ac53ec32-0c36-4202-a6b0-cbdff9b37ed1', 'message_id': 'a5fdacf7-3eb8-4049-af25-39b9d37b0246', 'content': 'This is a response from Bob', 'state': 'received'} ac53ec32-0c36-4202-a6b0-cbdff9b37ed1\n",
      "Handle message {'connection_id': 'ac53ec32-0c36-4202-a6b0-cbdff9b37ed1', 'message_id': '0a744a02-a830-4c26-a399-e72459b9cfca', 'content': 'This is a response from Bob', 'state': 'received'} ac53ec32-0c36-4202-a6b0-cbdff9b37ed1\n",
      "Handle message {'connection_id': 'ac53ec32-0c36-4202-a6b0-cbdff9b37ed1', 'message_id': '7f3073b6-f41b-40ed-8c16-d7f219515fb0', 'content': 'This is a response from Bob', 'state': 'received'} ac53ec32-0c36-4202-a6b0-cbdff9b37ed1\n",
      "Handle message {'connection_id': 'ac53ec32-0c36-4202-a6b0-cbdff9b37ed1', 'message_id': '985c0450-d3c0-4c8b-b7d3-afcddbc7e2ed', 'content': 'This is a response from Bob', 'state': 'received'} ac53ec32-0c36-4202-a6b0-cbdff9b37ed1\n",
      "Handle message {'connection_id': 'ac53ec32-0c36-4202-a6b0-cbdff9b37ed1', 'message_id': '90dd3980-7911-4982-a353-695d4bd17fcf', 'content': 'This is a response from Bob', 'state': 'received'} ac53ec32-0c36-4202-a6b0-cbdff9b37ed1\n",
      "Handle message {'connection_id': 'ac53ec32-0c36-4202-a6b0-cbdff9b37ed1', 'message_id': '39f76005-c7e8-4be3-b5c2-4b31906de1be', 'content': 'This is a response from Bob', 'state': 'received'} ac53ec32-0c36-4202-a6b0-cbdff9b37ed1\n",
      "Handle message {'connection_id': 'ac53ec32-0c36-4202-a6b0-cbdff9b37ed1', 'message_id': 'bdf72418-5cfd-4f11-b0fa-6ae2324d7a52', 'content': 'This is a response from Bob', 'state': 'received'} ac53ec32-0c36-4202-a6b0-cbdff9b37ed1\n",
      "Handle message {'connection_id': 'ac53ec32-0c36-4202-a6b0-cbdff9b37ed1', 'message_id': '059a0ffa-88fa-4734-bf97-fb31ba2a2659', 'content': 'This is a response from Bob', 'state': 'received'} ac53ec32-0c36-4202-a6b0-cbdff9b37ed1\n",
      "Handle message {'connection_id': 'ac53ec32-0c36-4202-a6b0-cbdff9b37ed1', 'message_id': '1626fe2b-e2bb-42f7-83a0-ebc68ef4fa1a', 'content': 'This is a response from Bob', 'state': 'received'} ac53ec32-0c36-4202-a6b0-cbdff9b37ed1\n",
      "Handle message {'connection_id': 'ac53ec32-0c36-4202-a6b0-cbdff9b37ed1', 'message_id': '688c2083-3779-466a-ba40-6458a9a00401', 'content': 'This is a response from Bob', 'state': 'received'} ac53ec32-0c36-4202-a6b0-cbdff9b37ed1\n",
      "Handle message {'connection_id': 'ac53ec32-0c36-4202-a6b0-cbdff9b37ed1', 'message_id': '0b1aaa15-a92e-4272-a9e1-d3cb9d9a0cd3', 'content': 'This is a response from Bob', 'state': 'received'} ac53ec32-0c36-4202-a6b0-cbdff9b37ed1\n",
      "Handle message {'connection_id': 'ac53ec32-0c36-4202-a6b0-cbdff9b37ed1', 'message_id': 'bbf193c2-006c-46ec-86b7-fc765613c371', 'content': 'This is a response from Bob', 'state': 'received'} ac53ec32-0c36-4202-a6b0-cbdff9b37ed1\n",
      "Handle message {'connection_id': 'ac53ec32-0c36-4202-a6b0-cbdff9b37ed1', 'message_id': '77d90124-817b-436a-8f64-3f3ebfc5b8f8', 'content': 'This is a response from Bob', 'state': 'received'} ac53ec32-0c36-4202-a6b0-cbdff9b37ed1\n",
      "Handle message {'connection_id': 'ac53ec32-0c36-4202-a6b0-cbdff9b37ed1', 'message_id': 'fc068a30-c2cc-492a-b571-6dabf08a3524', 'content': 'This is a response from Bob', 'state': 'received'} ac53ec32-0c36-4202-a6b0-cbdff9b37ed1\n",
      "Handle message {'connection_id': 'ac53ec32-0c36-4202-a6b0-cbdff9b37ed1', 'message_id': '41982f9c-2b2a-4784-b9bd-4fe9a66ef42f', 'content': 'This is a response from Bob', 'state': 'received'} ac53ec32-0c36-4202-a6b0-cbdff9b37ed1\n",
      "Handle message {'connection_id': 'ac53ec32-0c36-4202-a6b0-cbdff9b37ed1', 'message_id': '8977a827-e7fd-40af-8956-a1a977ecbdae', 'content': 'This is a response from Bob', 'state': 'received'} ac53ec32-0c36-4202-a6b0-cbdff9b37ed1\n",
      "Handle message {'connection_id': 'ac53ec32-0c36-4202-a6b0-cbdff9b37ed1', 'message_id': '10d5ac16-adf0-40ff-a85c-3ccde71dc378', 'content': 'This is a response from Bob', 'state': 'received'} ac53ec32-0c36-4202-a6b0-cbdff9b37ed1\n",
      "Handle message {'connection_id': 'ac53ec32-0c36-4202-a6b0-cbdff9b37ed1', 'message_id': '2c535e09-e891-430d-b24a-62ab2e66252d', 'content': 'This is a response from Bob', 'state': 'received'} ac53ec32-0c36-4202-a6b0-cbdff9b37ed1\n",
      "Handle message {'connection_id': 'ac53ec32-0c36-4202-a6b0-cbdff9b37ed1', 'message_id': '81ace981-6aa6-402e-9fd1-ecfd1073b582', 'content': 'This is a response from Bob', 'state': 'received'} ac53ec32-0c36-4202-a6b0-cbdff9b37ed1\n",
      "Handle message {'connection_id': 'ac53ec32-0c36-4202-a6b0-cbdff9b37ed1', 'message_id': '9957cd5e-5f07-450a-b247-3818d88833cc', 'content': 'This is a response from Bob', 'state': 'received'} ac53ec32-0c36-4202-a6b0-cbdff9b37ed1\n",
      "Handle message {'connection_id': 'ac53ec32-0c36-4202-a6b0-cbdff9b37ed1', 'message_id': '5cc4aded-16ef-4ae7-a6ee-5fa729328d7a', 'content': 'This is a response from Bob', 'state': 'received'} ac53ec32-0c36-4202-a6b0-cbdff9b37ed1\n",
      "Handle message {'connection_id': 'ac53ec32-0c36-4202-a6b0-cbdff9b37ed1', 'message_id': '93d75a19-e030-4a5c-a6d2-5255c1271ad6', 'content': 'This is a response from Bob', 'state': 'received'} ac53ec32-0c36-4202-a6b0-cbdff9b37ed1\n",
      "Handle message {'connection_id': 'ac53ec32-0c36-4202-a6b0-cbdff9b37ed1', 'message_id': 'fdd63e63-b482-44b5-9ce3-f55b08f79d30', 'content': 'This is a response from Bob', 'state': 'received'} ac53ec32-0c36-4202-a6b0-cbdff9b37ed1\n",
      "Handle message {'connection_id': 'ac53ec32-0c36-4202-a6b0-cbdff9b37ed1', 'message_id': '4e6e2840-028d-4ac0-af64-48e8cc14cdab', 'content': 'This is a response from Bob', 'state': 'received'} ac53ec32-0c36-4202-a6b0-cbdff9b37ed1\n",
      "Handle message {'connection_id': 'ac53ec32-0c36-4202-a6b0-cbdff9b37ed1', 'message_id': '55eea83c-5dc8-4765-9983-d73525463836', 'content': 'This is a response from Bob', 'state': 'received'} ac53ec32-0c36-4202-a6b0-cbdff9b37ed1\n"
     ]
    },
    {
     "name": "stdout",
     "output_type": "stream",
     "text": [
      "Handle message {'connection_id': 'ac53ec32-0c36-4202-a6b0-cbdff9b37ed1', 'message_id': '7c491e46-1203-40ad-8ce7-86642cb2fd19', 'content': 'This is a response from Bob', 'state': 'received'} ac53ec32-0c36-4202-a6b0-cbdff9b37ed1\n",
      "Handle message {'connection_id': 'ac53ec32-0c36-4202-a6b0-cbdff9b37ed1', 'message_id': '0a85874a-d55a-47d4-9b7a-8eef64aa082c', 'content': 'This is a response from Bob', 'state': 'received'} ac53ec32-0c36-4202-a6b0-cbdff9b37ed1\n",
      "Handle message {'connection_id': 'ac53ec32-0c36-4202-a6b0-cbdff9b37ed1', 'message_id': 'd0f79160-7ff8-43b1-aef7-51311c4a3bc1', 'content': 'This is a response from Bob', 'state': 'received'} ac53ec32-0c36-4202-a6b0-cbdff9b37ed1\n",
      "Handle message {'connection_id': 'ac53ec32-0c36-4202-a6b0-cbdff9b37ed1', 'message_id': '41cd6fc1-680b-4a7e-9c70-8bda40ee2327', 'content': 'This is a response from Bob', 'state': 'received'} ac53ec32-0c36-4202-a6b0-cbdff9b37ed1\n",
      "Handle message {'connection_id': 'ac53ec32-0c36-4202-a6b0-cbdff9b37ed1', 'message_id': 'd9bd5685-8fe0-4ca5-8d50-9d50137febd3', 'content': 'This is a response from Bob', 'state': 'received'} ac53ec32-0c36-4202-a6b0-cbdff9b37ed1\n",
      "Handle message {'connection_id': 'ac53ec32-0c36-4202-a6b0-cbdff9b37ed1', 'message_id': '6177e3fe-d33f-4b85-ae38-4f31975768b8', 'content': 'This is a response from Bob', 'state': 'received'} ac53ec32-0c36-4202-a6b0-cbdff9b37ed1\n",
      "Handle message {'connection_id': 'ac53ec32-0c36-4202-a6b0-cbdff9b37ed1', 'message_id': 'b39c7390-9d69-4e01-9d1e-bb721fee3ea5', 'content': 'This is a response from Bob', 'state': 'received'} ac53ec32-0c36-4202-a6b0-cbdff9b37ed1\n",
      "Handle message {'connection_id': 'ac53ec32-0c36-4202-a6b0-cbdff9b37ed1', 'message_id': 'd0a971ca-48c8-4e51-9166-8fe0b666c783', 'content': 'This is a response from Bob', 'state': 'received'} ac53ec32-0c36-4202-a6b0-cbdff9b37ed1\n",
      "Handle message {'connection_id': 'ac53ec32-0c36-4202-a6b0-cbdff9b37ed1', 'message_id': 'd8d16562-a504-487d-86fb-f319a7417c99', 'content': 'This is a response from Bob', 'state': 'received'} ac53ec32-0c36-4202-a6b0-cbdff9b37ed1\n"
     ]
    }
   ],
   "source": [
    "basic_message = \"hello from Alice\"\n",
    "response = await agent_controller.messaging.send_message(connection_id, basic_message)\n",
    "print(\"BASIC MESSAGE - Alice -> Bob\")\n",
    "print(response)"
   ]
  },
  {
   "cell_type": "markdown",
   "metadata": {},
   "source": [
    "## End of Tutorial\n",
    "\n",
    "Be sure to terminate the controller so you can run another tutorial."
   ]
  },
  {
   "cell_type": "code",
   "execution_count": 7,
   "metadata": {},
   "outputs": [
    {
     "name": "stdout",
     "output_type": "stream",
     "text": [
      "Handle message {'connection_id': 'ac53ec32-0c36-4202-a6b0-cbdff9b37ed1', 'message_id': 'c3c5f504-0d1d-4c9b-88b9-b081d39d4001', 'content': 'This is a response from Bob', 'state': 'received'} ac53ec32-0c36-4202-a6b0-cbdff9b37ed1\n",
      "Handle message {'connection_id': 'ac53ec32-0c36-4202-a6b0-cbdff9b37ed1', 'message_id': '24572d9e-1b4e-41ef-b71a-44d0c8e9b30c', 'content': 'This is a response from Bob', 'state': 'received'} ac53ec32-0c36-4202-a6b0-cbdff9b37ed1\n",
      "None\n"
     ]
    }
   ],
   "source": [
    "response = await agent_controller.terminate()\n",
    "print(response)"
   ]
  },
  {
   "cell_type": "code",
   "execution_count": null,
   "metadata": {},
   "outputs": [],
   "source": []
  }
 ],
 "metadata": {
  "kernelspec": {
   "display_name": "Python 3",
   "language": "python",
   "name": "python3"
  },
  "language_info": {
   "codemirror_mode": {
    "name": "ipython",
    "version": 3
   },
   "file_extension": ".py",
   "mimetype": "text/x-python",
   "name": "python",
   "nbconvert_exporter": "python",
   "pygments_lexer": "ipython3",
   "version": "3.7.6"
  }
 },
 "nbformat": 4,
 "nbformat_minor": 4
}
