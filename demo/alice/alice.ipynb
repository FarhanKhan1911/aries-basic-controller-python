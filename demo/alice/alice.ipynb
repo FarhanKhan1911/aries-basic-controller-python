{
 "cells": [
  {
   "cell_type": "markdown",
   "metadata": {
    "pycharm": {
     "name": "#%% md\n"
    }
   },
   "source": [
    "# Aries Basic Controller Example - Alice\n",
    "# DID Exchange - Inviter\n",
    "\n",
    "In this notebook we'll be initiating the aries [DID Exchange](https://github.com/hyperledger/aries-rfcs/tree/master/features/0023-did-exchange) protocol using the aries_basic_controller package. \n",
    "\n",
    "This notebook has the following phases:\n",
    "\n",
    "1. Pull in dependencies\n",
    "2. Instantiate the controller for the aries agent (See the docker-compose.yml)\n",
    "3. Set up a listener for basicmessages events emitted by the controller when it receives a webhook\n",
    "4. Use the controller to create an invitation from our agent\n",
    "5. Copy the invitation output from 4 and move over to Bob's [notebook](http://localhost:8889)\n",
    "\n",
    "<b>Carry on in Bob's notebook</b>\n",
    "    \n",
    "12. Accept Request for Connection\n",
    "13. Send Trust Ping to Bob\n",
    "\n",
    "    \n",
    "\n"
   ]
  },
  {
   "cell_type": "markdown",
   "metadata": {
    "pycharm": {
     "name": "#%% md\n"
    }
   },
   "source": [
    "### 1. Pull in dependencies"
   ]
  },
  {
   "cell_type": "code",
   "execution_count": 1,
   "metadata": {},
   "outputs": [
    {
     "name": "stdout",
     "output_type": "stream",
     "text": [
      "IPython autoawait is `on`, and set to use `asyncio`\n"
     ]
    }
   ],
   "source": [
    "%autoawait\n",
    "import time\n",
    "import asyncio"
   ]
  },
  {
   "cell_type": "markdown",
   "metadata": {
    "pycharm": {
     "name": "#%% md\n"
    }
   },
   "source": [
    "### 2. Instatiate the controller for our Agent\n",
    "\n",
    "The arguments depend on how the aca-py agent was initiated. See the manage and docker-compose.yml files for more details."
   ]
  },
  {
   "cell_type": "code",
   "execution_count": 2,
   "metadata": {},
   "outputs": [],
   "source": [
    "from aries_basic_controller.aries_controller import AriesAgentController\n",
    "    \n",
    "WEBHOOK_HOST = \"0.0.0.0\"\n",
    "WEBHOOK_PORT = 8022\n",
    "WEBHOOK_BASE = \"\"\n",
    "ADMIN_URL = \"http://alice-agent:8021\"\n",
    "\n",
    "# Based on the aca-py agent you wish to control\n",
    "agent_controller = AriesAgentController(webhook_host=WEBHOOK_HOST, webhook_port=WEBHOOK_PORT,\n",
    "                                       webhook_base=WEBHOOK_BASE, admin_url=ADMIN_URL, connections=True)"
   ]
  },
  {
   "cell_type": "markdown",
   "metadata": {
    "pycharm": {
     "name": "#%% md\n"
    }
   },
   "source": [
    "### 3. Set up a message listener running as a service on our controller\n",
    "\n",
    "The default handlers are optional, they are used to manage state of protocol objects and print logs."
   ]
  },
  {
   "cell_type": "code",
   "execution_count": 3,
   "metadata": {},
   "outputs": [],
   "source": [
    "def messages_handler(payload):\n",
    "    connection_id = payload[\"connection_id\"]\n",
    "    asyncio.get_event_loop().create_task(agent_controller.messaging.send_message(connection_id, \"This is a response from Alice\"))\n",
    "    print(\"Handle message\", payload, connection_id)\n",
    "\n",
    "\n",
    "message_listener = {\n",
    "    \"handler\": messages_handler,\n",
    "    \"topic\": \"basicmessages\"\n",
    "}\n",
    "\n",
    "loop = asyncio.get_event_loop()\n",
    "loop.create_task(agent_controller.listen_webhooks())\n",
    "\n",
    "agent_controller.register_listeners([message_listener], defaults=True)"
   ]
  },
  {
   "cell_type": "markdown",
   "metadata": {
    "pycharm": {
     "name": "#%% md\n"
    }
   },
   "source": [
    "### 4. Use the controller to create an invitation from our agent\n"
   ]
  },
  {
   "cell_type": "code",
   "execution_count": 4,
   "metadata": {},
   "outputs": [
    {
     "name": "stdout",
     "output_type": "stream",
     "text": [
      "Connection ID a3792fc1-bf4a-4418-8a4d-88026714da25\n",
      "Invitation {'connection_id': 'a3792fc1-bf4a-4418-8a4d-88026714da25', 'invitation': {'@type': 'did:sov:BzCbsNYhMrjHiqZDTUASHg;spec/connections/1.0/invitation', '@id': '2d4d1711-8836-4b5b-a377-3254cea83cdd', 'serviceEndpoint': 'http://172.17.0.1:8020', 'label': 'Bob', 'recipientKeys': ['BhS8DZxNSCn3K2kfoKWZ2ttEsAvmNaJ5gAkmsB161kiR']}, 'invitation_url': 'http://172.17.0.1:8020?c_i=eyJAdHlwZSI6ICJkaWQ6c292OkJ6Q2JzTlloTXJqSGlxWkRUVUFTSGc7c3BlYy9jb25uZWN0aW9ucy8xLjAvaW52aXRhdGlvbiIsICJAaWQiOiAiMmQ0ZDE3MTEtODgzNi00YjViLWEzNzctMzI1NGNlYTgzY2RkIiwgInNlcnZpY2VFbmRwb2ludCI6ICJodHRwOi8vMTcyLjE3LjAuMTo4MDIwIiwgImxhYmVsIjogIkJvYiIsICJyZWNpcGllbnRLZXlzIjogWyJCaFM4RFp4TlNDbjNLMmtmb0tXWjJ0dEVzQXZtTmFKNWdBa21zQjE2MWtpUiJdfQ=='}\n"
     ]
    }
   ],
   "source": [
    "# Create Invitation\n",
    "invite = await agent_controller.connections.create_invitation()\n",
    "connection_id = invite[\"connection_id\"]\n",
    "print(\"Connection ID\", connection_id)\n",
    "print(\"Invitation\")\n",
    "print(invite)"
   ]
  },
  {
   "cell_type": "markdown",
   "metadata": {
    "pycharm": {
     "name": "#%% md\n"
    }
   },
   "source": [
    "### 5. Copy the invitation output from 4 and move over to the Bob notebook (localhost:8889) "
   ]
  },
  {
   "cell_type": "markdown",
   "metadata": {
    "pycharm": {
     "name": "#%% md\n"
    }
   },
   "source": [
    "### 11. Accept Request for Connection"
   ]
  },
  {
   "cell_type": "code",
   "execution_count": 5,
   "metadata": {
    "pycharm": {
     "name": "#%%\n"
    }
   },
   "outputs": [
    {
     "name": "stdout",
     "output_type": "stream",
     "text": [
      "True\n",
      "ACCEPT REQUEST\n",
      "{'routing_state': 'none', 'their_label': 'Alice', 'their_did': 'KeiroH5sJkLktn4xm7tHM7', 'initiator': 'self', 'invitation_key': 'BhS8DZxNSCn3K2kfoKWZ2ttEsAvmNaJ5gAkmsB161kiR', 'updated_at': '2020-07-01 09:58:38.530494Z', 'created_at': '2020-07-01 09:57:34.646282Z', 'accept': 'manual', 'invitation_mode': 'once', 'my_did': '6aYq62pzF1asiNrecF9qep', 'connection_id': 'a3792fc1-bf4a-4418-8a4d-88026714da25', 'state': 'response'}\n",
      "state response\n"
     ]
    }
   ],
   "source": [
    "# Accept Request for Invite created\n",
    "connection = await agent_controller.connections.accept_request(connection_id)\n",
    "print(\"ACCEPT REQUEST\")\n",
    "print(connection)\n",
    "print(\"state\", connection[\"state\"])"
   ]
  },
  {
   "cell_type": "markdown",
   "metadata": {
    "pycharm": {
     "name": "#%% md\n"
    }
   },
   "source": [
    "### 12. Send Trust Ping to activate the conneciton"
   ]
  },
  {
   "cell_type": "code",
   "execution_count": 6,
   "metadata": {
    "pycharm": {
     "name": "#%%\n"
    }
   },
   "outputs": [
    {
     "name": "stdout",
     "output_type": "stream",
     "text": [
      "Trust Ping {'thread_id': 'a113b624-2c8d-4d8a-a77f-efc0cd1468b8'}\n"
     ]
    }
   ],
   "source": [
    "trust_ping = await agent_controller.messaging.trust_ping(connection_id, \"hello\")\n",
    "print(\"Trust Ping\", trust_ping)"
   ]
  },
  {
   "cell_type": "markdown",
   "metadata": {
    "pycharm": {
     "name": "#%% md\n"
    }
   },
   "source": [
    "####  12.1 Check if connection is active"
   ]
  },
  {
   "cell_type": "code",
   "execution_count": 7,
   "metadata": {
    "pycharm": {
     "name": "#%%\n"
    }
   },
   "outputs": [
    {
     "name": "stdout",
     "output_type": "stream",
     "text": [
      "{'routing_state': 'none', 'their_label': 'Alice', 'their_did': 'KeiroH5sJkLktn4xm7tHM7', 'initiator': 'self', 'invitation_key': 'BhS8DZxNSCn3K2kfoKWZ2ttEsAvmNaJ5gAkmsB161kiR', 'updated_at': '2020-07-01 09:58:46.901022Z', 'created_at': '2020-07-01 09:57:34.646282Z', 'accept': 'manual', 'invitation_mode': 'once', 'my_did': '6aYq62pzF1asiNrecF9qep', 'connection_id': 'a3792fc1-bf4a-4418-8a4d-88026714da25', 'state': 'active'}\n",
      "Is Active? active\n"
     ]
    }
   ],
   "source": [
    "connection = await agent_controller.connections.get_connection(connection_id)\n",
    "print(connection)\n",
    "print(\"Is Active?\", connection[\"state\"])"
   ]
  },
  {
   "cell_type": "markdown",
   "metadata": {
    "pycharm": {
     "name": "#%% md\n"
    }
   },
   "source": [
    "###  13 Send a basic message over DIDComm channel\n",
    "\n",
    "See [aries-rfc](https://github.com/hyperledger/aries-rfcs/tree/master/features/0095-basic-message)"
   ]
  },
  {
   "cell_type": "code",
   "execution_count": 8,
   "metadata": {
    "pycharm": {
     "name": "#%%\n"
    }
   },
   "outputs": [
    {
     "name": "stdout",
     "output_type": "stream",
     "text": [
      "BASIC MESSAGE - Alice -> Bob\n",
      "{}\n"
     ]
    },
    {
     "name": "stderr",
     "output_type": "stream",
     "text": [
      "Error handling request\n",
      "Traceback (most recent call last):\n",
      "  File \"/opt/conda/lib/python3.7/site-packages/aiohttp/web_protocol.py\", line 418, in start\n",
      "    resp = await task\n",
      "  File \"/opt/conda/lib/python3.7/site-packages/aiohttp/web_app.py\", line 458, in _handle\n",
      "    resp = await handler(request)\n",
      "  File \"/aries_basic_controller/aries_controller.py\", line 59, in _receive_webhook\n",
      "    await self.handle_webhook(topic, payload)\n",
      "  File \"/aries_basic_controller/aries_controller.py\", line 65, in handle_webhook\n",
      "    pub.sendMessage(topic, payload=payload)\n",
      "  File \"/opt/conda/lib/python3.7/site-packages/pubsub/core/publisher.py\", line 216, in sendMessage\n",
      "    topicObj.publish(**msgData)\n",
      "  File \"/opt/conda/lib/python3.7/site-packages/pubsub/core/topicobj.py\", line 452, in publish\n",
      "    self.__sendMessage(msgData, topicObj, msgDataSubset)\n",
      "  File \"/opt/conda/lib/python3.7/site-packages/pubsub/core/topicobj.py\", line 482, in __sendMessage\n",
      "    listener(data, self, allData)\n",
      "  File \"/opt/conda/lib/python3.7/site-packages/pubsub/core/listener.py\", line 237, in __call__\n",
      "    cb(**kwargs)\n",
      "  File \"<ipython-input-3-60d27b41cdbd>\", line 3, in messages_handler\n",
      "    asyncio.get_event_loop().create_task(agent_controller.messages.send_message(connection_id, \"This is a response from Alice\"))\n",
      "AttributeError: 'AriesAgentController' object has no attribute 'messages'\n"
     ]
    }
   ],
   "source": [
    "message = await agent_controller.messaging.send_message(connection_id,\"hello from Alice\")\n",
    "print(\"BASIC MESSAGE - Alice -> Bob\")\n",
    "print(message)"
   ]
  },
  {
   "cell_type": "markdown",
   "metadata": {
    "pycharm": {
     "name": "#%% md"
    }
   },
   "source": []
  }
 ],
 "metadata": {
  "kernelspec": {
   "display_name": "Python 3",
   "language": "python",
   "name": "python3"
  },
  "language_info": {
   "codemirror_mode": {
    "name": "ipython",
    "version": 3
   },
   "file_extension": ".py",
   "mimetype": "text/x-python",
   "name": "python",
   "nbconvert_exporter": "python",
   "pygments_lexer": "ipython3",
   "version": "3.7.6"
  },
  "pycharm": {
   "stem_cell": {
    "cell_type": "raw",
    "metadata": {
     "collapsed": false
    },
    "source": []
   }
  }
 },
 "nbformat": 4,
 "nbformat_minor": 4
}
