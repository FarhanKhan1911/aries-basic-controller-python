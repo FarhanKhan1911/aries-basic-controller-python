{
 "cells": [
  {
   "cell_type": "markdown",
   "metadata": {
    "pycharm": {
     "name": "#%% md\n"
    }
   },
   "source": [
    "# Aries Basic Controller Example - Bob\n",
    "## DID Exchange - Invitee\n",
    "\n",
    "In this notebook we'll be responding to an invitation from Alice through our Agents. This notebook has the following phases:\n",
    "\n",
    "<b>Begin with the Alice notebook ([localhost:8888](\"http://localhost:8888\"))</b>\n",
    "\n",
    "\n",
    "6. Pull in dependencies\n",
    "7. Instatiate the controller for our Agent\n",
    "8. Set up a message listener running as a service on our controller\n",
    "9. Paste the invitation from the Alice notebook into the invitation variable here\n",
    "10. Accept the invitation\n",
    "\n",
    "<b>Carry on at the Alice side</b>\n",
    "    \n",
    "14. Send Trust Ping to the Alice\n"
   ]
  },
  {
   "cell_type": "markdown",
   "metadata": {
    "pycharm": {
     "name": "#%% md\n"
    }
   },
   "source": [
    "### 6. Pull in dependencies\n"
   ]
  },
  {
   "cell_type": "code",
   "execution_count": 1,
   "metadata": {},
   "outputs": [
    {
     "name": "stdout",
     "output_type": "stream",
     "text": [
      "IPython autoawait is `on`, and set to use `asyncio`\n"
     ]
    }
   ],
   "source": [
    "%autoawait\n",
    "import time\n",
    "import asyncio"
   ]
  },
  {
   "cell_type": "markdown",
   "metadata": {
    "pycharm": {
     "name": "#%% md\n"
    }
   },
   "source": [
    "### 7. Instatiate the controller for our Agent"
   ]
  },
  {
   "cell_type": "code",
   "execution_count": 2,
   "metadata": {},
   "outputs": [],
   "source": [
    "from aries_basic_controller.aries_controller import AriesAgentController\n",
    "    \n",
    "WEBHOOK_HOST = \"0.0.0.0\"\n",
    "WEBHOOK_PORT = 8052\n",
    "WEBHOOK_BASE = \"\"\n",
    "ADMIN_URL = \"http://bob-agent:8051\"\n",
    "\n",
    "agent_controller = AriesAgentController(webhook_host=WEBHOOK_HOST, webhook_port=WEBHOOK_PORT,\n",
    "                                       webhook_base=WEBHOOK_BASE, admin_url=ADMIN_URL, connections=True)"
   ]
  },
  {
   "cell_type": "markdown",
   "metadata": {
    "pycharm": {
     "name": "#%% md\n"
    }
   },
   "source": [
    "### 8. Set up a listener for basicmessages events emitted by the controller as it receives webhooks"
   ]
  },
  {
   "cell_type": "code",
   "execution_count": 3,
   "metadata": {},
   "outputs": [],
   "source": [
    "def messages_handler(payload):\n",
    "    connection_id = payload[\"connection_id\"]\n",
    "    print(\"Handle messages \", payload, connection_id)\n",
    "\n",
    "message_listener = {\n",
    "    \"handler\": messages_handler,\n",
    "    \"topic\": \"basicmessages\"\n",
    "}\n",
    "\n",
    "loop = asyncio.get_event_loop()\n",
    "loop.create_task(agent_controller.listen_webhooks())\n",
    "\n",
    "agent_controller.register_listeners([message_listener], defaults=True)"
   ]
  },
  {
   "cell_type": "markdown",
   "metadata": {
    "pycharm": {
     "name": "#%% md\n"
    }
   },
   "source": [
    "### 9. Paste the invitation from the Alice notebook into the invitation variable here;"
   ]
  },
  {
   "cell_type": "code",
   "execution_count": 4,
   "metadata": {},
   "outputs": [],
   "source": [
    "#Paste in invitation from Alice agent\n",
    "invite = {'connection_id': '5d465532-247d-47ce-a56f-c4ef65e7a5b9', 'invitation': {'@type': 'did:sov:BzCbsNYhMrjHiqZDTUASHg;spec/connections/1.0/invitation', '@id': '67124ffd-43f4-4161-9926-ec815f1376e3', 'recipientKeys': ['9ywxqPKtayXpyiQ7K8YedLwJq5osGpJ6HUELvdCv4hdr'], 'serviceEndpoint': 'http://172.17.0.1:8020', 'label': 'Alice'}, 'invitation_url': 'http://172.17.0.1:8020?c_i=eyJAdHlwZSI6ICJkaWQ6c292OkJ6Q2JzTlloTXJqSGlxWkRUVUFTSGc7c3BlYy9jb25uZWN0aW9ucy8xLjAvaW52aXRhdGlvbiIsICJAaWQiOiAiNjcxMjRmZmQtNDNmNC00MTYxLTk5MjYtZWM4MTVmMTM3NmUzIiwgInJlY2lwaWVudEtleXMiOiBbIjl5d3hxUEt0YXlYcHlpUTdLOFllZEx3SnE1b3NHcEo2SFVFTHZkQ3Y0aGRyIl0sICJzZXJ2aWNlRW5kcG9pbnQiOiAiaHR0cDovLzE3Mi4xNy4wLjE6ODAyMCIsICJsYWJlbCI6ICJBbGljZSJ9'}"
   ]
  },
  {
   "cell_type": "markdown",
   "metadata": {
    "pycharm": {
     "name": "#%% md\n"
    }
   },
   "source": [
    "### 10. Accept the invitation, then move to Alice's notebook"
   ]
  },
  {
   "cell_type": "code",
   "execution_count": 5,
   "metadata": {
    "pycharm": {
     "name": "#%%\n"
    }
   },
   "outputs": [
    {
     "name": "stdout",
     "output_type": "stream",
     "text": [
      "Connection {'created_at': '2020-07-03 11:44:14.565124Z', 'invitation_key': '9ywxqPKtayXpyiQ7K8YedLwJq5osGpJ6HUELvdCv4hdr', 'request_id': 'a7a7e8a8-1981-4a69-ab45-d6ea82a6dc04', 'their_label': 'Alice', 'updated_at': '2020-07-03 11:44:14.581481Z', 'accept': 'manual', 'my_did': 'WMt1wVYjkRNGsWt2jaXvLS', 'invitation_mode': 'once', 'initiator': 'external', 'connection_id': '235a8f72-feef-44b9-ad15-d417e1ceeff9', 'routing_state': 'none', 'state': 'request'}\n"
     ]
    }
   ],
   "source": [
    "# Receive Invitation\n",
    "response = await agent_controller.connections.accept_connection(invite[\"invitation\"])\n",
    "# Print out accepted Invite and Alice's connection ID\n",
    "print(\"Connection\", response)\n",
    "alice_id = response[\"connection_id\"]\n"
   ]
  },
  {
   "cell_type": "markdown",
   "metadata": {},
   "source": [
    "### 14. Send Trust Ping to the Alice"
   ]
  },
  {
   "cell_type": "code",
   "execution_count": 6,
   "metadata": {
    "pycharm": {
     "name": "#%%\n"
    }
   },
   "outputs": [
    {
     "name": "stdout",
     "output_type": "stream",
     "text": [
      "TUST PING TO ACTIVATE CONNECTION - Bob -> Alice\n",
      "{'thread_id': '757e2cc1-644f-4964-b632-c3fb2bbd5689'}\n"
     ]
    }
   ],
   "source": [
    "# Do a trust ping to ensure connection is accepted by alice\n",
    "trust_ping = await agent_controller.messaging.trust_ping(alice_id,\"hello\")\n",
    "print(\"TUST PING TO ACTIVATE CONNECTION - Bob -> Alice\")\n",
    "print(trust_ping)   "
   ]
  },
  {
   "cell_type": "markdown",
   "metadata": {},
   "source": [
    "#### 14.1 Check if connection state is active"
   ]
  },
  {
   "cell_type": "code",
   "execution_count": 6,
   "metadata": {
    "pycharm": {
     "name": "#%%\n"
    }
   },
   "outputs": [
    {
     "name": "stdout",
     "output_type": "stream",
     "text": [
      "Alice AGENT CONNECTION\n",
      "State active\n"
     ]
    }
   ],
   "source": [
    "# Print connection list\n",
    "connection = await agent_controller.connections.get_connection(alice_id)\n",
    "print(\"Alice AGENT CONNECTION\")\n",
    "print(\"State\", connection[\"state\"])"
   ]
  },
  {
   "cell_type": "markdown",
   "metadata": {},
   "source": [
    "#### 14.2 Send a basic message over e2e DIDComm channel"
   ]
  },
  {
   "cell_type": "code",
   "execution_count": 10,
   "metadata": {
    "pycharm": {
     "name": "#%%\n"
    }
   },
   "outputs": [
    {
     "name": "stdout",
     "output_type": "stream",
     "text": [
      "BASIC MESSAGE - Bob -> Alice\n",
      "{}\n"
     ]
    }
   ],
   "source": [
    "#send a basic message\n",
    "message = await agent_controller.messaging.send_message(alice_id,\"hello from bob world!\")\n",
    "print(\"BASIC MESSAGE - Bob -> Alice\")\n",
    "print(message)"
   ]
  },
  {
   "cell_type": "markdown",
   "metadata": {
    "pycharm": {
     "name": "#%% md"
    }
   },
   "source": []
  }
 ],
 "metadata": {
  "kernelspec": {
   "display_name": "Python 3",
   "language": "python",
   "name": "python3"
  },
  "language_info": {
   "codemirror_mode": {
    "name": "ipython",
    "version": 3
   },
   "file_extension": ".py",
   "mimetype": "text/x-python",
   "name": "python",
   "nbconvert_exporter": "python",
   "pygments_lexer": "ipython3",
   "version": "3.7.6"
  },
  "pycharm": {
   "stem_cell": {
    "cell_type": "raw",
    "metadata": {
     "collapsed": false
    },
    "source": []
   }
  }
 },
 "nbformat": 4,
 "nbformat_minor": 4
}
