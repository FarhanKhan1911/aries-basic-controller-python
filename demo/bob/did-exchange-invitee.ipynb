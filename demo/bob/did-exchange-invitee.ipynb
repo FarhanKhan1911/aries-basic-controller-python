{
 "cells": [
  {
   "cell_type": "markdown",
   "metadata": {
    "pycharm": {
     "name": "#%% md\n"
    }
   },
   "source": [
    "# Aries Basic Controller Example - Bob\n",
    "## DID Exchange - Invitee\n",
    "\n",
    "In this notebook we'll be responding to an invitation from Alice through our Agents. This notebook has the following phases:\n",
    "\n",
    "<b>Begin with the Alice notebook ([localhost:8888](\"http://localhost:8888\"))</b>\n",
    "\n",
    "\n",
    "6. Pull in dependencies\n",
    "7. Instatiate the controller for our Agent\n",
    "8. Set up a message listener running as a service on our controller\n",
    "9. Paste the invitation from the Alice notebook into the invitation variable here\n",
    "10. Accept the invitation\n",
    "\n",
    "<b>Carry on at the Alice side</b>\n",
    "    \n",
    "14. Send Trust Ping to the Alice\n"
   ]
  },
  {
   "cell_type": "markdown",
   "metadata": {
    "pycharm": {
     "name": "#%% md\n"
    }
   },
   "source": [
    "### 6. Pull in dependencies\n"
   ]
  },
  {
   "cell_type": "code",
   "execution_count": 1,
   "metadata": {},
   "outputs": [
    {
     "name": "stdout",
     "output_type": "stream",
     "text": [
      "IPython autoawait is `on`, and set to use `asyncio`\n"
     ]
    }
   ],
   "source": [
    "%autoawait\n",
    "import time\n",
    "import asyncio"
   ]
  },
  {
   "cell_type": "markdown",
   "metadata": {
    "pycharm": {
     "name": "#%% md\n"
    }
   },
   "source": [
    "### 7. Instatiate the controller for our Agent"
   ]
  },
  {
   "cell_type": "code",
   "execution_count": 2,
   "metadata": {},
   "outputs": [],
   "source": [
    "from aries_basic_controller.aries_controller import AriesAgentController\n",
    "    \n",
    "WEBHOOK_HOST = \"0.0.0.0\"\n",
    "WEBHOOK_PORT = 8052\n",
    "WEBHOOK_BASE = \"\"\n",
    "ADMIN_URL = \"http://bob-agent:8051\"\n",
    "\n",
    "agent_controller = AriesAgentController(webhook_host=WEBHOOK_HOST, webhook_port=WEBHOOK_PORT,\n",
    "                                       webhook_base=WEBHOOK_BASE, admin_url=ADMIN_URL, connections=True)"
   ]
  },
  {
   "cell_type": "markdown",
   "metadata": {
    "pycharm": {
     "name": "#%% md\n"
    }
   },
   "source": [
    "### 8. Set up a listener for basicmessages events emitted by the controller as it receives webhooks"
   ]
  },
  {
   "cell_type": "code",
   "execution_count": 3,
   "metadata": {},
   "outputs": [],
   "source": [
    "def messages_handler(payload):\n",
    "    connection_id = payload[\"connection_id\"]\n",
    "    print(\"Handle messages \", payload, connection_id)\n",
    "\n",
    "message_listener = {\n",
    "    \"handler\": messages_handler,\n",
    "    \"topic\": \"basicmessages\"\n",
    "}\n",
    "\n",
    "loop = asyncio.get_event_loop()\n",
    "loop.create_task(agent_controller.listen_webhooks())\n",
    "\n",
    "agent_controller.register_listeners([message_listener], defaults=True)"
   ]
  },
  {
   "cell_type": "markdown",
   "metadata": {
    "pycharm": {
     "name": "#%% md\n"
    }
   },
   "source": [
    "### 9. Paste the invitation from the Alice notebook into the invitation variable here;"
   ]
  },
  {
   "cell_type": "code",
   "execution_count": 4,
   "metadata": {},
   "outputs": [],
   "source": [
    "#Paste in invitation from Alice agent\n",
    "invite = {'connection_id': 'f6bfb182-8c02-4303-9f0d-560d457b2273', 'invitation': {'@type': 'did:sov:BzCbsNYhMrjHiqZDTUASHg;spec/connections/1.0/invitation', '@id': '2342f444-90d3-4163-8422-2e09fd68d7bf', 'serviceEndpoint': 'http://172.17.0.1:8020', 'label': 'Alice', 'recipientKeys': ['E8Mtk7Daj9uPyNDxUfDkyHPYVaRA1AXuNH8d8BmQNsiv']}, 'invitation_url': 'http://172.17.0.1:8020?c_i=eyJAdHlwZSI6ICJkaWQ6c292OkJ6Q2JzTlloTXJqSGlxWkRUVUFTSGc7c3BlYy9jb25uZWN0aW9ucy8xLjAvaW52aXRhdGlvbiIsICJAaWQiOiAiMjM0MmY0NDQtOTBkMy00MTYzLTg0MjItMmUwOWZkNjhkN2JmIiwgInNlcnZpY2VFbmRwb2ludCI6ICJodHRwOi8vMTcyLjE3LjAuMTo4MDIwIiwgImxhYmVsIjogIkFsaWNlIiwgInJlY2lwaWVudEtleXMiOiBbIkU4TXRrN0Rhajl1UHlORHhVZkRreUhQWVZhUkExQVh1Tkg4ZDhCbVFOc2l2Il19'}"
   ]
  },
  {
   "cell_type": "markdown",
   "metadata": {
    "pycharm": {
     "name": "#%% md\n"
    }
   },
   "source": [
    "### 10. Accept the invitation, then move to Alice's notebook"
   ]
  },
  {
   "cell_type": "code",
   "execution_count": 5,
   "metadata": {
    "pycharm": {
     "name": "#%%\n"
    }
   },
   "outputs": [
    {
     "name": "stdout",
     "output_type": "stream",
     "text": [
      "Connection {'state': 'request', 'invitation_mode': 'once', 'accept': 'manual', 'their_label': 'Alice', 'connection_id': '90383918-3009-4ced-b420-163c0a0ceead', 'my_did': 'PP3pUET3rqfyx3n6NuHSpR', 'invitation_key': 'E8Mtk7Daj9uPyNDxUfDkyHPYVaRA1AXuNH8d8BmQNsiv', 'initiator': 'external', 'request_id': '2635322f-5455-4426-994e-73037eeb043d', 'routing_state': 'none', 'updated_at': '2020-07-07 14:57:49.579538Z', 'created_at': '2020-07-07 14:57:49.563813Z'}\n"
     ]
    }
   ],
   "source": [
    "# Receive Invitation\n",
    "response = await agent_controller.connections.accept_connection(invite[\"invitation\"])\n",
    "# Print out accepted Invite and Alice's connection ID\n",
    "print(\"Connection\", response)\n",
    "alice_id = response[\"connection_id\"]\n"
   ]
  },
  {
   "cell_type": "markdown",
   "metadata": {},
   "source": [
    "### 14. Send Trust Ping to the Alice"
   ]
  },
  {
   "cell_type": "code",
   "execution_count": 6,
   "metadata": {
    "pycharm": {
     "name": "#%%\n"
    }
   },
   "outputs": [
    {
     "name": "stdout",
     "output_type": "stream",
     "text": [
      "TUST PING TO ACTIVATE CONNECTION - Bob -> Alice\n",
      "{'thread_id': '757e2cc1-644f-4964-b632-c3fb2bbd5689'}\n"
     ]
    }
   ],
   "source": [
    "# Do a trust ping to ensure connection is accepted by alice\n",
    "trust_ping = await agent_controller.messaging.trust_ping(alice_id,\"hello\")\n",
    "print(\"TUST PING TO ACTIVATE CONNECTION - Bob -> Alice\")\n",
    "print(trust_ping)   "
   ]
  },
  {
   "cell_type": "markdown",
   "metadata": {},
   "source": [
    "#### 14.1 Check if connection state is active"
   ]
  },
  {
   "cell_type": "code",
   "execution_count": 6,
   "metadata": {
    "pycharm": {
     "name": "#%%\n"
    }
   },
   "outputs": [
    {
     "name": "stdout",
     "output_type": "stream",
     "text": [
      "Alice AGENT CONNECTION\n",
      "State active\n"
     ]
    }
   ],
   "source": [
    "# Print connection list\n",
    "connection = await agent_controller.connections.get_connection(alice_id)\n",
    "print(\"Alice AGENT CONNECTION\")\n",
    "print(\"State\", connection[\"state\"])"
   ]
  },
  {
   "cell_type": "markdown",
   "metadata": {},
   "source": [
    "#### 14.2 Send a basic message over e2e DIDComm channel"
   ]
  },
  {
   "cell_type": "code",
   "execution_count": 10,
   "metadata": {
    "pycharm": {
     "name": "#%%\n"
    }
   },
   "outputs": [
    {
     "name": "stdout",
     "output_type": "stream",
     "text": [
      "BASIC MESSAGE - Bob -> Alice\n",
      "{}\n"
     ]
    }
   ],
   "source": [
    "#send a basic message\n",
    "message = await agent_controller.messaging.send_message(alice_id,\"hello from bob world!\")\n",
    "print(\"BASIC MESSAGE - Bob -> Alice\")\n",
    "print(message)"
   ]
  },
  {
   "cell_type": "code",
   "execution_count": 6,
   "metadata": {},
   "outputs": [
    {
     "name": "stdout",
     "output_type": "stream",
     "text": [
      "{'results': [{'thread_id': 'f176df38-f9a6-46f7-a894-44ebfc633519', 'trace': False, 'credential_definition_id': 'PQRXDxdGqQGSZ8z69p4xZP:3:CL:10:default', 'auto_issue': False, 'auto_remove': True, 'credential_proposal_dict': {'@type': 'did:sov:BzCbsNYhMrjHiqZDTUASHg;spec/issue-credential/1.0/propose-credential', '@id': 'bbeafd1a-4e09-4981-9200-9d522c7031f1', 'comment': 'create automated credential exchange', 'schema_id': 'PQRXDxdGqQGSZ8z69p4xZP:2:open_mined_contributor:0.0.1', 'cred_def_id': 'PQRXDxdGqQGSZ8z69p4xZP:3:CL:10:default', 'credential_proposal': {'@type': 'did:sov:BzCbsNYhMrjHiqZDTUASHg;spec/issue-credential/1.0/credential-preview', 'attributes': [{'name': 'name', 'value': 'Bob'}, {'name': 'skill', 'value': 'researcher'}]}}, 'state': 'offer_received', 'credential_offer': {'schema_id': 'PQRXDxdGqQGSZ8z69p4xZP:2:open_mined_contributor:0.0.1', 'cred_def_id': 'PQRXDxdGqQGSZ8z69p4xZP:3:CL:10:default', 'key_correctness_proof': {'c': '97136431841517236056383965410503472951566378926335800932408379071563243927643', 'xz_cap': '3076608075197366007532141968036691788157751926422352618280521086465968378702850812551351531781362631501340919704435626963197898581376423609462852257077805381152270308544614158497499016885376224116124431449413964392460855937942086845571110756861438011440694890388371570612609560599980972073965826124021236581224606040022881106662096689340188923085755417363000308449707436307065155821375677801699045068027427908531577905152497646204852133124601911550797937597517473758322121704463691924147075412913934176980599640646737738205903025119231509540456210881452643692227657684117608357692636172544942489913621380804001812519898774794563283862340745709004244450335339221037217645628279702504097474090673', 'xr_cap': [['name', '1905641866697665434363309924465166916186358555323757947149951162963221223834485813725630218724809354814600390620457689211527618483795866405578956386252954933526306023893366191151038631530150589642197552018601712540866965961712565459768362067129885120379706472121532392309303723704695289719229036383892501542584027765755440634075320838730797872706579428676283578963292528558103233938668408598442585727363498946294783653777996723011514297703217200351140340668381816468715918870811435606257652123371841952661386072145632305328158369654686289293693000779610716804264943219061455299542125112565492034022543090014438070087045893766747443066804929656033382252216618091751851932803467073307484860040137'], ['master_secret', '2152620027558824900156749242991861019004386199801484146084904872229676174894087210992444424112857201282872483410996299075427041506482651395850048910943342796040277037154563736913721571304122158076758407296740483756958185681899379623330352954624806730477651895896002915448338324001001352257678562454130461298955763939627896379441667411535726089099106565924235931208600147779605324732369647971864351948566859791134728573047670468871873061963840624815834148926776247700372827402115702261704886746171371814777300585886647576917064908043339023738876595278502435424937187000959786191678943622736501679269708616821530510739863350677345667246045514129773273890635326292341419103414247412150544145860513'], ['skill', '1136735100411966950184082199405039739714194757494735126017274370150508572110311932447654439085429280702032573430819097277621774281116963099806405856984466639644734174170314012546540890673529450725051739663369314930382454510184915598877011896370583514488626508058676031071121151376674703168631286454665144426667802604636444356592291521081482357881450851181820983106562903349927653162001034370748273975166734704845887828027968193343762062336276720421713259639948657121114474546042470607685220462405359039725038105647120034645480297591793265970917677630913829394212639131479243078370673652502941460362795698351758079783261071304666259178422184240425329770360489400431340521969012461977160986521711']]}, 'nonce': '367470759099530473812577'}, 'role': 'holder', 'credential_exchange_id': '753aa83a-8a40-45b2-8737-61fcf83ede56', 'connection_id': '90383918-3009-4ced-b420-163c0a0ceead', 'schema_id': 'PQRXDxdGqQGSZ8z69p4xZP:2:open_mined_contributor:0.0.1', 'updated_at': '2020-07-07 14:58:42.748148Z', 'created_at': '2020-07-07 14:58:42.748148Z', 'auto_offer': False, 'initiator': 'external'}]}\n"
     ]
    }
   ],
   "source": [
    "response = await agent_controller.issuer.get_records()\n",
    "print(response)"
   ]
  },
  {
   "cell_type": "markdown",
   "metadata": {
    "pycharm": {
     "name": "#%% md"
    }
   },
   "source": []
  }
 ],
 "metadata": {
  "kernelspec": {
   "display_name": "Python 3",
   "language": "python",
   "name": "python3"
  },
  "language_info": {
   "codemirror_mode": {
    "name": "ipython",
    "version": 3
   },
   "file_extension": ".py",
   "mimetype": "text/x-python",
   "name": "python",
   "nbconvert_exporter": "python",
   "pygments_lexer": "ipython3",
   "version": "3.7.6"
  },
  "pycharm": {
   "stem_cell": {
    "cell_type": "raw",
    "metadata": {
     "collapsed": false
    },
    "source": []
   }
  }
 },
 "nbformat": 4,
 "nbformat_minor": 4
}
