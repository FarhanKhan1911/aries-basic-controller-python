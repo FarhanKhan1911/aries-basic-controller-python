{
 "cells": [
  {
   "cell_type": "markdown",
   "metadata": {
    "pycharm": {
     "name": "#%% md\n"
    }
   },
   "source": [
    "# Aries Basic Controller Example - Bob\n",
    "## DID Exchange - Invitee\n",
    "\n",
    "In this notebook we'll be responding to an invitation from Alice through our Agents. This notebook has the following phases:\n",
    "\n",
    "<b>Begin with the Alice notebook ([localhost:8888](\"http://localhost:8888\"))</b>\n",
    "\n",
    "\n",
    "6. Pull in dependencies\n",
    "7. Instatiate the controller for our Agent\n",
    "8. Set up a message listener running as a service on our controller\n",
    "9. Paste the invitation from the Alice notebook into the invitation variable here\n",
    "10. Accept the invitation\n",
    "\n",
    "<b>Carry on at the Alice side</b>\n",
    "    \n",
    "14. Send Trust Ping to the Alice\n"
   ]
  },
  {
   "cell_type": "markdown",
   "metadata": {
    "pycharm": {
     "name": "#%% md\n"
    }
   },
   "source": [
    "### 6. Pull in dependencies\n"
   ]
  },
  {
   "cell_type": "code",
   "execution_count": 1,
   "metadata": {},
   "outputs": [
    {
     "name": "stdout",
     "output_type": "stream",
     "text": [
      "IPython autoawait is `on`, and set to use `asyncio`\n"
     ]
    }
   ],
   "source": [
    "%autoawait\n",
    "import time\n",
    "import asyncio"
   ]
  },
  {
   "cell_type": "markdown",
   "metadata": {
    "pycharm": {
     "name": "#%% md\n"
    }
   },
   "source": [
    "### 7. Instatiate the controller for our Agent"
   ]
  },
  {
   "cell_type": "code",
   "execution_count": 2,
   "metadata": {},
   "outputs": [],
   "source": [
    "from aries_basic_controller.aries_controller import AriesAgentController\n",
    "    \n",
    "WEBHOOK_HOST = \"0.0.0.0\"\n",
    "WEBHOOK_PORT = 8052\n",
    "WEBHOOK_BASE = \"\"\n",
    "ADMIN_URL = \"http://bob-agent:8051\"\n",
    "\n",
    "agent_controller = AriesAgentController(webhook_host=WEBHOOK_HOST, webhook_port=WEBHOOK_PORT,\n",
    "                                       webhook_base=WEBHOOK_BASE, admin_url=ADMIN_URL, connections=True)"
   ]
  },
  {
   "cell_type": "markdown",
   "metadata": {
    "pycharm": {
     "name": "#%% md\n"
    }
   },
   "source": [
    "### 8. Set up a listener for basicmessages events emitted by the controller as it receives webhooks"
   ]
  },
  {
   "cell_type": "code",
   "execution_count": 3,
   "metadata": {},
   "outputs": [],
   "source": [
    "def messages_handler(payload):\n",
    "    connection_id = payload[\"connection_id\"]\n",
    "    print(\"Handle messages \", payload, connection_id)\n",
    "\n",
    "message_listener = {\n",
    "    \"handler\": messages_handler,\n",
    "    \"topic\": \"basicmessages\"\n",
    "}\n",
    "\n",
    "loop = asyncio.get_event_loop()\n",
    "loop.create_task(agent_controller.listen_webhooks())\n",
    "\n",
    "agent_controller.register_listeners([message_listener], defaults=True)"
   ]
  },
  {
   "cell_type": "markdown",
   "metadata": {
    "pycharm": {
     "name": "#%% md\n"
    }
   },
   "source": [
    "### 9. Paste the invitation from the Alice notebook into the invitation variable here;"
   ]
  },
  {
   "cell_type": "code",
   "execution_count": 5,
   "metadata": {},
   "outputs": [],
   "source": [
    "#Paste in invitation from Alice agent\n",
    "invite =  {'connection_id': 'a3792fc1-bf4a-4418-8a4d-88026714da25', 'invitation': {'@type': 'did:sov:BzCbsNYhMrjHiqZDTUASHg;spec/connections/1.0/invitation', '@id': '2d4d1711-8836-4b5b-a377-3254cea83cdd', 'serviceEndpoint': 'http://172.17.0.1:8020', 'label': 'Bob', 'recipientKeys': ['BhS8DZxNSCn3K2kfoKWZ2ttEsAvmNaJ5gAkmsB161kiR']}, 'invitation_url': 'http://172.17.0.1:8020?c_i=eyJAdHlwZSI6ICJkaWQ6c292OkJ6Q2JzTlloTXJqSGlxWkRUVUFTSGc7c3BlYy9jb25uZWN0aW9ucy8xLjAvaW52aXRhdGlvbiIsICJAaWQiOiAiMmQ0ZDE3MTEtODgzNi00YjViLWEzNzctMzI1NGNlYTgzY2RkIiwgInNlcnZpY2VFbmRwb2ludCI6ICJodHRwOi8vMTcyLjE3LjAuMTo4MDIwIiwgImxhYmVsIjogIkJvYiIsICJyZWNpcGllbnRLZXlzIjogWyJCaFM4RFp4TlNDbjNLMmtmb0tXWjJ0dEVzQXZtTmFKNWdBa21zQjE2MWtpUiJdfQ=='}"
   ]
  },
  {
   "cell_type": "markdown",
   "metadata": {
    "pycharm": {
     "name": "#%% md\n"
    }
   },
   "source": [
    "### 10. Accept the invitation, then move to Alice's notebook"
   ]
  },
  {
   "cell_type": "code",
   "execution_count": 6,
   "metadata": {
    "pycharm": {
     "name": "#%%\n"
    }
   },
   "outputs": [
    {
     "name": "stdout",
     "output_type": "stream",
     "text": [
      "{'routing_state': 'none', 'their_label': 'Bob', 'connection_id': 'db9a91eb-5ad8-40ac-a4ed-c77e968953a2', 'updated_at': '2020-07-01 09:58:12.119219Z', 'created_at': '2020-07-01 09:58:12.096308Z', 'request_id': '568592fb-142b-4585-a4fe-76e0c0ec32d9', 'my_did': 'KeiroH5sJkLktn4xm7tHM7', 'accept': 'manual', 'invitation_mode': 'once', 'state': 'request', 'initiator': 'external', 'invitation_key': 'BhS8DZxNSCn3K2kfoKWZ2ttEsAvmNaJ5gAkmsB161kiR'}\n",
      "Connection {'routing_state': 'none', 'their_label': 'Bob', 'connection_id': 'db9a91eb-5ad8-40ac-a4ed-c77e968953a2', 'updated_at': '2020-07-01 09:58:12.119219Z', 'created_at': '2020-07-01 09:58:12.096308Z', 'request_id': '568592fb-142b-4585-a4fe-76e0c0ec32d9', 'my_did': 'KeiroH5sJkLktn4xm7tHM7', 'accept': 'manual', 'invitation_mode': 'once', 'state': 'request', 'initiator': 'external', 'invitation_key': 'BhS8DZxNSCn3K2kfoKWZ2ttEsAvmNaJ5gAkmsB161kiR'}\n",
      "Handle messages  {'connection_id': 'db9a91eb-5ad8-40ac-a4ed-c77e968953a2', 'message_id': 'ab96d723-eb9b-4fe8-b519-752b0d568e08', 'content': 'hello from Alice', 'state': 'received'} db9a91eb-5ad8-40ac-a4ed-c77e968953a2\n"
     ]
    }
   ],
   "source": [
    "# Receive Invitation\n",
    "response = await agent_controller.connections.accept_connection(invite[\"invitation\"])\n",
    "# Print out accepted Invite and Alice's connection ID\n",
    "print(\"Connection\", response)\n",
    "alice_id = response[\"connection_id\"]\n"
   ]
  },
  {
   "cell_type": "markdown",
   "metadata": {},
   "source": [
    "### 14. Send Trust Ping to the Alice"
   ]
  },
  {
   "cell_type": "code",
   "execution_count": null,
   "metadata": {
    "pycharm": {
     "name": "#%%\n"
    }
   },
   "outputs": [],
   "source": [
    "# Do a trust ping to ensure connection is accepted by alice\n",
    "trust_ping = await agent_controller.messaging.trust_ping(alice_id,\"hello\")\n",
    "print(\"TUST PING TO ACTIVATE CONNECTION - Bob -> Alice\")\n",
    "print(trust_ping)   "
   ]
  },
  {
   "cell_type": "markdown",
   "metadata": {},
   "source": [
    "#### 14.1 Check if connection state is active"
   ]
  },
  {
   "cell_type": "code",
   "execution_count": null,
   "metadata": {
    "pycharm": {
     "name": "#%%\n"
    }
   },
   "outputs": [],
   "source": [
    "# Print connection list\n",
    "connection = await agent_controller.connections.get_connection(researcher_id)\n",
    "print(\"Alice AGENT CONNECTION\")\n",
    "print(\"State\", connection[\"state\"])"
   ]
  },
  {
   "cell_type": "markdown",
   "metadata": {},
   "source": [
    "#### 14.2 Send a basic message over e2e DIDComm channel"
   ]
  },
  {
   "cell_type": "code",
   "execution_count": null,
   "metadata": {
    "pycharm": {
     "name": "#%%\n"
    }
   },
   "outputs": [],
   "source": [
    "#send a basic message\n",
    "message = await agent_controller.messaging.send_message(alice_id,\"hello from bob world!\")\n",
    "print(\"BASIC MESSAGE - Bob -> Alice\")\n",
    "print(message)"
   ]
  },
  {
   "cell_type": "markdown",
   "metadata": {
    "pycharm": {
     "name": "#%% md"
    }
   },
   "source": []
  }
 ],
 "metadata": {
  "kernelspec": {
   "display_name": "Python 3",
   "language": "python",
   "name": "python3"
  },
  "language_info": {
   "codemirror_mode": {
    "name": "ipython",
    "version": 3
   },
   "file_extension": ".py",
   "mimetype": "text/x-python",
   "name": "python",
   "nbconvert_exporter": "python",
   "pygments_lexer": "ipython3",
   "version": "3.7.6"
  },
  "pycharm": {
   "stem_cell": {
    "cell_type": "raw",
    "metadata": {
     "collapsed": false
    },
    "source": []
   }
  }
 },
 "nbformat": 4,
 "nbformat_minor": 4
}
