{
 "cells": [
  {
   "cell_type": "code",
   "execution_count": 1,
   "metadata": {},
   "outputs": [
    {
     "name": "stdout",
     "output_type": "stream",
     "text": [
      "IPython autoawait is `on`, and set to use `asyncio`\n"
     ]
    }
   ],
   "source": [
    "%autoawait"
   ]
  },
  {
   "cell_type": "code",
   "execution_count": 1,
   "metadata": {},
   "outputs": [],
   "source": [
    "import time\n",
    "import asyncio"
   ]
  },
  {
   "cell_type": "code",
   "execution_count": 2,
   "metadata": {},
   "outputs": [],
   "source": [
    "from aries_basic_controller.aries_controller import AriesAgentController\n",
    "    \n",
    "WEBHOOK_HOST = \"0.0.0.0\"\n",
    "WEBHOOK_PORT = 8052\n",
    "WEBHOOK_BASE = \"/\"\n",
    "ADMIN_URL = \"http://researcher-agent:8051\""
   ]
  },
  {
   "cell_type": "code",
   "execution_count": 3,
   "metadata": {},
   "outputs": [],
   "source": [
    "#Paste in invitation from data_owner agent\n",
    "invite = {'connection_id': 'eb1393e0-5dc9-4664-8aff-09dbf391c56a', 'invitation': {'@type': 'did:sov:BzCbsNYhMrjHiqZDTUASHg;spec/connections/1.0/invitation', '@id': 'b423d228-4a25-4737-8fd9-0a3d98db0de5', 'serviceEndpoint': 'http://172.17.0.1:8020', 'label': 'Bob', 'recipientKeys': ['9ESaimEAx2Z3HSvj3QjmfktCHNpbsVDFjv4CvLfFs44T']}, 'invitation_url': 'http://172.17.0.1:8020?c_i=eyJAdHlwZSI6ICJkaWQ6c292OkJ6Q2JzTlloTXJqSGlxWkRUVUFTSGc7c3BlYy9jb25uZWN0aW9ucy8xLjAvaW52aXRhdGlvbiIsICJAaWQiOiAiYjQyM2QyMjgtNGEyNS00NzM3LThmZDktMGEzZDk4ZGIwZGU1IiwgInNlcnZpY2VFbmRwb2ludCI6ICJodHRwOi8vMTcyLjE3LjAuMTo4MDIwIiwgImxhYmVsIjogIkJvYiIsICJyZWNpcGllbnRLZXlzIjogWyI5RVNhaW1FQXgyWjNIU3ZqM1FqbWZrdENITnBic1ZERmp2NEN2TGZGczQ0VCJdfQ=='}\n"
   ]
  },
  {
   "cell_type": "code",
   "execution_count": 4,
   "metadata": {},
   "outputs": [],
   "source": [
    "async def start_agent():\n",
    "    # Based on the aca-py agent you wish to control\n",
    "    agent_controller = AriesAgentController(webhook_host=WEBHOOK_HOST, webhook_port=WEBHOOK_PORT,\n",
    "                                           webhook_base=WEBHOOK_BASE, admin_url=ADMIN_URL, connections=True)\n",
    "    \n",
    "    def research_messages_hook(payload):\n",
    "        connection_id = payload[\"connection_id\"]\n",
    "        print(\"Handle research messages \", payload, connection_id)\n",
    "\n",
    "    research_message_listener = {\n",
    "        \"handler\": research_messages_hook,\n",
    "        \"topic\": \"basicmessages\"\n",
    "    }\n",
    "    \n",
    "#     def data_messages_hook(payload):\n",
    "#         connection_id = payload[\"connection_id\"]\n",
    "#         print(\"Handle data messages \", payload, connection_id)\n",
    "\n",
    "\n",
    "#     data_message_listener = {\n",
    "#         \"handler\": data_messages_hook,\n",
    "#         \"topic\": \"basicmessages\"\n",
    "#     }\n",
    "    \n",
    "    \n",
    "    await agent_controller.listen_webhooks()\n",
    "    \n",
    "    # Controllers re-emit webhooks as events through PyPubSub\n",
    "    # Basic state management is handled through defaults but you can choose to pass in custom handlers\n",
    "    agent_controller.register_listeners([research_message_listener], defaults=True)\n",
    "    \n",
    "    # Receive Invitation\n",
    "    response = await agent_controller.connections.accept_connection(invite[\"invitation\"])\n",
    "    print(response)\n",
    "    \n",
    "    # Print out accepted Invite and Researcher ID\n",
    "    print(\"Researcher ID\", response[\"connection_id\"])\n",
    "    researcher_id = response[\"connection_id\"]\n",
    "    print(\"Invite Accepted\")\n",
    "    print(response)\n",
    "    \n",
    "    await asyncio.sleep(30)\n",
    "    # Do a trust ping to ensure connection is accepted by data_owner\n",
    "    trust_ping = await agent_controller.connections.trust_ping(researcher_id,\"hello\")\n",
    "    print(\"TUST PING TO ACTIVATE CONNECTION - RESEARCH -> DATA\")\n",
    "    print(trust_ping)    \n",
    "    \n",
    "    # Print connection list\n",
    "    connection = await agent_controller.connections.get_connection(researcher_id)\n",
    "    print(\"RESEARCH AGENT CONNECTION\")\n",
    "    print(connection)\n",
    "\n",
    "    #send some basic messages\n",
    "    message = await agent_controller.connections.send_message(researcher_id,\"hello from researcher world!\")\n",
    "    print(\"BASIC MESSAGE - RESEARCH -> DATA\")\n",
    "    print(message)"
   ]
  },
  {
   "cell_type": "code",
   "execution_count": 5,
   "metadata": {},
   "outputs": [
    {
     "name": "stdout",
     "output_type": "stream",
     "text": [
      "ACCEPTED CONNECTION -  {'initiator': 'external', 'updated_at': '2020-06-25 12:16:40.796847Z', 'their_label': 'Bob', 'my_did': 'VRyDcavRzEYjeZP1Lat7AF', 'created_at': '2020-06-25 12:16:40.772995Z', 'accept': 'manual', 'request_id': '768d92d3-165e-43bc-b2d3-172530d49d0d', 'invitation_mode': 'once', 'invitation_key': '9ESaimEAx2Z3HSvj3QjmfktCHNpbsVDFjv4CvLfFs44T', 'routing_state': 'none', 'connection_id': '912a05c7-45cb-4cbc-b95b-5befd73ba5b8', 'state': 'request'}\n",
      "{'initiator': 'external', 'updated_at': '2020-06-25 12:16:40.796847Z', 'their_label': 'Bob', 'my_did': 'VRyDcavRzEYjeZP1Lat7AF', 'created_at': '2020-06-25 12:16:40.772995Z', 'accept': 'manual', 'request_id': '768d92d3-165e-43bc-b2d3-172530d49d0d', 'invitation_mode': 'once', 'invitation_key': '9ESaimEAx2Z3HSvj3QjmfktCHNpbsVDFjv4CvLfFs44T', 'routing_state': 'none', 'connection_id': '912a05c7-45cb-4cbc-b95b-5befd73ba5b8', 'state': 'request'}\n",
      "Researcher ID 912a05c7-45cb-4cbc-b95b-5befd73ba5b8\n",
      "Invite Accepted\n",
      "{'initiator': 'external', 'updated_at': '2020-06-25 12:16:40.796847Z', 'their_label': 'Bob', 'my_did': 'VRyDcavRzEYjeZP1Lat7AF', 'created_at': '2020-06-25 12:16:40.772995Z', 'accept': 'manual', 'request_id': '768d92d3-165e-43bc-b2d3-172530d49d0d', 'invitation_mode': 'once', 'invitation_key': '9ESaimEAx2Z3HSvj3QjmfktCHNpbsVDFjv4CvLfFs44T', 'routing_state': 'none', 'connection_id': '912a05c7-45cb-4cbc-b95b-5befd73ba5b8', 'state': 'request'}\n",
      "TUST PING TO ACTIVATE CONNECTION - RESEARCH -> DATA\n",
      "{'thread_id': '61fdf68d-ed9f-4c54-9a18-7633d56417a1'}\n",
      "RESEARCH AGENT CONNECTION\n",
      "{'initiator': 'external', 'updated_at': '2020-06-25 12:17:00.781762Z', 'their_label': 'Bob', 'my_did': 'VRyDcavRzEYjeZP1Lat7AF', 'created_at': '2020-06-25 12:16:40.772995Z', 'accept': 'manual', 'their_did': 'Cruo3McSwV2SxSkHemVp4', 'request_id': '768d92d3-165e-43bc-b2d3-172530d49d0d', 'invitation_mode': 'once', 'invitation_key': '9ESaimEAx2Z3HSvj3QjmfktCHNpbsVDFjv4CvLfFs44T', 'routing_state': 'none', 'connection_id': '912a05c7-45cb-4cbc-b95b-5befd73ba5b8', 'state': 'active'}\n",
      "BASIC MESSAGE - RESEARCH -> DATA\n",
      "{}\n",
      "Script executed in 30.09 seconds.\n"
     ]
    }
   ],
   "source": [
    "async def main():\n",
    "    await asyncio.gather(start_agent())\n",
    "\n",
    "s = time.perf_counter()\n",
    "await main()\n",
    "elapsed = time.perf_counter() - s\n",
    "print(f\"Script executed in {elapsed:0.2f} seconds.\")"
   ]
  },
  {
   "cell_type": "code",
   "execution_count": null,
   "metadata": {},
   "outputs": [],
   "source": [
    "# if __name__ == \"__main__\":\n",
    "\n",
    "#     try:\n",
    "#         asyncio.get_event_loop().run_until_complete(start_agent())\n",
    "#     except KeyboardInterrupt:\n",
    "#         os._exit(1)"
   ]
  }
 ],
 "metadata": {
  "kernelspec": {
   "display_name": "Python 3",
   "language": "python",
   "name": "python3"
  },
  "language_info": {
   "codemirror_mode": {
    "name": "ipython",
    "version": 3
   },
   "file_extension": ".py",
   "mimetype": "text/x-python",
   "name": "python",
   "nbconvert_exporter": "python",
   "pygments_lexer": "ipython3",
   "version": "3.7.6"
  }
 },
 "nbformat": 4,
 "nbformat_minor": 4
}
