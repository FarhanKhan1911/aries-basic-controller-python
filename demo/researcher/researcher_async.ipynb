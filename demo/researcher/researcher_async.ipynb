{
 "cells": [
  {
   "cell_type": "code",
   "execution_count": 1,
   "metadata": {},
   "outputs": [
    {
     "name": "stdout",
     "output_type": "stream",
     "text": [
      "IPython autoawait is `on`, and set to use `asyncio`\n"
     ]
    }
   ],
   "source": [
    "%autoawait"
   ]
  },
  {
   "cell_type": "code",
   "execution_count": 2,
   "metadata": {},
   "outputs": [],
   "source": [
    "import time\n",
    "import asyncio"
   ]
  },
  {
   "cell_type": "code",
   "execution_count": 3,
   "metadata": {},
   "outputs": [],
   "source": [
    "from aries_basic_controller.aries_controller import AriesAgentController\n",
    "    \n",
    "WEBHOOK_HOST = \"0.0.0.0\"\n",
    "WEBHOOK_PORT = 8052\n",
    "WEBHOOK_BASE = \"\"\n",
    "ADMIN_URL = \"http://researcher-agent:8051\""
   ]
  },
  {
   "cell_type": "code",
   "execution_count": null,
   "metadata": {},
   "outputs": [],
   "source": [
    "agent_controller = AriesAgentController(webhook_host=WEBHOOK_HOST, webhook_port=WEBHOOK_PORT,\n",
    "                                       webhook_base=WEBHOOK_BASE, admin_url=ADMIN_URL, connections=True)\n",
    "\n",
    "def research_messages_hook(payload):\n",
    "    connection_id = payload[\"connection_id\"]\n",
    "    print(\"Handle research messages \", payload, connection_id)\n",
    "\n",
    "research_message_listener = {\n",
    "    \"handler\": research_messages_hook,\n",
    "    \"topic\": \"basicmessages\"\n",
    "}\n",
    "\n"
   ]
  },
  {
   "cell_type": "code",
   "execution_count": 7,
   "metadata": {
    "scrolled": true
   },
   "outputs": [
    {
     "data": {
      "text/plain": [
       "<Task pending coro=<AriesAgentController.listen_webhooks() running at /opt/conda/lib/python3.7/site-packages/aries_basic_controller/aries_controller.py:42>>"
      ]
     },
     "execution_count": 7,
     "metadata": {},
     "output_type": "execute_result"
    }
   ],
   "source": [
    "loop = asyncio.get_event_loop()\n",
    "loop.create_task(agent_controller.listen_webhooks())"
   ]
  },
  {
   "cell_type": "code",
   "execution_count": 8,
   "metadata": {},
   "outputs": [],
   "source": [
    "agent_controller.register_listeners([research_message_listener], defaults=True)"
   ]
  },
  {
   "cell_type": "code",
   "execution_count": 9,
   "metadata": {},
   "outputs": [],
   "source": [
    "#Paste in invitation from data_owner agent\n",
    "invite = {'connection_id': '1ef4764f-b40c-498f-a8ae-ead9637fbdd9', 'invitation': {'@type': 'did:sov:BzCbsNYhMrjHiqZDTUASHg;spec/connections/1.0/invitation', '@id': '177c7dfb-2adc-4f06-a306-dfae75c6574e', 'label': 'Bob', 'serviceEndpoint': 'http://172.17.0.1:8020', 'recipientKeys': ['4f8A5rUKLXFMHPtxXCMZN6MCWDsSAB4d3TC7UMcf4Ree']}, 'invitation_url': 'http://172.17.0.1:8020?c_i=eyJAdHlwZSI6ICJkaWQ6c292OkJ6Q2JzTlloTXJqSGlxWkRUVUFTSGc7c3BlYy9jb25uZWN0aW9ucy8xLjAvaW52aXRhdGlvbiIsICJAaWQiOiAiMTc3YzdkZmItMmFkYy00ZjA2LWEzMDYtZGZhZTc1YzY1NzRlIiwgImxhYmVsIjogIkJvYiIsICJzZXJ2aWNlRW5kcG9pbnQiOiAiaHR0cDovLzE3Mi4xNy4wLjE6ODAyMCIsICJyZWNpcGllbnRLZXlzIjogWyI0ZjhBNXJVS0xYRk1IUHR4WENNWk42TUNXRHNTQUI0ZDNUQzdVTWNmNFJlZSJdfQ=='}\n",
    "\n",
    "\n"
   ]
  },
  {
   "cell_type": "code",
   "execution_count": 10,
   "metadata": {},
   "outputs": [
    {
     "name": "stdout",
     "output_type": "stream",
     "text": [
      "ACCEPTED CONNECTION -  {'invitation_mode': 'once', 'my_did': '2Qbiw2yuNDpxtX8CHwKCze', 'state': 'request', 'request_id': 'aa515ad5-8f30-413d-b5fa-cf890c37657c', 'accept': 'manual', 'connection_id': '82ac9c5c-8fe6-4dc0-b4fa-c2e7a4e0d390', 'invitation_key': '4f8A5rUKLXFMHPtxXCMZN6MCWDsSAB4d3TC7UMcf4Ree', 'their_label': 'Bob', 'updated_at': '2020-06-25 15:10:19.618431Z', 'initiator': 'external', 'routing_state': 'none', 'created_at': '2020-06-25 15:10:19.599577Z'}\n",
      "{'invitation_mode': 'once', 'my_did': '2Qbiw2yuNDpxtX8CHwKCze', 'state': 'request', 'request_id': 'aa515ad5-8f30-413d-b5fa-cf890c37657c', 'accept': 'manual', 'connection_id': '82ac9c5c-8fe6-4dc0-b4fa-c2e7a4e0d390', 'invitation_key': '4f8A5rUKLXFMHPtxXCMZN6MCWDsSAB4d3TC7UMcf4Ree', 'their_label': 'Bob', 'updated_at': '2020-06-25 15:10:19.618431Z', 'initiator': 'external', 'routing_state': 'none', 'created_at': '2020-06-25 15:10:19.599577Z'}\n",
      "Connection {'invitation_mode': 'once', 'my_did': '2Qbiw2yuNDpxtX8CHwKCze', 'state': 'request', 'request_id': 'aa515ad5-8f30-413d-b5fa-cf890c37657c', 'accept': 'manual', 'connection_id': '82ac9c5c-8fe6-4dc0-b4fa-c2e7a4e0d390', 'invitation_key': '4f8A5rUKLXFMHPtxXCMZN6MCWDsSAB4d3TC7UMcf4Ree', 'their_label': 'Bob', 'updated_at': '2020-06-25 15:10:19.618431Z', 'initiator': 'external', 'routing_state': 'none', 'created_at': '2020-06-25 15:10:19.599577Z'}\n"
     ]
    }
   ],
   "source": [
    "# Receive Invitation\n",
    "response = await agent_controller.connections.accept_connection(invite[\"invitation\"])\n",
    "print(response)\n",
    "# Print out accepted Invite and Researcher ID\n",
    "print(\"Connection\", response)\n",
    "researcher_id = response[\"connection_id\"]\n"
   ]
  },
  {
   "cell_type": "code",
   "execution_count": 11,
   "metadata": {},
   "outputs": [
    {
     "name": "stdout",
     "output_type": "stream",
     "text": [
      "TUST PING TO ACTIVATE CONNECTION - RESEARCH -> DATA\n",
      "{'thread_id': '3bf126bd-66dd-44df-8703-436a739c4b21'}\n"
     ]
    }
   ],
   "source": [
    "# Do a trust ping to ensure connection is accepted by data_owner\n",
    "trust_ping = await agent_controller.connections.trust_ping(researcher_id,\"hello\")\n",
    "print(\"TUST PING TO ACTIVATE CONNECTION - RESEARCH -> DATA\")\n",
    "print(trust_ping)   "
   ]
  },
  {
   "cell_type": "code",
   "execution_count": 12,
   "metadata": {},
   "outputs": [
    {
     "name": "stdout",
     "output_type": "stream",
     "text": [
      "RESEARCH AGENT CONNECTION\n",
      "{'invitation_mode': 'once', 'my_did': '2Qbiw2yuNDpxtX8CHwKCze', 'their_did': '48RxqgaB7ywbPqMpTqxg2Z', 'state': 'active', 'request_id': 'aa515ad5-8f30-413d-b5fa-cf890c37657c', 'accept': 'manual', 'connection_id': '82ac9c5c-8fe6-4dc0-b4fa-c2e7a4e0d390', 'invitation_key': '4f8A5rUKLXFMHPtxXCMZN6MCWDsSAB4d3TC7UMcf4Ree', 'their_label': 'Bob', 'updated_at': '2020-06-25 15:10:42.639789Z', 'initiator': 'external', 'routing_state': 'none', 'created_at': '2020-06-25 15:10:19.599577Z'}\n"
     ]
    }
   ],
   "source": [
    "# Print connection list\n",
    "connection = await agent_controller.connections.get_connection(researcher_id)\n",
    "print(\"RESEARCH AGENT CONNECTION\")\n",
    "print(connection)"
   ]
  },
  {
   "cell_type": "code",
   "execution_count": 16,
   "metadata": {},
   "outputs": [
    {
     "name": "stdout",
     "output_type": "stream",
     "text": [
      "Handle research messages  {'connection_id': '82ac9c5c-8fe6-4dc0-b4fa-c2e7a4e0d390', 'message_id': '15ede282-9a90-485c-b542-3ff3fda17f64', 'content': 'hello from data owner world! WOOPWOOP', 'state': 'received'} 82ac9c5c-8fe6-4dc0-b4fa-c2e7a4e0d390\n",
      "Handle research messages  {'connection_id': '82ac9c5c-8fe6-4dc0-b4fa-c2e7a4e0d390', 'message_id': '8ac4ed37-cebe-4cbc-9ac2-567285a60dc1', 'content': 'THIS IS MY RESPONSE - DATA AGENT', 'state': 'received'} 82ac9c5c-8fe6-4dc0-b4fa-c2e7a4e0d390\n",
      "Handle research messages  {'connection_id': '82ac9c5c-8fe6-4dc0-b4fa-c2e7a4e0d390', 'message_id': '6d70e70c-4fa5-4e42-8ca1-e022e28c4ad9', 'content': 'THIS IS MY RESPONSE - DATA AGENT', 'state': 'received'} 82ac9c5c-8fe6-4dc0-b4fa-c2e7a4e0d390\n",
      "Handle research messages  {'connection_id': '82ac9c5c-8fe6-4dc0-b4fa-c2e7a4e0d390', 'message_id': 'dfd39131-76f8-430e-8817-456b4465308a', 'content': 'THIS IS MY RESPONSE - DATA AGENT', 'state': 'received'} 82ac9c5c-8fe6-4dc0-b4fa-c2e7a4e0d390\n",
      "BASIC MESSAGE - RESEARCH -> DATA\n",
      "{}\n"
     ]
    }
   ],
   "source": [
    "#send some basic messages\n",
    "message = await agent_controller.connections.send_message(researcher_id,\"hello from researcher world!\")\n",
    "print(\"BASIC MESSAGE - RESEARCH -> DATA\")\n",
    "print(message)"
   ]
  }
 ],
 "metadata": {
  "kernelspec": {
   "display_name": "Python 3",
   "language": "python",
   "name": "python3"
  },
  "language_info": {
   "codemirror_mode": {
    "name": "ipython",
    "version": 3
   },
   "file_extension": ".py",
   "mimetype": "text/x-python",
   "name": "python",
   "nbconvert_exporter": "python",
   "pygments_lexer": "ipython3",
   "version": "3.7.6"
  },
  "pycharm": {
   "stem_cell": {
    "cell_type": "raw",
    "metadata": {
     "collapsed": false
    },
    "source": []
   }
  }
 },
 "nbformat": 4,
 "nbformat_minor": 4
}
