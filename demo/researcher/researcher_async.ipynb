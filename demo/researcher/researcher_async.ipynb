{
 "cells": [
  {
   "cell_type": "code",
   "execution_count": 1,
   "metadata": {},
   "outputs": [
    {
     "name": "stdout",
     "output_type": "stream",
     "text": [
      "IPython autoawait is `on`, and set to use `asyncio`\n"
     ]
    }
   ],
   "source": [
    "%autoawait"
   ]
  },
  {
   "cell_type": "code",
   "execution_count": 2,
   "metadata": {},
   "outputs": [],
   "source": [
    "import time\n",
    "import asyncio"
   ]
  },
  {
   "cell_type": "code",
   "execution_count": 3,
   "metadata": {},
   "outputs": [],
   "source": [
    "from aries_basic_controller.aries_controller import AriesAgentController\n",
    "    \n",
    "WEBHOOK_HOST = \"0.0.0.0\"\n",
    "WEBHOOK_PORT = 8052\n",
    "WEBHOOK_BASE = \"/\"\n",
    "ADMIN_URL = \"http://researcher-agent:8051\""
   ]
  },
  {
   "cell_type": "code",
   "execution_count": 4,
   "metadata": {},
   "outputs": [],
   "source": [
    "#Paste in invitation from data_owner agent\n",
    "invite = {'connection_id': '95e91f5d-3b56-4d36-9a74-ee17568d7b17', 'invitation': {'@type': 'did:sov:BzCbsNYhMrjHiqZDTUASHg;spec/connections/1.0/invitation', '@id': '5dde53f0-fd0e-4467-813f-a29da9e3994f', 'recipientKeys': ['8WaYDnM4YYP8ECakf5dTVNbZQuvHTNgVeuZRosHru8Uq'], 'serviceEndpoint': 'http://192.168.65.3:8020', 'label': 'Bob'}, 'invitation_url': 'http://192.168.65.3:8020?c_i=eyJAdHlwZSI6ICJkaWQ6c292OkJ6Q2JzTlloTXJqSGlxWkRUVUFTSGc7c3BlYy9jb25uZWN0aW9ucy8xLjAvaW52aXRhdGlvbiIsICJAaWQiOiAiNWRkZTUzZjAtZmQwZS00NDY3LTgxM2YtYTI5ZGE5ZTM5OTRmIiwgInJlY2lwaWVudEtleXMiOiBbIjhXYVlEbk00WVlQOEVDYWtmNWRUVk5iWlF1dkhUTmdWZXVaUm9zSHJ1OFVxIl0sICJzZXJ2aWNlRW5kcG9pbnQiOiAiaHR0cDovLzE5Mi4xNjguNjUuMzo4MDIwIiwgImxhYmVsIjogIkJvYiJ9'}"
   ]
  },
  {
   "cell_type": "code",
   "execution_count": 5,
   "metadata": {},
   "outputs": [],
   "source": [
    "async def start_agent():\n",
    "    # Based on the aca-py agent you wish to control\n",
    "    agent_controller = AriesAgentController(webhook_host=WEBHOOK_HOST, webhook_port=WEBHOOK_PORT,\n",
    "                                           webhook_base=WEBHOOK_BASE, admin_url=ADMIN_URL, connections=True)\n",
    "    \n",
    "    def research_messages_hook(payload):\n",
    "        connection_id = payload[\"connection_id\"]\n",
    "        print(\"Handle research messages \", payload, connection_id)\n",
    "\n",
    "    research_message_listener = {\n",
    "        \"handler\": research_messages_hook,\n",
    "        \"topic\": \"basicmessages\"\n",
    "    }\n",
    "    \n",
    "#     def data_messages_hook(payload):\n",
    "#         connection_id = payload[\"connection_id\"]\n",
    "#         print(\"Handle data messages \", payload, connection_id)\n",
    "\n",
    "\n",
    "#     data_message_listener = {\n",
    "#         \"handler\": data_messages_hook,\n",
    "#         \"topic\": \"basicmessages\"\n",
    "#     }\n",
    "    \n",
    "    \n",
    "    await agent_controller.listen_webhooks()\n",
    "    \n",
    "    # Controllers re-emit webhooks as events through PyPubSub\n",
    "    # Basic state management is handled through defaults but you can choose to pass in custom handlers\n",
    "    agent_controller.register_listeners([research_message_listener], defaults=True)\n",
    "    \n",
    "    # Receive Invitation\n",
    "    response = await agent_controller.connections.accept_connection(invite[\"invitation\"])\n",
    "    print(response)\n",
    "    \n",
    "    # Print out accepted Invite and Researcher ID\n",
    "    print(\"Researcher ID\", response[\"connection_id\"])\n",
    "    researcher_id = response[\"connection_id\"]\n",
    "    print(\"Invite Accepted\")\n",
    "    print(response)\n",
    "    \n",
    "    await asyncio.sleep(30)\n",
    "    # Do a trust ping to ensure connection is accepted by data_owner\n",
    "    trust_ping = await agent_controller.connections.trust_ping(researcher_id,\"hello\")\n",
    "    print(\"TUST PING TO ACTIVATE CONNECTION - RESEARCH -> DATA\")\n",
    "    print(trust_ping)    \n",
    "    \n",
    "    # Print connection list\n",
    "    connection = await agent_controller.connections.get_connection(researcher_id)\n",
    "    print(\"RESEARCH AGENT CONNECTION\")\n",
    "    print(connection)\n",
    "\n",
    "    #send some basic messages\n",
    "    message = await agent_controller.connections.send_message(researcher_id,\"hello from researcher world!\")\n",
    "    print(\"BASIC MESSAGE - RESEARCH -> DATA\")\n",
    "    print(message)"
   ]
  },
  {
   "cell_type": "code",
   "execution_count": 6,
   "metadata": {},
   "outputs": [
    {
     "name": "stdout",
     "output_type": "stream",
     "text": [
      "ACCEPTED CONNECTION -  {'updated_at': '2020-06-24 21:31:16.418515Z', 'invitation_key': '8WaYDnM4YYP8ECakf5dTVNbZQuvHTNgVeuZRosHru8Uq', 'state': 'request', 'created_at': '2020-06-24 21:31:16.387151Z', 'accept': 'manual', 'initiator': 'external', 'routing_state': 'none', 'invitation_mode': 'once', 'connection_id': '1fd25eda-ae38-48b7-b094-fc0f526dd4a4', 'their_label': 'Bob', 'request_id': '43d8e342-12d5-4aea-9380-b0a91812c16f', 'my_did': 'UwKxBXxdvWG8pqBzqBDZTy'}\n",
      "{'updated_at': '2020-06-24 21:31:16.418515Z', 'invitation_key': '8WaYDnM4YYP8ECakf5dTVNbZQuvHTNgVeuZRosHru8Uq', 'state': 'request', 'created_at': '2020-06-24 21:31:16.387151Z', 'accept': 'manual', 'initiator': 'external', 'routing_state': 'none', 'invitation_mode': 'once', 'connection_id': '1fd25eda-ae38-48b7-b094-fc0f526dd4a4', 'their_label': 'Bob', 'request_id': '43d8e342-12d5-4aea-9380-b0a91812c16f', 'my_did': 'UwKxBXxdvWG8pqBzqBDZTy'}\n",
      "Researcher ID 1fd25eda-ae38-48b7-b094-fc0f526dd4a4\n",
      "Invite Accepted\n",
      "{'updated_at': '2020-06-24 21:31:16.418515Z', 'invitation_key': '8WaYDnM4YYP8ECakf5dTVNbZQuvHTNgVeuZRosHru8Uq', 'state': 'request', 'created_at': '2020-06-24 21:31:16.387151Z', 'accept': 'manual', 'initiator': 'external', 'routing_state': 'none', 'invitation_mode': 'once', 'connection_id': '1fd25eda-ae38-48b7-b094-fc0f526dd4a4', 'their_label': 'Bob', 'request_id': '43d8e342-12d5-4aea-9380-b0a91812c16f', 'my_did': 'UwKxBXxdvWG8pqBzqBDZTy'}\n",
      "TUST PING TO ACTIVATE CONNECTION - RESEARCH -> DATA\n",
      "{'thread_id': '6920b826-9284-4d96-aab8-c4146600d2bf'}\n",
      "RESEARCH AGENT CONNECTION\n",
      "{'updated_at': '2020-06-24 21:31:37.239036Z', 'invitation_key': '8WaYDnM4YYP8ECakf5dTVNbZQuvHTNgVeuZRosHru8Uq', 'state': 'active', 'created_at': '2020-06-24 21:31:16.387151Z', 'their_did': 'VAX9Ui58cUVnSatZYq2XTe', 'accept': 'manual', 'initiator': 'external', 'routing_state': 'none', 'invitation_mode': 'once', 'connection_id': '1fd25eda-ae38-48b7-b094-fc0f526dd4a4', 'their_label': 'Bob', 'request_id': '43d8e342-12d5-4aea-9380-b0a91812c16f', 'my_did': 'UwKxBXxdvWG8pqBzqBDZTy'}\n",
      "BASIC MESSAGE - RESEARCH -> DATA\n",
      "{}\n",
      "Script executed in 30.11 seconds.\n"
     ]
    }
   ],
   "source": [
    "async def main():\n",
    "    await asyncio.gather(start_agent())\n",
    "\n",
    "s = time.perf_counter()\n",
    "await main()\n",
    "elapsed = time.perf_counter() - s\n",
    "print(f\"Script executed in {elapsed:0.2f} seconds.\")"
   ]
  },
  {
   "cell_type": "code",
   "execution_count": null,
   "metadata": {},
   "outputs": [],
   "source": [
    "# if __name__ == \"__main__\":\n",
    "\n",
    "#     try:\n",
    "#         asyncio.get_event_loop().run_until_complete(start_agent())\n",
    "#     except KeyboardInterrupt:\n",
    "#         os._exit(1)"
   ]
  }
 ],
 "metadata": {
  "kernelspec": {
   "display_name": "Python 3",
   "language": "python",
   "name": "python3"
  },
  "language_info": {
   "codemirror_mode": {
    "name": "ipython",
    "version": 3
   },
   "file_extension": ".py",
   "mimetype": "text/x-python",
   "name": "python",
   "nbconvert_exporter": "python",
   "pygments_lexer": "ipython3",
   "version": "3.7.6"
  }
 },
 "nbformat": 4,
 "nbformat_minor": 4
}